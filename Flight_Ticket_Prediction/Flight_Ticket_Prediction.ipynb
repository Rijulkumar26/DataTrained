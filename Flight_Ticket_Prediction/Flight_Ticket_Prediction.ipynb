{
 "cells": [
  {
   "cell_type": "code",
   "execution_count": 1,
   "id": "80e038c9",
   "metadata": {},
   "outputs": [],
   "source": [
    "import numpy as np\n",
    "import pandas as pd\n",
    "import seaborn as sns\n",
    "import matplotlib.pyplot as plt\n",
    "\n",
    "import warnings\n",
    "warnings.filterwarnings('ignore')"
   ]
  },
  {
   "cell_type": "markdown",
   "id": "6cfbc96c",
   "metadata": {},
   "source": [
    "## EDA:"
   ]
  },
  {
   "cell_type": "code",
   "execution_count": 2,
   "id": "d584d91d",
   "metadata": {},
   "outputs": [],
   "source": [
    "df1 = pd.read_excel('Data_Train.xlsx')\n",
    "df2 = pd.read_excel('Test_set.xlsx')"
   ]
  },
  {
   "cell_type": "code",
   "execution_count": 3,
   "id": "0001bcb5",
   "metadata": {},
   "outputs": [
    {
     "data": {
      "text/html": [
       "<div>\n",
       "<style scoped>\n",
       "    .dataframe tbody tr th:only-of-type {\n",
       "        vertical-align: middle;\n",
       "    }\n",
       "\n",
       "    .dataframe tbody tr th {\n",
       "        vertical-align: top;\n",
       "    }\n",
       "\n",
       "    .dataframe thead th {\n",
       "        text-align: right;\n",
       "    }\n",
       "</style>\n",
       "<table border=\"1\" class=\"dataframe\">\n",
       "  <thead>\n",
       "    <tr style=\"text-align: right;\">\n",
       "      <th></th>\n",
       "      <th>Airline</th>\n",
       "      <th>Date_of_Journey</th>\n",
       "      <th>Source</th>\n",
       "      <th>Destination</th>\n",
       "      <th>Route</th>\n",
       "      <th>Dep_Time</th>\n",
       "      <th>Arrival_Time</th>\n",
       "      <th>Duration</th>\n",
       "      <th>Total_Stops</th>\n",
       "      <th>Additional_Info</th>\n",
       "      <th>Price</th>\n",
       "    </tr>\n",
       "  </thead>\n",
       "  <tbody>\n",
       "    <tr>\n",
       "      <th>0</th>\n",
       "      <td>IndiGo</td>\n",
       "      <td>24/03/2019</td>\n",
       "      <td>Banglore</td>\n",
       "      <td>New Delhi</td>\n",
       "      <td>BLR → DEL</td>\n",
       "      <td>22:20</td>\n",
       "      <td>01:10 22 Mar</td>\n",
       "      <td>2h 50m</td>\n",
       "      <td>non-stop</td>\n",
       "      <td>No info</td>\n",
       "      <td>3897</td>\n",
       "    </tr>\n",
       "    <tr>\n",
       "      <th>1</th>\n",
       "      <td>Air India</td>\n",
       "      <td>1/05/2019</td>\n",
       "      <td>Kolkata</td>\n",
       "      <td>Banglore</td>\n",
       "      <td>CCU → IXR → BBI → BLR</td>\n",
       "      <td>05:50</td>\n",
       "      <td>13:15</td>\n",
       "      <td>7h 25m</td>\n",
       "      <td>2 stops</td>\n",
       "      <td>No info</td>\n",
       "      <td>7662</td>\n",
       "    </tr>\n",
       "    <tr>\n",
       "      <th>2</th>\n",
       "      <td>Jet Airways</td>\n",
       "      <td>9/06/2019</td>\n",
       "      <td>Delhi</td>\n",
       "      <td>Cochin</td>\n",
       "      <td>DEL → LKO → BOM → COK</td>\n",
       "      <td>09:25</td>\n",
       "      <td>04:25 10 Jun</td>\n",
       "      <td>19h</td>\n",
       "      <td>2 stops</td>\n",
       "      <td>No info</td>\n",
       "      <td>13882</td>\n",
       "    </tr>\n",
       "    <tr>\n",
       "      <th>3</th>\n",
       "      <td>IndiGo</td>\n",
       "      <td>12/05/2019</td>\n",
       "      <td>Kolkata</td>\n",
       "      <td>Banglore</td>\n",
       "      <td>CCU → NAG → BLR</td>\n",
       "      <td>18:05</td>\n",
       "      <td>23:30</td>\n",
       "      <td>5h 25m</td>\n",
       "      <td>1 stop</td>\n",
       "      <td>No info</td>\n",
       "      <td>6218</td>\n",
       "    </tr>\n",
       "    <tr>\n",
       "      <th>4</th>\n",
       "      <td>IndiGo</td>\n",
       "      <td>01/03/2019</td>\n",
       "      <td>Banglore</td>\n",
       "      <td>New Delhi</td>\n",
       "      <td>BLR → NAG → DEL</td>\n",
       "      <td>16:50</td>\n",
       "      <td>21:35</td>\n",
       "      <td>4h 45m</td>\n",
       "      <td>1 stop</td>\n",
       "      <td>No info</td>\n",
       "      <td>13302</td>\n",
       "    </tr>\n",
       "    <tr>\n",
       "      <th>...</th>\n",
       "      <td>...</td>\n",
       "      <td>...</td>\n",
       "      <td>...</td>\n",
       "      <td>...</td>\n",
       "      <td>...</td>\n",
       "      <td>...</td>\n",
       "      <td>...</td>\n",
       "      <td>...</td>\n",
       "      <td>...</td>\n",
       "      <td>...</td>\n",
       "      <td>...</td>\n",
       "    </tr>\n",
       "    <tr>\n",
       "      <th>10678</th>\n",
       "      <td>Air Asia</td>\n",
       "      <td>9/04/2019</td>\n",
       "      <td>Kolkata</td>\n",
       "      <td>Banglore</td>\n",
       "      <td>CCU → BLR</td>\n",
       "      <td>19:55</td>\n",
       "      <td>22:25</td>\n",
       "      <td>2h 30m</td>\n",
       "      <td>non-stop</td>\n",
       "      <td>No info</td>\n",
       "      <td>4107</td>\n",
       "    </tr>\n",
       "    <tr>\n",
       "      <th>10679</th>\n",
       "      <td>Air India</td>\n",
       "      <td>27/04/2019</td>\n",
       "      <td>Kolkata</td>\n",
       "      <td>Banglore</td>\n",
       "      <td>CCU → BLR</td>\n",
       "      <td>20:45</td>\n",
       "      <td>23:20</td>\n",
       "      <td>2h 35m</td>\n",
       "      <td>non-stop</td>\n",
       "      <td>No info</td>\n",
       "      <td>4145</td>\n",
       "    </tr>\n",
       "    <tr>\n",
       "      <th>10680</th>\n",
       "      <td>Jet Airways</td>\n",
       "      <td>27/04/2019</td>\n",
       "      <td>Banglore</td>\n",
       "      <td>Delhi</td>\n",
       "      <td>BLR → DEL</td>\n",
       "      <td>08:20</td>\n",
       "      <td>11:20</td>\n",
       "      <td>3h</td>\n",
       "      <td>non-stop</td>\n",
       "      <td>No info</td>\n",
       "      <td>7229</td>\n",
       "    </tr>\n",
       "    <tr>\n",
       "      <th>10681</th>\n",
       "      <td>Vistara</td>\n",
       "      <td>01/03/2019</td>\n",
       "      <td>Banglore</td>\n",
       "      <td>New Delhi</td>\n",
       "      <td>BLR → DEL</td>\n",
       "      <td>11:30</td>\n",
       "      <td>14:10</td>\n",
       "      <td>2h 40m</td>\n",
       "      <td>non-stop</td>\n",
       "      <td>No info</td>\n",
       "      <td>12648</td>\n",
       "    </tr>\n",
       "    <tr>\n",
       "      <th>10682</th>\n",
       "      <td>Air India</td>\n",
       "      <td>9/05/2019</td>\n",
       "      <td>Delhi</td>\n",
       "      <td>Cochin</td>\n",
       "      <td>DEL → GOI → BOM → COK</td>\n",
       "      <td>10:55</td>\n",
       "      <td>19:15</td>\n",
       "      <td>8h 20m</td>\n",
       "      <td>2 stops</td>\n",
       "      <td>No info</td>\n",
       "      <td>11753</td>\n",
       "    </tr>\n",
       "  </tbody>\n",
       "</table>\n",
       "<p>10683 rows × 11 columns</p>\n",
       "</div>"
      ],
      "text/plain": [
       "           Airline Date_of_Journey    Source Destination  \\\n",
       "0           IndiGo      24/03/2019  Banglore   New Delhi   \n",
       "1        Air India       1/05/2019   Kolkata    Banglore   \n",
       "2      Jet Airways       9/06/2019     Delhi      Cochin   \n",
       "3           IndiGo      12/05/2019   Kolkata    Banglore   \n",
       "4           IndiGo      01/03/2019  Banglore   New Delhi   \n",
       "...            ...             ...       ...         ...   \n",
       "10678     Air Asia       9/04/2019   Kolkata    Banglore   \n",
       "10679    Air India      27/04/2019   Kolkata    Banglore   \n",
       "10680  Jet Airways      27/04/2019  Banglore       Delhi   \n",
       "10681      Vistara      01/03/2019  Banglore   New Delhi   \n",
       "10682    Air India       9/05/2019     Delhi      Cochin   \n",
       "\n",
       "                       Route Dep_Time  Arrival_Time Duration Total_Stops  \\\n",
       "0                  BLR → DEL    22:20  01:10 22 Mar   2h 50m    non-stop   \n",
       "1      CCU → IXR → BBI → BLR    05:50         13:15   7h 25m     2 stops   \n",
       "2      DEL → LKO → BOM → COK    09:25  04:25 10 Jun      19h     2 stops   \n",
       "3            CCU → NAG → BLR    18:05         23:30   5h 25m      1 stop   \n",
       "4            BLR → NAG → DEL    16:50         21:35   4h 45m      1 stop   \n",
       "...                      ...      ...           ...      ...         ...   \n",
       "10678              CCU → BLR    19:55         22:25   2h 30m    non-stop   \n",
       "10679              CCU → BLR    20:45         23:20   2h 35m    non-stop   \n",
       "10680              BLR → DEL    08:20         11:20       3h    non-stop   \n",
       "10681              BLR → DEL    11:30         14:10   2h 40m    non-stop   \n",
       "10682  DEL → GOI → BOM → COK    10:55         19:15   8h 20m     2 stops   \n",
       "\n",
       "      Additional_Info  Price  \n",
       "0             No info   3897  \n",
       "1             No info   7662  \n",
       "2             No info  13882  \n",
       "3             No info   6218  \n",
       "4             No info  13302  \n",
       "...               ...    ...  \n",
       "10678         No info   4107  \n",
       "10679         No info   4145  \n",
       "10680         No info   7229  \n",
       "10681         No info  12648  \n",
       "10682         No info  11753  \n",
       "\n",
       "[10683 rows x 11 columns]"
      ]
     },
     "execution_count": 3,
     "metadata": {},
     "output_type": "execute_result"
    }
   ],
   "source": [
    "df1"
   ]
  },
  {
   "cell_type": "code",
   "execution_count": 4,
   "id": "caee1945",
   "metadata": {},
   "outputs": [
    {
     "data": {
      "text/html": [
       "<div>\n",
       "<style scoped>\n",
       "    .dataframe tbody tr th:only-of-type {\n",
       "        vertical-align: middle;\n",
       "    }\n",
       "\n",
       "    .dataframe tbody tr th {\n",
       "        vertical-align: top;\n",
       "    }\n",
       "\n",
       "    .dataframe thead th {\n",
       "        text-align: right;\n",
       "    }\n",
       "</style>\n",
       "<table border=\"1\" class=\"dataframe\">\n",
       "  <thead>\n",
       "    <tr style=\"text-align: right;\">\n",
       "      <th></th>\n",
       "      <th>Airline</th>\n",
       "      <th>Date_of_Journey</th>\n",
       "      <th>Source</th>\n",
       "      <th>Destination</th>\n",
       "      <th>Route</th>\n",
       "      <th>Dep_Time</th>\n",
       "      <th>Arrival_Time</th>\n",
       "      <th>Duration</th>\n",
       "      <th>Total_Stops</th>\n",
       "      <th>Additional_Info</th>\n",
       "    </tr>\n",
       "  </thead>\n",
       "  <tbody>\n",
       "    <tr>\n",
       "      <th>0</th>\n",
       "      <td>Jet Airways</td>\n",
       "      <td>6/06/2019</td>\n",
       "      <td>Delhi</td>\n",
       "      <td>Cochin</td>\n",
       "      <td>DEL → BOM → COK</td>\n",
       "      <td>17:30</td>\n",
       "      <td>04:25 07 Jun</td>\n",
       "      <td>10h 55m</td>\n",
       "      <td>1 stop</td>\n",
       "      <td>No info</td>\n",
       "    </tr>\n",
       "    <tr>\n",
       "      <th>1</th>\n",
       "      <td>IndiGo</td>\n",
       "      <td>12/05/2019</td>\n",
       "      <td>Kolkata</td>\n",
       "      <td>Banglore</td>\n",
       "      <td>CCU → MAA → BLR</td>\n",
       "      <td>06:20</td>\n",
       "      <td>10:20</td>\n",
       "      <td>4h</td>\n",
       "      <td>1 stop</td>\n",
       "      <td>No info</td>\n",
       "    </tr>\n",
       "    <tr>\n",
       "      <th>2</th>\n",
       "      <td>Jet Airways</td>\n",
       "      <td>21/05/2019</td>\n",
       "      <td>Delhi</td>\n",
       "      <td>Cochin</td>\n",
       "      <td>DEL → BOM → COK</td>\n",
       "      <td>19:15</td>\n",
       "      <td>19:00 22 May</td>\n",
       "      <td>23h 45m</td>\n",
       "      <td>1 stop</td>\n",
       "      <td>In-flight meal not included</td>\n",
       "    </tr>\n",
       "    <tr>\n",
       "      <th>3</th>\n",
       "      <td>Multiple carriers</td>\n",
       "      <td>21/05/2019</td>\n",
       "      <td>Delhi</td>\n",
       "      <td>Cochin</td>\n",
       "      <td>DEL → BOM → COK</td>\n",
       "      <td>08:00</td>\n",
       "      <td>21:00</td>\n",
       "      <td>13h</td>\n",
       "      <td>1 stop</td>\n",
       "      <td>No info</td>\n",
       "    </tr>\n",
       "    <tr>\n",
       "      <th>4</th>\n",
       "      <td>Air Asia</td>\n",
       "      <td>24/06/2019</td>\n",
       "      <td>Banglore</td>\n",
       "      <td>Delhi</td>\n",
       "      <td>BLR → DEL</td>\n",
       "      <td>23:55</td>\n",
       "      <td>02:45 25 Jun</td>\n",
       "      <td>2h 50m</td>\n",
       "      <td>non-stop</td>\n",
       "      <td>No info</td>\n",
       "    </tr>\n",
       "    <tr>\n",
       "      <th>...</th>\n",
       "      <td>...</td>\n",
       "      <td>...</td>\n",
       "      <td>...</td>\n",
       "      <td>...</td>\n",
       "      <td>...</td>\n",
       "      <td>...</td>\n",
       "      <td>...</td>\n",
       "      <td>...</td>\n",
       "      <td>...</td>\n",
       "      <td>...</td>\n",
       "    </tr>\n",
       "    <tr>\n",
       "      <th>2666</th>\n",
       "      <td>Air India</td>\n",
       "      <td>6/06/2019</td>\n",
       "      <td>Kolkata</td>\n",
       "      <td>Banglore</td>\n",
       "      <td>CCU → DEL → BLR</td>\n",
       "      <td>20:30</td>\n",
       "      <td>20:25 07 Jun</td>\n",
       "      <td>23h 55m</td>\n",
       "      <td>1 stop</td>\n",
       "      <td>No info</td>\n",
       "    </tr>\n",
       "    <tr>\n",
       "      <th>2667</th>\n",
       "      <td>IndiGo</td>\n",
       "      <td>27/03/2019</td>\n",
       "      <td>Kolkata</td>\n",
       "      <td>Banglore</td>\n",
       "      <td>CCU → BLR</td>\n",
       "      <td>14:20</td>\n",
       "      <td>16:55</td>\n",
       "      <td>2h 35m</td>\n",
       "      <td>non-stop</td>\n",
       "      <td>No info</td>\n",
       "    </tr>\n",
       "    <tr>\n",
       "      <th>2668</th>\n",
       "      <td>Jet Airways</td>\n",
       "      <td>6/03/2019</td>\n",
       "      <td>Delhi</td>\n",
       "      <td>Cochin</td>\n",
       "      <td>DEL → BOM → COK</td>\n",
       "      <td>21:50</td>\n",
       "      <td>04:25 07 Mar</td>\n",
       "      <td>6h 35m</td>\n",
       "      <td>1 stop</td>\n",
       "      <td>No info</td>\n",
       "    </tr>\n",
       "    <tr>\n",
       "      <th>2669</th>\n",
       "      <td>Air India</td>\n",
       "      <td>6/03/2019</td>\n",
       "      <td>Delhi</td>\n",
       "      <td>Cochin</td>\n",
       "      <td>DEL → BOM → COK</td>\n",
       "      <td>04:00</td>\n",
       "      <td>19:15</td>\n",
       "      <td>15h 15m</td>\n",
       "      <td>1 stop</td>\n",
       "      <td>No info</td>\n",
       "    </tr>\n",
       "    <tr>\n",
       "      <th>2670</th>\n",
       "      <td>Multiple carriers</td>\n",
       "      <td>15/06/2019</td>\n",
       "      <td>Delhi</td>\n",
       "      <td>Cochin</td>\n",
       "      <td>DEL → BOM → COK</td>\n",
       "      <td>04:55</td>\n",
       "      <td>19:15</td>\n",
       "      <td>14h 20m</td>\n",
       "      <td>1 stop</td>\n",
       "      <td>No info</td>\n",
       "    </tr>\n",
       "  </tbody>\n",
       "</table>\n",
       "<p>2671 rows × 10 columns</p>\n",
       "</div>"
      ],
      "text/plain": [
       "                Airline Date_of_Journey    Source Destination  \\\n",
       "0           Jet Airways       6/06/2019     Delhi      Cochin   \n",
       "1                IndiGo      12/05/2019   Kolkata    Banglore   \n",
       "2           Jet Airways      21/05/2019     Delhi      Cochin   \n",
       "3     Multiple carriers      21/05/2019     Delhi      Cochin   \n",
       "4              Air Asia      24/06/2019  Banglore       Delhi   \n",
       "...                 ...             ...       ...         ...   \n",
       "2666          Air India       6/06/2019   Kolkata    Banglore   \n",
       "2667             IndiGo      27/03/2019   Kolkata    Banglore   \n",
       "2668        Jet Airways       6/03/2019     Delhi      Cochin   \n",
       "2669          Air India       6/03/2019     Delhi      Cochin   \n",
       "2670  Multiple carriers      15/06/2019     Delhi      Cochin   \n",
       "\n",
       "                Route Dep_Time  Arrival_Time Duration Total_Stops  \\\n",
       "0     DEL → BOM → COK    17:30  04:25 07 Jun  10h 55m      1 stop   \n",
       "1     CCU → MAA → BLR    06:20         10:20       4h      1 stop   \n",
       "2     DEL → BOM → COK    19:15  19:00 22 May  23h 45m      1 stop   \n",
       "3     DEL → BOM → COK    08:00         21:00      13h      1 stop   \n",
       "4           BLR → DEL    23:55  02:45 25 Jun   2h 50m    non-stop   \n",
       "...               ...      ...           ...      ...         ...   \n",
       "2666  CCU → DEL → BLR    20:30  20:25 07 Jun  23h 55m      1 stop   \n",
       "2667        CCU → BLR    14:20         16:55   2h 35m    non-stop   \n",
       "2668  DEL → BOM → COK    21:50  04:25 07 Mar   6h 35m      1 stop   \n",
       "2669  DEL → BOM → COK    04:00         19:15  15h 15m      1 stop   \n",
       "2670  DEL → BOM → COK    04:55         19:15  14h 20m      1 stop   \n",
       "\n",
       "                  Additional_Info  \n",
       "0                         No info  \n",
       "1                         No info  \n",
       "2     In-flight meal not included  \n",
       "3                         No info  \n",
       "4                         No info  \n",
       "...                           ...  \n",
       "2666                      No info  \n",
       "2667                      No info  \n",
       "2668                      No info  \n",
       "2669                      No info  \n",
       "2670                      No info  \n",
       "\n",
       "[2671 rows x 10 columns]"
      ]
     },
     "execution_count": 4,
     "metadata": {},
     "output_type": "execute_result"
    }
   ],
   "source": [
    "df2"
   ]
  },
  {
   "cell_type": "code",
   "execution_count": 5,
   "id": "2487b8b3",
   "metadata": {},
   "outputs": [
    {
     "data": {
      "text/html": [
       "<div>\n",
       "<style scoped>\n",
       "    .dataframe tbody tr th:only-of-type {\n",
       "        vertical-align: middle;\n",
       "    }\n",
       "\n",
       "    .dataframe tbody tr th {\n",
       "        vertical-align: top;\n",
       "    }\n",
       "\n",
       "    .dataframe thead th {\n",
       "        text-align: right;\n",
       "    }\n",
       "</style>\n",
       "<table border=\"1\" class=\"dataframe\">\n",
       "  <thead>\n",
       "    <tr style=\"text-align: right;\">\n",
       "      <th></th>\n",
       "      <th>Price</th>\n",
       "    </tr>\n",
       "  </thead>\n",
       "  <tbody>\n",
       "    <tr>\n",
       "      <th>count</th>\n",
       "      <td>10683.000000</td>\n",
       "    </tr>\n",
       "    <tr>\n",
       "      <th>mean</th>\n",
       "      <td>9087.064121</td>\n",
       "    </tr>\n",
       "    <tr>\n",
       "      <th>std</th>\n",
       "      <td>4611.359167</td>\n",
       "    </tr>\n",
       "    <tr>\n",
       "      <th>min</th>\n",
       "      <td>1759.000000</td>\n",
       "    </tr>\n",
       "    <tr>\n",
       "      <th>25%</th>\n",
       "      <td>5277.000000</td>\n",
       "    </tr>\n",
       "    <tr>\n",
       "      <th>50%</th>\n",
       "      <td>8372.000000</td>\n",
       "    </tr>\n",
       "    <tr>\n",
       "      <th>75%</th>\n",
       "      <td>12373.000000</td>\n",
       "    </tr>\n",
       "    <tr>\n",
       "      <th>max</th>\n",
       "      <td>79512.000000</td>\n",
       "    </tr>\n",
       "  </tbody>\n",
       "</table>\n",
       "</div>"
      ],
      "text/plain": [
       "              Price\n",
       "count  10683.000000\n",
       "mean    9087.064121\n",
       "std     4611.359167\n",
       "min     1759.000000\n",
       "25%     5277.000000\n",
       "50%     8372.000000\n",
       "75%    12373.000000\n",
       "max    79512.000000"
      ]
     },
     "execution_count": 5,
     "metadata": {},
     "output_type": "execute_result"
    }
   ],
   "source": [
    "#Statistical summary of train dataframe\n",
    "df1.describe()"
   ]
  },
  {
   "cell_type": "code",
   "execution_count": 6,
   "id": "ee71da4d",
   "metadata": {},
   "outputs": [
    {
     "data": {
      "text/html": [
       "<div>\n",
       "<style scoped>\n",
       "    .dataframe tbody tr th:only-of-type {\n",
       "        vertical-align: middle;\n",
       "    }\n",
       "\n",
       "    .dataframe tbody tr th {\n",
       "        vertical-align: top;\n",
       "    }\n",
       "\n",
       "    .dataframe thead th {\n",
       "        text-align: right;\n",
       "    }\n",
       "</style>\n",
       "<table border=\"1\" class=\"dataframe\">\n",
       "  <thead>\n",
       "    <tr style=\"text-align: right;\">\n",
       "      <th></th>\n",
       "      <th>Airline</th>\n",
       "      <th>Date_of_Journey</th>\n",
       "      <th>Source</th>\n",
       "      <th>Destination</th>\n",
       "      <th>Route</th>\n",
       "      <th>Dep_Time</th>\n",
       "      <th>Arrival_Time</th>\n",
       "      <th>Duration</th>\n",
       "      <th>Total_Stops</th>\n",
       "      <th>Additional_Info</th>\n",
       "    </tr>\n",
       "  </thead>\n",
       "  <tbody>\n",
       "    <tr>\n",
       "      <th>count</th>\n",
       "      <td>2671</td>\n",
       "      <td>2671</td>\n",
       "      <td>2671</td>\n",
       "      <td>2671</td>\n",
       "      <td>2671</td>\n",
       "      <td>2671</td>\n",
       "      <td>2671</td>\n",
       "      <td>2671</td>\n",
       "      <td>2671</td>\n",
       "      <td>2671</td>\n",
       "    </tr>\n",
       "    <tr>\n",
       "      <th>unique</th>\n",
       "      <td>11</td>\n",
       "      <td>44</td>\n",
       "      <td>5</td>\n",
       "      <td>6</td>\n",
       "      <td>100</td>\n",
       "      <td>199</td>\n",
       "      <td>704</td>\n",
       "      <td>320</td>\n",
       "      <td>5</td>\n",
       "      <td>6</td>\n",
       "    </tr>\n",
       "    <tr>\n",
       "      <th>top</th>\n",
       "      <td>Jet Airways</td>\n",
       "      <td>9/05/2019</td>\n",
       "      <td>Delhi</td>\n",
       "      <td>Cochin</td>\n",
       "      <td>DEL → BOM → COK</td>\n",
       "      <td>10:00</td>\n",
       "      <td>19:00</td>\n",
       "      <td>2h 50m</td>\n",
       "      <td>1 stop</td>\n",
       "      <td>No info</td>\n",
       "    </tr>\n",
       "    <tr>\n",
       "      <th>freq</th>\n",
       "      <td>897</td>\n",
       "      <td>144</td>\n",
       "      <td>1145</td>\n",
       "      <td>1145</td>\n",
       "      <td>624</td>\n",
       "      <td>62</td>\n",
       "      <td>113</td>\n",
       "      <td>122</td>\n",
       "      <td>1431</td>\n",
       "      <td>2148</td>\n",
       "    </tr>\n",
       "  </tbody>\n",
       "</table>\n",
       "</div>"
      ],
      "text/plain": [
       "            Airline Date_of_Journey Source Destination            Route  \\\n",
       "count          2671            2671   2671        2671             2671   \n",
       "unique           11              44      5           6              100   \n",
       "top     Jet Airways       9/05/2019  Delhi      Cochin  DEL → BOM → COK   \n",
       "freq            897             144   1145        1145              624   \n",
       "\n",
       "       Dep_Time Arrival_Time Duration Total_Stops Additional_Info  \n",
       "count      2671         2671     2671        2671            2671  \n",
       "unique      199          704      320           5               6  \n",
       "top       10:00        19:00   2h 50m      1 stop         No info  \n",
       "freq         62          113      122        1431            2148  "
      ]
     },
     "execution_count": 6,
     "metadata": {},
     "output_type": "execute_result"
    }
   ],
   "source": [
    "#Statistical summary of test dataframe\n",
    "df2.describe()"
   ]
  },
  {
   "cell_type": "code",
   "execution_count": 7,
   "id": "53d94616",
   "metadata": {},
   "outputs": [
    {
     "data": {
      "text/plain": [
       "(10683, 11)"
      ]
     },
     "execution_count": 7,
     "metadata": {},
     "output_type": "execute_result"
    }
   ],
   "source": [
    "df1.shape"
   ]
  },
  {
   "cell_type": "markdown",
   "id": "e5a2323e",
   "metadata": {},
   "source": [
    "#### We have 10683 data rows and 11 columns in the training dataframe."
   ]
  },
  {
   "cell_type": "code",
   "execution_count": 8,
   "id": "5d15384a",
   "metadata": {},
   "outputs": [
    {
     "data": {
      "text/plain": [
       "(2671, 10)"
      ]
     },
     "execution_count": 8,
     "metadata": {},
     "output_type": "execute_result"
    }
   ],
   "source": [
    "df2.shape"
   ]
  },
  {
   "cell_type": "markdown",
   "id": "c659142b",
   "metadata": {},
   "source": [
    "#### We have 2671 data rows and 10 columns in the test dataframe."
   ]
  },
  {
   "cell_type": "code",
   "execution_count": 9,
   "id": "171ea71c",
   "metadata": {},
   "outputs": [
    {
     "data": {
      "text/plain": [
       "Airline            object\n",
       "Date_of_Journey    object\n",
       "Source             object\n",
       "Destination        object\n",
       "Route              object\n",
       "Dep_Time           object\n",
       "Arrival_Time       object\n",
       "Duration           object\n",
       "Total_Stops        object\n",
       "Additional_Info    object\n",
       "Price               int64\n",
       "dtype: object"
      ]
     },
     "execution_count": 9,
     "metadata": {},
     "output_type": "execute_result"
    }
   ],
   "source": [
    "#Column Data type in train dataframe\n",
    "df1.dtypes"
   ]
  },
  {
   "cell_type": "markdown",
   "id": "450566e2",
   "metadata": {},
   "source": [
    "#### Point to note here is that all columns are not numeric"
   ]
  },
  {
   "cell_type": "code",
   "execution_count": 10,
   "id": "1a29c581",
   "metadata": {},
   "outputs": [
    {
     "data": {
      "text/plain": [
       "Airline            object\n",
       "Date_of_Journey    object\n",
       "Source             object\n",
       "Destination        object\n",
       "Route              object\n",
       "Dep_Time           object\n",
       "Arrival_Time       object\n",
       "Duration           object\n",
       "Total_Stops        object\n",
       "Additional_Info    object\n",
       "dtype: object"
      ]
     },
     "execution_count": 10,
     "metadata": {},
     "output_type": "execute_result"
    }
   ],
   "source": [
    "#Column Data type in test dataframe\n",
    "df2.dtypes"
   ]
  },
  {
   "cell_type": "markdown",
   "id": "2589e024",
   "metadata": {},
   "source": [
    "### Checking Null values for train Dataframe:"
   ]
  },
  {
   "cell_type": "code",
   "execution_count": 11,
   "id": "97db0405",
   "metadata": {
    "scrolled": true
   },
   "outputs": [
    {
     "data": {
      "image/png": "[encoded data removed]",
      "text/plain": [
       "<Figure size 432x288 with 2 Axes>"
      ]
     },
     "metadata": {
      "needs_background": "light"
     },
     "output_type": "display_data"
    }
   ],
   "source": [
    "#Checking null values using heatmap\n",
    "sns.heatmap(df1.isnull())\n",
    "plt.show()"
   ]
  },
  {
   "cell_type": "code",
   "execution_count": 12,
   "id": "0ece00fc",
   "metadata": {},
   "outputs": [
    {
     "data": {
      "text/plain": [
       "2"
      ]
     },
     "execution_count": 12,
     "metadata": {},
     "output_type": "execute_result"
    }
   ],
   "source": [
    "#Total number of null values in complete train dataset\n",
    "df1.isnull().sum().sum()"
   ]
  },
  {
   "cell_type": "markdown",
   "id": "50eca128",
   "metadata": {},
   "source": [
    "#### As we can see 2 NULL values in whole dataframe"
   ]
  },
  {
   "cell_type": "code",
   "execution_count": 13,
   "id": "223a9ccf",
   "metadata": {
    "scrolled": false
   },
   "outputs": [
    {
     "data": {
      "text/plain": [
       "Airline            0\n",
       "Date_of_Journey    0\n",
       "Source             0\n",
       "Destination        0\n",
       "Route              1\n",
       "Dep_Time           0\n",
       "Arrival_Time       0\n",
       "Duration           0\n",
       "Total_Stops        1\n",
       "Additional_Info    0\n",
       "Price              0\n",
       "dtype: int64"
      ]
     },
     "execution_count": 13,
     "metadata": {},
     "output_type": "execute_result"
    }
   ],
   "source": [
    "#number of null values in each column\n",
    "df1.isnull().sum()"
   ]
  },
  {
   "cell_type": "markdown",
   "id": "8d24dfba",
   "metadata": {},
   "source": [
    "#### 1 null value each in 2 columns of dataframe"
   ]
  },
  {
   "cell_type": "code",
   "execution_count": 14,
   "id": "c3f2b153",
   "metadata": {},
   "outputs": [],
   "source": [
    "# Hence we drop rows with NULL values\n",
    "df1 = df1.dropna(axis=0)"
   ]
  },
  {
   "cell_type": "code",
   "execution_count": 15,
   "id": "e0426b4a",
   "metadata": {},
   "outputs": [
    {
     "data": {
      "text/plain": [
       "0"
      ]
     },
     "execution_count": 15,
     "metadata": {},
     "output_type": "execute_result"
    }
   ],
   "source": [
    "df1.isnull().sum().sum()"
   ]
  },
  {
   "cell_type": "code",
   "execution_count": 16,
   "id": "bd6c607b",
   "metadata": {},
   "outputs": [
    {
     "data": {
      "text/plain": [
       "(10682, 11)"
      ]
     },
     "execution_count": 16,
     "metadata": {},
     "output_type": "execute_result"
    }
   ],
   "source": [
    "df1.shape"
   ]
  },
  {
   "cell_type": "markdown",
   "id": "3b92fcf5",
   "metadata": {},
   "source": [
    "##### Here we can see that only 1 row was dropped and we removed all NULL values in train dataframe"
   ]
  },
  {
   "cell_type": "markdown",
   "id": "abd03b83",
   "metadata": {},
   "source": [
    " "
   ]
  },
  {
   "cell_type": "markdown",
   "id": "25df1cf7",
   "metadata": {},
   "source": [
    "### Checking Null values for test Dataframe:"
   ]
  },
  {
   "cell_type": "code",
   "execution_count": 17,
   "id": "ddc1f1cc",
   "metadata": {
    "scrolled": true
   },
   "outputs": [
    {
     "data": {
      "image/png": "[encoded data removed]",
      "text/plain": [
       "<Figure size 432x288 with 2 Axes>"
      ]
     },
     "metadata": {
      "needs_background": "light"
     },
     "output_type": "display_data"
    }
   ],
   "source": [
    "#Checking null values using heatmap\n",
    "sns.heatmap(df2.isnull())\n",
    "plt.show()"
   ]
  },
  {
   "cell_type": "code",
   "execution_count": 18,
   "id": "74ff910a",
   "metadata": {},
   "outputs": [
    {
     "data": {
      "text/plain": [
       "0"
      ]
     },
     "execution_count": 18,
     "metadata": {},
     "output_type": "execute_result"
    }
   ],
   "source": [
    "#Total number of null values in complete train dataset\n",
    "df2.isnull().sum().sum()"
   ]
  },
  {
   "cell_type": "markdown",
   "id": "63bf35de",
   "metadata": {},
   "source": [
    "#### As we can see no NULL values in whole dataframe"
   ]
  },
  {
   "cell_type": "markdown",
   "id": "cdb35ea9",
   "metadata": {},
   "source": [
    "### Histogram Plots :"
   ]
  },
  {
   "cell_type": "code",
   "execution_count": 19,
   "id": "36af2c92",
   "metadata": {},
   "outputs": [],
   "source": [
    "#Making dataframe of nominal data\n",
    "df_visualisation_nominal = df1[['Airline','Source','Destination','Total_Stops']].copy()"
   ]
  },
  {
   "cell_type": "code",
   "execution_count": 20,
   "id": "5671942c",
   "metadata": {},
   "outputs": [
    {
     "name": "stdout",
     "output_type": "stream",
     "text": [
      "Jet Airways                          3849\n",
      "IndiGo                               2053\n",
      "Air India                            1751\n",
      "Multiple carriers                    1196\n",
      "SpiceJet                              818\n",
      "Vistara                               479\n",
      "Air Asia                              319\n",
      "GoAir                                 194\n",
      "Multiple carriers Premium economy      13\n",
      "Jet Airways Business                    6\n",
      "Vistara Premium economy                 3\n",
      "Trujet                                  1\n",
      "Name: Airline, dtype: int64\n"
     ]
    },
    {
     "data": {
      "image/png": "[encoded data removed]",
      "text/plain": [
       "<Figure size 1440x288 with 1 Axes>"
      ]
     },
     "metadata": {},
     "output_type": "display_data"
    }
   ],
   "source": [
    "#Visualisation of Airline name data\n",
    "sns.set(rc={'figure.figsize':(20,4)})\n",
    "ax = sns.countplot(x='Airline',data=df_visualisation_nominal)\n",
    "print(df_visualisation_nominal['Airline'].value_counts())"
   ]
  },
  {
   "cell_type": "markdown",
   "id": "67dae48d",
   "metadata": {},
   "source": [
    "**Most people use Jet Airways, then Indigo, then AirIndia, and so on** "
   ]
  },
  {
   "cell_type": "code",
   "execution_count": 21,
   "id": "7e2507ef",
   "metadata": {
    "scrolled": true
   },
   "outputs": [
    {
     "name": "stdout",
     "output_type": "stream",
     "text": [
      "Delhi       4536\n",
      "Kolkata     2871\n",
      "Banglore    2197\n",
      "Mumbai       697\n",
      "Chennai      381\n",
      "Name: Source, dtype: int64\n"
     ]
    },
    {
     "data": {
      "image/png": "[encoded data removed]",
      "text/plain": [
       "<Figure size 1440x288 with 1 Axes>"
      ]
     },
     "metadata": {},
     "output_type": "display_data"
    }
   ],
   "source": [
    "#Visualisation of Source data\n",
    "ax = sns.countplot(x='Source',data=df_visualisation_nominal)\n",
    "print(df_visualisation_nominal['Source'].value_counts())"
   ]
  },
  {
   "cell_type": "markdown",
   "id": "d62ffa05",
   "metadata": {},
   "source": [
    "**Most people have delhi as their source city and least have chennai as their source city** "
   ]
  },
  {
   "cell_type": "code",
   "execution_count": 22,
   "id": "1744aa42",
   "metadata": {},
   "outputs": [
    {
     "name": "stdout",
     "output_type": "stream",
     "text": [
      "Cochin       4536\n",
      "Banglore     2871\n",
      "Delhi        1265\n",
      "New Delhi     932\n",
      "Hyderabad     697\n",
      "Kolkata       381\n",
      "Name: Destination, dtype: int64\n"
     ]
    },
    {
     "data": {
      "image/png": "[encoded data removed]",
      "text/plain": [
       "<Figure size 1440x288 with 1 Axes>"
      ]
     },
     "metadata": {},
     "output_type": "display_data"
    }
   ],
   "source": [
    "#Visualisation of Destination data\n",
    "ax = sns.countplot(x='Destination',data=df_visualisation_nominal)\n",
    "print(df_visualisation_nominal['Destination'].value_counts())"
   ]
  },
  {
   "cell_type": "markdown",
   "id": "e870ddcf",
   "metadata": {},
   "source": [
    "**Most people are going to Cochin and Banglore, least are going to Kolkata** "
   ]
  },
  {
   "cell_type": "code",
   "execution_count": 23,
   "id": "e1d195d3",
   "metadata": {},
   "outputs": [
    {
     "name": "stdout",
     "output_type": "stream",
     "text": [
      "1 stop      5625\n",
      "non-stop    3491\n",
      "2 stops     1520\n",
      "3 stops       45\n",
      "4 stops        1\n",
      "Name: Total_Stops, dtype: int64\n"
     ]
    },
    {
     "data": {
      "image/png": "[encoded data removed]",
      "text/plain": [
       "<Figure size 1440x288 with 1 Axes>"
      ]
     },
     "metadata": {},
     "output_type": "display_data"
    }
   ],
   "source": [
    "#Visualisation of Total Stops data\n",
    "ax = sns.countplot(x='Total_Stops',data=df_visualisation_nominal)\n",
    "print(df_visualisation_nominal['Total_Stops'].value_counts())"
   ]
  },
  {
   "cell_type": "markdown",
   "id": "e4514a51",
   "metadata": {},
   "source": [
    "**Most people have 1 stop between source and destination, then non-stop, then 2-stops, rest are negligible.** "
   ]
  },
  {
   "cell_type": "markdown",
   "id": "14e22e9e",
   "metadata": {},
   "source": [
    "### Density Plots:"
   ]
  },
  {
   "cell_type": "code",
   "execution_count": 24,
   "id": "f3f06360",
   "metadata": {},
   "outputs": [],
   "source": [
    "#Making dataframe of Continous data\n",
    "df_visualisation_continous = df1[['Price']].copy()"
   ]
  },
  {
   "cell_type": "code",
   "execution_count": 25,
   "id": "ca790635",
   "metadata": {},
   "outputs": [
    {
     "data": {
      "text/plain": [
       "<AxesSubplot:xlabel='Price', ylabel='Density'>"
      ]
     },
     "execution_count": 25,
     "metadata": {},
     "output_type": "execute_result"
    },
    {
     "data": {
      "image/png": "[encoded data removed]",
      "text/plain": [
       "<Figure size 1440x288 with 1 Axes>"
      ]
     },
     "metadata": {},
     "output_type": "display_data"
    }
   ],
   "source": [
    "#Visualisation of Price data\n",
    "sns.distplot(df_visualisation_continous['Price'])"
   ]
  },
  {
   "cell_type": "markdown",
   "id": "31b51325",
   "metadata": {},
   "source": [
    "**It does not look normalized**"
   ]
  },
  {
   "cell_type": "markdown",
   "id": "9b5887cd",
   "metadata": {},
   "source": [
    " "
   ]
  },
  {
   "cell_type": "markdown",
   "id": "d3f7eb6a",
   "metadata": {},
   "source": [
    "#### Visualisation is completed"
   ]
  },
  {
   "cell_type": "markdown",
   "id": "aa909026",
   "metadata": {},
   "source": [
    "  "
   ]
  },
  {
   "cell_type": "markdown",
   "id": "d5c960a7",
   "metadata": {},
   "source": [
    "### Encoding of Dataframe(Converting String to numeric):"
   ]
  },
  {
   "cell_type": "code",
   "execution_count": 26,
   "id": "f09e268c",
   "metadata": {},
   "outputs": [],
   "source": [
    "from sklearn.preprocessing import OrdinalEncoder\n",
    "enc = OrdinalEncoder()"
   ]
  },
  {
   "cell_type": "code",
   "execution_count": 27,
   "id": "31ef8311",
   "metadata": {},
   "outputs": [],
   "source": [
    "for i in df1.columns:\n",
    "    if df1[i].dtypes == \"object\":\n",
    "        df1[i] = enc.fit_transform(df1[i].values.reshape(-1,1))"
   ]
  },
  {
   "cell_type": "code",
   "execution_count": 28,
   "id": "28f3e1f9",
   "metadata": {},
   "outputs": [
    {
     "data": {
      "text/html": [
       "<div>\n",
       "<style scoped>\n",
       "    .dataframe tbody tr th:only-of-type {\n",
       "        vertical-align: middle;\n",
       "    }\n",
       "\n",
       "    .dataframe tbody tr th {\n",
       "        vertical-align: top;\n",
       "    }\n",
       "\n",
       "    .dataframe thead th {\n",
       "        text-align: right;\n",
       "    }\n",
       "</style>\n",
       "<table border=\"1\" class=\"dataframe\">\n",
       "  <thead>\n",
       "    <tr style=\"text-align: right;\">\n",
       "      <th></th>\n",
       "      <th>Airline</th>\n",
       "      <th>Date_of_Journey</th>\n",
       "      <th>Source</th>\n",
       "      <th>Destination</th>\n",
       "      <th>Route</th>\n",
       "      <th>Dep_Time</th>\n",
       "      <th>Arrival_Time</th>\n",
       "      <th>Duration</th>\n",
       "      <th>Total_Stops</th>\n",
       "      <th>Additional_Info</th>\n",
       "      <th>Price</th>\n",
       "    </tr>\n",
       "  </thead>\n",
       "  <tbody>\n",
       "    <tr>\n",
       "      <th>0</th>\n",
       "      <td>3.0</td>\n",
       "      <td>24.0</td>\n",
       "      <td>0.0</td>\n",
       "      <td>5.0</td>\n",
       "      <td>18.0</td>\n",
       "      <td>211.0</td>\n",
       "      <td>233.0</td>\n",
       "      <td>240.0</td>\n",
       "      <td>4.0</td>\n",
       "      <td>8.0</td>\n",
       "      <td>3897</td>\n",
       "    </tr>\n",
       "    <tr>\n",
       "      <th>1</th>\n",
       "      <td>1.0</td>\n",
       "      <td>6.0</td>\n",
       "      <td>3.0</td>\n",
       "      <td>0.0</td>\n",
       "      <td>84.0</td>\n",
       "      <td>31.0</td>\n",
       "      <td>906.0</td>\n",
       "      <td>336.0</td>\n",
       "      <td>1.0</td>\n",
       "      <td>8.0</td>\n",
       "      <td>7662</td>\n",
       "    </tr>\n",
       "    <tr>\n",
       "      <th>2</th>\n",
       "      <td>4.0</td>\n",
       "      <td>43.0</td>\n",
       "      <td>2.0</td>\n",
       "      <td>1.0</td>\n",
       "      <td>118.0</td>\n",
       "      <td>70.0</td>\n",
       "      <td>413.0</td>\n",
       "      <td>106.0</td>\n",
       "      <td>1.0</td>\n",
       "      <td>8.0</td>\n",
       "      <td>13882</td>\n",
       "    </tr>\n",
       "    <tr>\n",
       "      <th>3</th>\n",
       "      <td>3.0</td>\n",
       "      <td>10.0</td>\n",
       "      <td>3.0</td>\n",
       "      <td>0.0</td>\n",
       "      <td>91.0</td>\n",
       "      <td>164.0</td>\n",
       "      <td>1324.0</td>\n",
       "      <td>311.0</td>\n",
       "      <td>0.0</td>\n",
       "      <td>8.0</td>\n",
       "      <td>6218</td>\n",
       "    </tr>\n",
       "    <tr>\n",
       "      <th>4</th>\n",
       "      <td>3.0</td>\n",
       "      <td>0.0</td>\n",
       "      <td>0.0</td>\n",
       "      <td>5.0</td>\n",
       "      <td>29.0</td>\n",
       "      <td>149.0</td>\n",
       "      <td>1237.0</td>\n",
       "      <td>303.0</td>\n",
       "      <td>0.0</td>\n",
       "      <td>8.0</td>\n",
       "      <td>13302</td>\n",
       "    </tr>\n",
       "    <tr>\n",
       "      <th>...</th>\n",
       "      <td>...</td>\n",
       "      <td>...</td>\n",
       "      <td>...</td>\n",
       "      <td>...</td>\n",
       "      <td>...</td>\n",
       "      <td>...</td>\n",
       "      <td>...</td>\n",
       "      <td>...</td>\n",
       "      <td>...</td>\n",
       "      <td>...</td>\n",
       "      <td>...</td>\n",
       "    </tr>\n",
       "    <tr>\n",
       "      <th>10678</th>\n",
       "      <td>0.0</td>\n",
       "      <td>41.0</td>\n",
       "      <td>3.0</td>\n",
       "      <td>0.0</td>\n",
       "      <td>64.0</td>\n",
       "      <td>183.0</td>\n",
       "      <td>1259.0</td>\n",
       "      <td>236.0</td>\n",
       "      <td>4.0</td>\n",
       "      <td>8.0</td>\n",
       "      <td>4107</td>\n",
       "    </tr>\n",
       "    <tr>\n",
       "      <th>10679</th>\n",
       "      <td>1.0</td>\n",
       "      <td>29.0</td>\n",
       "      <td>3.0</td>\n",
       "      <td>0.0</td>\n",
       "      <td>64.0</td>\n",
       "      <td>193.0</td>\n",
       "      <td>1305.0</td>\n",
       "      <td>237.0</td>\n",
       "      <td>4.0</td>\n",
       "      <td>8.0</td>\n",
       "      <td>4145</td>\n",
       "    </tr>\n",
       "    <tr>\n",
       "      <th>10680</th>\n",
       "      <td>4.0</td>\n",
       "      <td>29.0</td>\n",
       "      <td>0.0</td>\n",
       "      <td>2.0</td>\n",
       "      <td>18.0</td>\n",
       "      <td>58.0</td>\n",
       "      <td>824.0</td>\n",
       "      <td>280.0</td>\n",
       "      <td>4.0</td>\n",
       "      <td>8.0</td>\n",
       "      <td>7229</td>\n",
       "    </tr>\n",
       "    <tr>\n",
       "      <th>10681</th>\n",
       "      <td>10.0</td>\n",
       "      <td>0.0</td>\n",
       "      <td>0.0</td>\n",
       "      <td>5.0</td>\n",
       "      <td>18.0</td>\n",
       "      <td>92.0</td>\n",
       "      <td>938.0</td>\n",
       "      <td>238.0</td>\n",
       "      <td>4.0</td>\n",
       "      <td>8.0</td>\n",
       "      <td>12648</td>\n",
       "    </tr>\n",
       "    <tr>\n",
       "      <th>10682</th>\n",
       "      <td>1.0</td>\n",
       "      <td>42.0</td>\n",
       "      <td>2.0</td>\n",
       "      <td>1.0</td>\n",
       "      <td>108.0</td>\n",
       "      <td>85.0</td>\n",
       "      <td>1124.0</td>\n",
       "      <td>347.0</td>\n",
       "      <td>1.0</td>\n",
       "      <td>8.0</td>\n",
       "      <td>11753</td>\n",
       "    </tr>\n",
       "  </tbody>\n",
       "</table>\n",
       "<p>10682 rows × 11 columns</p>\n",
       "</div>"
      ],
      "text/plain": [
       "       Airline  Date_of_Journey  Source  Destination  Route  Dep_Time  \\\n",
       "0          3.0             24.0     0.0          5.0   18.0     211.0   \n",
       "1          1.0              6.0     3.0          0.0   84.0      31.0   \n",
       "2          4.0             43.0     2.0          1.0  118.0      70.0   \n",
       "3          3.0             10.0     3.0          0.0   91.0     164.0   \n",
       "4          3.0              0.0     0.0          5.0   29.0     149.0   \n",
       "...        ...              ...     ...          ...    ...       ...   \n",
       "10678      0.0             41.0     3.0          0.0   64.0     183.0   \n",
       "10679      1.0             29.0     3.0          0.0   64.0     193.0   \n",
       "10680      4.0             29.0     0.0          2.0   18.0      58.0   \n",
       "10681     10.0              0.0     0.0          5.0   18.0      92.0   \n",
       "10682      1.0             42.0     2.0          1.0  108.0      85.0   \n",
       "\n",
       "       Arrival_Time  Duration  Total_Stops  Additional_Info  Price  \n",
       "0             233.0     240.0          4.0              8.0   3897  \n",
       "1             906.0     336.0          1.0              8.0   7662  \n",
       "2             413.0     106.0          1.0              8.0  13882  \n",
       "3            1324.0     311.0          0.0              8.0   6218  \n",
       "4            1237.0     303.0          0.0              8.0  13302  \n",
       "...             ...       ...          ...              ...    ...  \n",
       "10678        1259.0     236.0          4.0              8.0   4107  \n",
       "10679        1305.0     237.0          4.0              8.0   4145  \n",
       "10680         824.0     280.0          4.0              8.0   7229  \n",
       "10681         938.0     238.0          4.0              8.0  12648  \n",
       "10682        1124.0     347.0          1.0              8.0  11753  \n",
       "\n",
       "[10682 rows x 11 columns]"
      ]
     },
     "execution_count": 28,
     "metadata": {},
     "output_type": "execute_result"
    }
   ],
   "source": [
    "df1"
   ]
  },
  {
   "cell_type": "markdown",
   "id": "fb1151d2",
   "metadata": {},
   "source": [
    "  "
   ]
  },
  {
   "cell_type": "markdown",
   "id": "5fbee25a",
   "metadata": {},
   "source": [
    "### Dropping Additional_Info as all values are No Info"
   ]
  },
  {
   "cell_type": "code",
   "execution_count": 29,
   "id": "3f59acaf",
   "metadata": {},
   "outputs": [],
   "source": [
    "df1.drop(\"Additional_Info\", axis=1, inplace=True)"
   ]
  },
  {
   "cell_type": "markdown",
   "id": "44f01c5f",
   "metadata": {},
   "source": [
    "### Correlations:"
   ]
  },
  {
   "cell_type": "code",
   "execution_count": 30,
   "id": "805dbb99",
   "metadata": {
    "scrolled": true
   },
   "outputs": [
    {
     "data": {
      "text/plain": [
       "<AxesSubplot:>"
      ]
     },
     "execution_count": 30,
     "metadata": {},
     "output_type": "execute_result"
    },
    {
     "data": {
      "image/png": "[encoded data removed]",
      "text/plain": [
       "<Figure size 1584x504 with 2 Axes>"
      ]
     },
     "metadata": {},
     "output_type": "display_data"
    }
   ],
   "source": [
    "plt.figure(figsize = (22,7))\n",
    "sns.heatmap(df1.describe(),annot = True, linewidths=0.1)"
   ]
  },
  {
   "cell_type": "code",
   "execution_count": 31,
   "id": "c84d7d6d",
   "metadata": {
    "scrolled": true
   },
   "outputs": [
    {
     "data": {
      "text/html": [
       "<div>\n",
       "<style scoped>\n",
       "    .dataframe tbody tr th:only-of-type {\n",
       "        vertical-align: middle;\n",
       "    }\n",
       "\n",
       "    .dataframe tbody tr th {\n",
       "        vertical-align: top;\n",
       "    }\n",
       "\n",
       "    .dataframe thead th {\n",
       "        text-align: right;\n",
       "    }\n",
       "</style>\n",
       "<table border=\"1\" class=\"dataframe\">\n",
       "  <thead>\n",
       "    <tr style=\"text-align: right;\">\n",
       "      <th></th>\n",
       "      <th>Airline</th>\n",
       "      <th>Date_of_Journey</th>\n",
       "      <th>Source</th>\n",
       "      <th>Destination</th>\n",
       "      <th>Route</th>\n",
       "      <th>Dep_Time</th>\n",
       "      <th>Arrival_Time</th>\n",
       "      <th>Duration</th>\n",
       "      <th>Total_Stops</th>\n",
       "      <th>Price</th>\n",
       "    </tr>\n",
       "  </thead>\n",
       "  <tbody>\n",
       "    <tr>\n",
       "      <th>Airline</th>\n",
       "      <td>1.000000</td>\n",
       "      <td>0.022390</td>\n",
       "      <td>-0.013397</td>\n",
       "      <td>0.018446</td>\n",
       "      <td>0.025214</td>\n",
       "      <td>-0.039508</td>\n",
       "      <td>-0.015804</td>\n",
       "      <td>0.027886</td>\n",
       "      <td>0.035973</td>\n",
       "      <td>-0.039565</td>\n",
       "    </tr>\n",
       "    <tr>\n",
       "      <th>Date_of_Journey</th>\n",
       "      <td>0.022390</td>\n",
       "      <td>1.000000</td>\n",
       "      <td>0.167555</td>\n",
       "      <td>-0.273343</td>\n",
       "      <td>0.275121</td>\n",
       "      <td>-0.007776</td>\n",
       "      <td>-0.012445</td>\n",
       "      <td>-0.001137</td>\n",
       "      <td>-0.044069</td>\n",
       "      <td>-0.036907</td>\n",
       "    </tr>\n",
       "    <tr>\n",
       "      <th>Source</th>\n",
       "      <td>-0.013397</td>\n",
       "      <td>0.167555</td>\n",
       "      <td>1.000000</td>\n",
       "      <td>-0.592576</td>\n",
       "      <td>0.403412</td>\n",
       "      <td>0.055194</td>\n",
       "      <td>0.020847</td>\n",
       "      <td>-0.192009</td>\n",
       "      <td>-0.225605</td>\n",
       "      <td>0.015999</td>\n",
       "    </tr>\n",
       "    <tr>\n",
       "      <th>Destination</th>\n",
       "      <td>0.018446</td>\n",
       "      <td>-0.273343</td>\n",
       "      <td>-0.592576</td>\n",
       "      <td>1.000000</td>\n",
       "      <td>-0.461176</td>\n",
       "      <td>-0.063625</td>\n",
       "      <td>-0.036847</td>\n",
       "      <td>0.022029</td>\n",
       "      <td>0.337872</td>\n",
       "      <td>-0.071122</td>\n",
       "    </tr>\n",
       "    <tr>\n",
       "      <th>Route</th>\n",
       "      <td>0.025214</td>\n",
       "      <td>0.275121</td>\n",
       "      <td>0.403412</td>\n",
       "      <td>-0.461176</td>\n",
       "      <td>1.000000</td>\n",
       "      <td>-0.082013</td>\n",
       "      <td>0.010604</td>\n",
       "      <td>-0.062078</td>\n",
       "      <td>-0.437749</td>\n",
       "      <td>0.164149</td>\n",
       "    </tr>\n",
       "    <tr>\n",
       "      <th>Dep_Time</th>\n",
       "      <td>-0.039508</td>\n",
       "      <td>-0.007776</td>\n",
       "      <td>0.055194</td>\n",
       "      <td>-0.063625</td>\n",
       "      <td>-0.082013</td>\n",
       "      <td>1.000000</td>\n",
       "      <td>-0.023325</td>\n",
       "      <td>0.041605</td>\n",
       "      <td>0.044647</td>\n",
       "      <td>0.002931</td>\n",
       "    </tr>\n",
       "    <tr>\n",
       "      <th>Arrival_Time</th>\n",
       "      <td>-0.015804</td>\n",
       "      <td>-0.012445</td>\n",
       "      <td>0.020847</td>\n",
       "      <td>-0.036847</td>\n",
       "      <td>0.010604</td>\n",
       "      <td>-0.023325</td>\n",
       "      <td>1.000000</td>\n",
       "      <td>0.027731</td>\n",
       "      <td>-0.097180</td>\n",
       "      <td>0.027358</td>\n",
       "    </tr>\n",
       "    <tr>\n",
       "      <th>Duration</th>\n",
       "      <td>0.027886</td>\n",
       "      <td>-0.001137</td>\n",
       "      <td>-0.192009</td>\n",
       "      <td>0.022029</td>\n",
       "      <td>-0.062078</td>\n",
       "      <td>0.041605</td>\n",
       "      <td>0.027731</td>\n",
       "      <td>1.000000</td>\n",
       "      <td>0.175191</td>\n",
       "      <td>-0.144280</td>\n",
       "    </tr>\n",
       "    <tr>\n",
       "      <th>Total_Stops</th>\n",
       "      <td>0.035973</td>\n",
       "      <td>-0.044069</td>\n",
       "      <td>-0.225605</td>\n",
       "      <td>0.337872</td>\n",
       "      <td>-0.437749</td>\n",
       "      <td>0.044647</td>\n",
       "      <td>-0.097180</td>\n",
       "      <td>0.175191</td>\n",
       "      <td>1.000000</td>\n",
       "      <td>-0.571221</td>\n",
       "    </tr>\n",
       "    <tr>\n",
       "      <th>Price</th>\n",
       "      <td>-0.039565</td>\n",
       "      <td>-0.036907</td>\n",
       "      <td>0.015999</td>\n",
       "      <td>-0.071122</td>\n",
       "      <td>0.164149</td>\n",
       "      <td>0.002931</td>\n",
       "      <td>0.027358</td>\n",
       "      <td>-0.144280</td>\n",
       "      <td>-0.571221</td>\n",
       "      <td>1.000000</td>\n",
       "    </tr>\n",
       "  </tbody>\n",
       "</table>\n",
       "</div>"
      ],
      "text/plain": [
       "                  Airline  Date_of_Journey    Source  Destination     Route  \\\n",
       "Airline          1.000000         0.022390 -0.013397     0.018446  0.025214   \n",
       "Date_of_Journey  0.022390         1.000000  0.167555    -0.273343  0.275121   \n",
       "Source          -0.013397         0.167555  1.000000    -0.592576  0.403412   \n",
       "Destination      0.018446        -0.273343 -0.592576     1.000000 -0.461176   \n",
       "Route            0.025214         0.275121  0.403412    -0.461176  1.000000   \n",
       "Dep_Time        -0.039508        -0.007776  0.055194    -0.063625 -0.082013   \n",
       "Arrival_Time    -0.015804        -0.012445  0.020847    -0.036847  0.010604   \n",
       "Duration         0.027886        -0.001137 -0.192009     0.022029 -0.062078   \n",
       "Total_Stops      0.035973        -0.044069 -0.225605     0.337872 -0.437749   \n",
       "Price           -0.039565        -0.036907  0.015999    -0.071122  0.164149   \n",
       "\n",
       "                 Dep_Time  Arrival_Time  Duration  Total_Stops     Price  \n",
       "Airline         -0.039508     -0.015804  0.027886     0.035973 -0.039565  \n",
       "Date_of_Journey -0.007776     -0.012445 -0.001137    -0.044069 -0.036907  \n",
       "Source           0.055194      0.020847 -0.192009    -0.225605  0.015999  \n",
       "Destination     -0.063625     -0.036847  0.022029     0.337872 -0.071122  \n",
       "Route           -0.082013      0.010604 -0.062078    -0.437749  0.164149  \n",
       "Dep_Time         1.000000     -0.023325  0.041605     0.044647  0.002931  \n",
       "Arrival_Time    -0.023325      1.000000  0.027731    -0.097180  0.027358  \n",
       "Duration         0.041605      0.027731  1.000000     0.175191 -0.144280  \n",
       "Total_Stops      0.044647     -0.097180  0.175191     1.000000 -0.571221  \n",
       "Price            0.002931      0.027358 -0.144280    -0.571221  1.000000  "
      ]
     },
     "execution_count": 31,
     "metadata": {},
     "output_type": "execute_result"
    }
   ],
   "source": [
    "#Correlation matrix\n",
    "df1.corr()"
   ]
  },
  {
   "cell_type": "code",
   "execution_count": 32,
   "id": "345c070d",
   "metadata": {},
   "outputs": [
    {
     "data": {
      "text/plain": [
       "<AxesSubplot:>"
      ]
     },
     "execution_count": 32,
     "metadata": {},
     "output_type": "execute_result"
    },
    {
     "data": {
      "image/png": "[encoded data removed]",
      "text/plain": [
       "<Figure size 1800x1800 with 2 Axes>"
      ]
     },
     "metadata": {},
     "output_type": "display_data"
    }
   ],
   "source": [
    "#Correlation of Columns with target column using heatmap\n",
    "plt.figure(figsize = (25,25))\n",
    "sns.heatmap(df1.corr(),annot = True, linewidths=0.1)"
   ]
  },
  {
   "cell_type": "markdown",
   "id": "aab51e1e",
   "metadata": {},
   "source": [
    "#### Here correlation is not high as can be seen through heatmap"
   ]
  },
  {
   "cell_type": "markdown",
   "id": "d965dc39",
   "metadata": {},
   "source": [
    " "
   ]
  },
  {
   "cell_type": "code",
   "execution_count": 33,
   "id": "03cadf80",
   "metadata": {},
   "outputs": [],
   "source": [
    "#Checking columns which appear to be highly correlated with target columns"
   ]
  },
  {
   "cell_type": "code",
   "execution_count": 34,
   "id": "26a9f4ab",
   "metadata": {},
   "outputs": [
    {
     "data": {
      "image/png": "[encoded data removed]",
      "text/plain": [
       "<Figure size 1584x504 with 1 Axes>"
      ]
     },
     "metadata": {},
     "output_type": "display_data"
    }
   ],
   "source": [
    "plt.figure(figsize=(22,7))\n",
    "df1.corr()['Price'].sort_values(ascending = False).drop(['Price']).plot(kind='bar',fontsize=14)\n",
    "plt.xlabel('Feature',fontsize=14)\n",
    "plt.ylabel('Attrition',fontsize=14)\n",
    "plt.title('Correlation',fontsize=20)\n",
    "plt.show()"
   ]
  },
  {
   "cell_type": "markdown",
   "id": "07f4039e",
   "metadata": {},
   "source": [
    "#### Here we can't see any very high correlation with target column"
   ]
  },
  {
   "cell_type": "markdown",
   "id": "0c906526",
   "metadata": {},
   "source": [
    " "
   ]
  },
  {
   "cell_type": "code",
   "execution_count": 35,
   "id": "dbe2e3be",
   "metadata": {},
   "outputs": [
    {
     "data": {
      "image/png": "[encoded data removed]",
      "text/plain": [
       "<Figure size 1584x504 with 1 Axes>"
      ]
     },
     "metadata": {},
     "output_type": "display_data"
    }
   ],
   "source": [
    "#Checking correlation between Price and Total_Stops\n",
    "plt.figure(figsize=(22,7))\n",
    "plt.scatter(df1.Price,df1.Total_Stops)\n",
    "plt.show()"
   ]
  },
  {
   "cell_type": "markdown",
   "id": "6556abb9",
   "metadata": {},
   "source": [
    "#### High Correlation is not visible"
   ]
  },
  {
   "cell_type": "markdown",
   "id": "8c6fda3a",
   "metadata": {},
   "source": [
    " "
   ]
  },
  {
   "cell_type": "markdown",
   "id": "727baa07",
   "metadata": {},
   "source": [
    "### Checkin VIF for confirmation of above conclusion:"
   ]
  },
  {
   "cell_type": "code",
   "execution_count": 36,
   "id": "96ebee36",
   "metadata": {},
   "outputs": [],
   "source": [
    "from statsmodels.stats.outliers_influence import variance_inflation_factor"
   ]
  },
  {
   "cell_type": "code",
   "execution_count": 37,
   "id": "f84f3e60",
   "metadata": {},
   "outputs": [],
   "source": [
    "X = df1[['Total_Stops','Price']]\n",
    "\n",
    "# VIF dataframe\n",
    "vif_dF = pd.DataFrame()\n",
    "vif_dF[\"feature\"] = X.columns\n",
    "  \n",
    "# calculating VIF for each feature\n",
    "vif_dF[\"VIF\"] = [variance_inflation_factor(X.values, i)\n",
    "                          for i in range(len(X.columns))]"
   ]
  },
  {
   "cell_type": "code",
   "execution_count": 38,
   "id": "789243c0",
   "metadata": {},
   "outputs": [
    {
     "name": "stdout",
     "output_type": "stream",
     "text": [
      "       feature       VIF\n",
      "0  Total_Stops  1.147995\n",
      "1        Price  1.147995\n"
     ]
    }
   ],
   "source": [
    "print(vif_dF)"
   ]
  },
  {
   "cell_type": "markdown",
   "id": "2d2f78aa",
   "metadata": {},
   "source": [
    "### As we can see there is no high correlation"
   ]
  },
  {
   "cell_type": "markdown",
   "id": "850728e0",
   "metadata": {},
   "source": [
    " "
   ]
  },
  {
   "cell_type": "markdown",
   "id": "1ef3e9c0",
   "metadata": {},
   "source": [
    "### Removing Skewness :"
   ]
  },
  {
   "cell_type": "code",
   "execution_count": 39,
   "id": "c8069b7a",
   "metadata": {},
   "outputs": [
    {
     "data": {
      "text/plain": [
       "Airline            0.731057\n",
       "Date_of_Journey   -0.070718\n",
       "Source            -0.424023\n",
       "Destination        1.244046\n",
       "Route             -0.501911\n",
       "Dep_Time           0.194914\n",
       "Arrival_Time      -0.606676\n",
       "Duration          -0.213498\n",
       "Total_Stops        0.631532\n",
       "Price              1.812405\n",
       "dtype: float64"
      ]
     },
     "execution_count": 39,
     "metadata": {},
     "output_type": "execute_result"
    }
   ],
   "source": [
    "#Checking skewness\n",
    "df1.skew()"
   ]
  },
  {
   "cell_type": "markdown",
   "id": "70d6ec7f",
   "metadata": {},
   "source": [
    "#### Acceptable skewness (-0.65,+0.65)"
   ]
  },
  {
   "cell_type": "code",
   "execution_count": 40,
   "id": "2f8ac286",
   "metadata": {},
   "outputs": [],
   "source": [
    "#Applying yeo-johnson\n",
    "from scipy.stats import yeojohnson\n",
    "df1.Airline = yeojohnson(df1.Airline)[0]\n",
    "df1.Destination = yeojohnson(df1.Destination)[0]"
   ]
  },
  {
   "cell_type": "code",
   "execution_count": 41,
   "id": "c7789379",
   "metadata": {},
   "outputs": [
    {
     "data": {
      "text/plain": [
       "Airline           -0.015281\n",
       "Date_of_Journey   -0.070718\n",
       "Source            -0.424023\n",
       "Destination        0.041570\n",
       "Route             -0.501911\n",
       "Dep_Time           0.194914\n",
       "Arrival_Time      -0.606676\n",
       "Duration          -0.213498\n",
       "Total_Stops        0.631532\n",
       "Price              1.812405\n",
       "dtype: float64"
      ]
     },
     "execution_count": 41,
     "metadata": {},
     "output_type": "execute_result"
    }
   ],
   "source": [
    "df1.skew()"
   ]
  },
  {
   "cell_type": "markdown",
   "id": "6833086a",
   "metadata": {},
   "source": [
    "#### Since Price is target column so we can't remove it's skewness"
   ]
  },
  {
   "cell_type": "markdown",
   "id": "a5512672",
   "metadata": {},
   "source": [
    "### Removing outliers :"
   ]
  },
  {
   "cell_type": "code",
   "execution_count": 42,
   "id": "9ed3cd5d",
   "metadata": {},
   "outputs": [
    {
     "data": {
      "text/plain": [
       "Airline            float64\n",
       "Date_of_Journey    float64\n",
       "Source             float64\n",
       "Destination        float64\n",
       "Route              float64\n",
       "Dep_Time           float64\n",
       "Arrival_Time       float64\n",
       "Duration           float64\n",
       "Total_Stops        float64\n",
       "Price                int64\n",
       "dtype: object"
      ]
     },
     "execution_count": 42,
     "metadata": {},
     "output_type": "execute_result"
    }
   ],
   "source": [
    "#Outlier check\n",
    "df1.dtypes"
   ]
  },
  {
   "cell_type": "code",
   "execution_count": 43,
   "id": "d40e9811",
   "metadata": {},
   "outputs": [
    {
     "data": {
      "text/plain": [
       "Airline               AxesSubplot(0.125,0.772143;0.133621x0.107857)\n",
       "Date_of_Journey    AxesSubplot(0.285345,0.772143;0.133621x0.107857)\n",
       "Source              AxesSubplot(0.44569,0.772143;0.133621x0.107857)\n",
       "Destination        AxesSubplot(0.606034,0.772143;0.133621x0.107857)\n",
       "Route              AxesSubplot(0.766379,0.772143;0.133621x0.107857)\n",
       "Dep_Time              AxesSubplot(0.125,0.642714;0.133621x0.107857)\n",
       "Arrival_Time       AxesSubplot(0.285345,0.642714;0.133621x0.107857)\n",
       "Duration            AxesSubplot(0.44569,0.642714;0.133621x0.107857)\n",
       "Total_Stops        AxesSubplot(0.606034,0.642714;0.133621x0.107857)\n",
       "Price              AxesSubplot(0.766379,0.642714;0.133621x0.107857)\n",
       "dtype: object"
      ]
     },
     "execution_count": 43,
     "metadata": {},
     "output_type": "execute_result"
    },
    {
     "data": {
      "image/png": "[encoded data removed]",
      "text/plain": [
       "<Figure size 1152x1440 with 30 Axes>"
      ]
     },
     "metadata": {},
     "output_type": "display_data"
    }
   ],
   "source": [
    "#Checking only for continous data types\n",
    "df1.plot.box(layout =(6,5),subplots=True,figsize=(16,20))"
   ]
  },
  {
   "cell_type": "markdown",
   "id": "aab78492",
   "metadata": {},
   "source": [
    "### There looks like a outlier in Airline and source columns and we neglect Price outliers as it is target variable so now we check with z-score:"
   ]
  },
  {
   "cell_type": "code",
   "execution_count": 44,
   "id": "1cfcaf1b",
   "metadata": {},
   "outputs": [
    {
     "data": {
      "text/plain": [
       "(10682, 10)"
      ]
     },
     "execution_count": 44,
     "metadata": {},
     "output_type": "execute_result"
    }
   ],
   "source": [
    "#Outlier removal using z-score\n",
    "df1.shape"
   ]
  },
  {
   "cell_type": "code",
   "execution_count": 45,
   "id": "624b2022",
   "metadata": {},
   "outputs": [
    {
     "data": {
      "text/plain": [
       "(array([  123,   396,   486,   510,   597,   628,   657,   785,   826,\n",
       "          936,   946,   959,   975,  1196,  1246,  1341,  1424,  1466,\n",
       "         1478,  1629,  1654,  1785,  1918,  2055,  2099,  2108,  2495,\n",
       "         2556,  2618,  2635,  2693,  2924,  3032,  3111,  3257,  3400,\n",
       "         3535,  3700,  4012,  4521,  4676,  4829,  5013,  5136,  5372,\n",
       "         5439,  5662,  5701,  5710,  5719,  5738,  5745,  5856,  5986,\n",
       "         6314,  6407,  6576,  6588,  6605,  6991,  7351,  7356,  7377,\n",
       "         7537,  7554,  7617,  7713,  7724,  7756,  7902,  8020,  8080,\n",
       "         8451,  8470,  8536,  8598,  8856,  8940,  8957,  8990,  9019,\n",
       "         9192,  9238,  9631,  9714,  9973, 10051, 10112, 10159, 10181,\n",
       "        10188, 10352, 10363, 10382, 10438, 10510]),\n",
       " array([9, 9, 9, 9, 9, 9, 9, 9, 9, 9, 9, 9, 9, 9, 9, 9, 9, 9, 9, 9, 9, 9,\n",
       "        9, 9, 9, 9, 9, 9, 9, 9, 9, 9, 9, 9, 9, 9, 9, 9, 9, 9, 9, 9, 9, 9,\n",
       "        9, 9, 9, 9, 9, 9, 9, 9, 9, 9, 9, 9, 9, 9, 9, 9, 9, 9, 9, 9, 9, 9,\n",
       "        9, 9, 9, 9, 9, 9, 9, 9, 9, 9, 9, 9, 9, 9, 9, 9, 9, 9, 9, 9, 9, 9,\n",
       "        9, 9, 9, 9, 9, 9, 9, 9]))"
      ]
     },
     "execution_count": 45,
     "metadata": {},
     "output_type": "execute_result"
    }
   ],
   "source": [
    "from scipy.stats import zscore\n",
    "\n",
    "z = np.abs(zscore(df1))\n",
    "threshhold = 3\n",
    "np.where(z>3)"
   ]
  },
  {
   "cell_type": "code",
   "execution_count": 46,
   "id": "91872ce2",
   "metadata": {},
   "outputs": [
    {
     "data": {
      "text/plain": [
       "Index(['Airline', 'Date_of_Journey', 'Source', 'Destination', 'Route',\n",
       "       'Dep_Time', 'Arrival_Time', 'Duration', 'Total_Stops', 'Price'],\n",
       "      dtype='object')"
      ]
     },
     "execution_count": 46,
     "metadata": {},
     "output_type": "execute_result"
    }
   ],
   "source": [
    "df1.columns"
   ]
  },
  {
   "cell_type": "markdown",
   "id": "64204cd8",
   "metadata": {},
   "source": [
    "#### As we can see all outliers are in Price (column 9) which is target variable so overall we don't have outliers to remove"
   ]
  },
  {
   "cell_type": "markdown",
   "id": "77c1ed0d",
   "metadata": {},
   "source": [
    "## Separating the columns into features and target:"
   ]
  },
  {
   "cell_type": "code",
   "execution_count": 47,
   "id": "132d0046",
   "metadata": {},
   "outputs": [],
   "source": [
    "feature = df1.drop(\"Price\",axis=1)\n",
    "target = df1[\"Price\"]"
   ]
  },
  {
   "cell_type": "markdown",
   "id": "ab819d44",
   "metadata": {},
   "source": [
    "### Model 1:"
   ]
  },
  {
   "cell_type": "code",
   "execution_count": 48,
   "id": "71fced54",
   "metadata": {},
   "outputs": [],
   "source": [
    "from sklearn.linear_model import LinearRegression\n",
    "lr = LinearRegression()\n",
    "\n",
    "\n",
    "from sklearn.metrics import r2_score\n",
    "from sklearn.model_selection import train_test_split"
   ]
  },
  {
   "cell_type": "code",
   "execution_count": 49,
   "id": "7e25a6d0",
   "metadata": {},
   "outputs": [],
   "source": [
    "import warnings\n",
    "warnings.filterwarnings('ignore')"
   ]
  },
  {
   "cell_type": "code",
   "execution_count": 50,
   "id": "5ab11f38",
   "metadata": {},
   "outputs": [
    {
     "name": "stdout",
     "output_type": "stream",
     "text": [
      "At random state 0 the training accuracy is : 0.35518964199679903\n",
      "At random state 0 the testing accuracy is : 0.3323928857271913\n",
      "\n",
      "\n",
      "At random state 1 the training accuracy is : 0.3489340921375502\n",
      "At random state 1 the testing accuracy is : 0.35696806525590685\n",
      "\n",
      "\n",
      "At random state 2 the training accuracy is : 0.3498276848314641\n",
      "At random state 2 the testing accuracy is : 0.35102755905279504\n",
      "\n",
      "\n",
      "At random state 3 the training accuracy is : 0.34279024537420877\n",
      "At random state 3 the testing accuracy is : 0.38417625137720135\n",
      "\n",
      "\n",
      "At random state 4 the training accuracy is : 0.3583082663861643\n",
      "At random state 4 the testing accuracy is : 0.32037414981751067\n",
      "\n",
      "\n",
      "At random state 5 the training accuracy is : 0.349915884445794\n",
      "At random state 5 the testing accuracy is : 0.35194298746593367\n",
      "\n",
      "\n",
      "At random state 6 the training accuracy is : 0.35243043615891667\n",
      "At random state 6 the testing accuracy is : 0.3423396021366182\n",
      "\n",
      "\n",
      "At random state 7 the training accuracy is : 0.34685038235649723\n",
      "At random state 7 the testing accuracy is : 0.3653267879015213\n",
      "\n",
      "\n",
      "At random state 8 the training accuracy is : 0.35043924529223713\n",
      "At random state 8 the testing accuracy is : 0.34987910998912797\n",
      "\n",
      "\n",
      "At random state 9 the training accuracy is : 0.3433538805341838\n",
      "At random state 9 the testing accuracy is : 0.3817814240697631\n",
      "\n",
      "\n"
     ]
    }
   ],
   "source": [
    "for i in range(0,10):\n",
    "    features_train,features_test,target_train,target_test = train_test_split(feature,target,test_size = 0.2,random_state = i)\n",
    "    lr.fit(features_train,target_train)\n",
    "    pred_train = lr.predict(features_train)\n",
    "    pred_test = lr.predict(features_test)\n",
    "    print(\"At random state \" + str(i) + \" the training accuracy is : \" + str(r2_score(target_train,pred_train)))\n",
    "    print(\"At random state \" + str(i) + \" the testing accuracy is : \" + str(r2_score(target_test,pred_test)))\n",
    "    print(\"\\n\")"
   ]
  },
  {
   "cell_type": "code",
   "execution_count": 51,
   "id": "5ff17220",
   "metadata": {},
   "outputs": [],
   "source": [
    "features_train,features_test,target_train,target_test = train_test_split(feature,target,test_size = 0.2,random_state = 6)"
   ]
  },
  {
   "cell_type": "code",
   "execution_count": 52,
   "id": "7600bf75",
   "metadata": {},
   "outputs": [
    {
     "data": {
      "text/plain": [
       "LinearRegression()"
      ]
     },
     "execution_count": 52,
     "metadata": {},
     "output_type": "execute_result"
    }
   ],
   "source": [
    "lr.fit(features_train,target_train)"
   ]
  },
  {
   "cell_type": "code",
   "execution_count": 53,
   "id": "79e41e0b",
   "metadata": {},
   "outputs": [],
   "source": [
    "pred_test = lr.predict(features_test)"
   ]
  },
  {
   "cell_type": "code",
   "execution_count": 54,
   "id": "94d52111",
   "metadata": {},
   "outputs": [
    {
     "name": "stdout",
     "output_type": "stream",
     "text": [
      "0.3423396021366182\n"
     ]
    }
   ],
   "source": [
    "print(r2_score(target_test,pred_test))"
   ]
  },
  {
   "cell_type": "markdown",
   "id": "eeb364c9",
   "metadata": {},
   "source": [
    " "
   ]
  },
  {
   "cell_type": "markdown",
   "id": "722f1b8c",
   "metadata": {},
   "source": [
    "### Cross Validation of model:"
   ]
  },
  {
   "cell_type": "code",
   "execution_count": 55,
   "id": "7804be1c",
   "metadata": {},
   "outputs": [],
   "source": [
    "Train_accuracy = r2_score(target_train,pred_train)\n",
    "Test_accuracy = r2_score(target_test,pred_test)"
   ]
  },
  {
   "cell_type": "code",
   "execution_count": 56,
   "id": "ac83fc67",
   "metadata": {},
   "outputs": [
    {
     "name": "stdout",
     "output_type": "stream",
     "text": [
      "At cross fold 2 the cv score is 0.3489410726474129 and accuracy score for training is -0.37411245755590894 and accuracy score for testing is 0.3423396021366182\n",
      "\n",
      "\n",
      "At cross fold 3 the cv score is 0.34888352361796304 and accuracy score for training is -0.37411245755590894 and accuracy score for testing is 0.3423396021366182\n",
      "\n",
      "\n",
      "At cross fold 4 the cv score is 0.3491931449640914 and accuracy score for training is -0.37411245755590894 and accuracy score for testing is 0.3423396021366182\n",
      "\n",
      "\n",
      "At cross fold 5 the cv score is 0.3490547558936269 and accuracy score for training is -0.37411245755590894 and accuracy score for testing is 0.3423396021366182\n",
      "\n",
      "\n",
      "At cross fold 6 the cv score is 0.3492318403396312 and accuracy score for training is -0.37411245755590894 and accuracy score for testing is 0.3423396021366182\n",
      "\n",
      "\n",
      "At cross fold 7 the cv score is 0.34961716153206274 and accuracy score for training is -0.37411245755590894 and accuracy score for testing is 0.3423396021366182\n",
      "\n",
      "\n",
      "At cross fold 8 the cv score is 0.34914375668569064 and accuracy score for training is -0.37411245755590894 and accuracy score for testing is 0.3423396021366182\n",
      "\n",
      "\n",
      "At cross fold 9 the cv score is 0.3499871086748343 and accuracy score for training is -0.37411245755590894 and accuracy score for testing is 0.3423396021366182\n",
      "\n",
      "\n"
     ]
    }
   ],
   "source": [
    "from sklearn.model_selection import cross_val_score\n",
    "\n",
    "for j in range(2,10):\n",
    "    cv_score = cross_val_score(lr,feature,target,cv=j)\n",
    "    cv_mean = cv_score.mean()\n",
    "    print(\"At cross fold \" + str(j) + \" the cv score is \" + str(cv_mean) + \" and accuracy score for training is \" + str(Train_accuracy) + \" and accuracy score for testing is \" + str(Test_accuracy))\n",
    "    print(\"\\n\")"
   ]
  },
  {
   "cell_type": "code",
   "execution_count": 57,
   "id": "a69328e3",
   "metadata": {},
   "outputs": [
    {
     "data": {
      "image/png": "[encoded data removed]",
      "text/plain": [
       "<Figure size 576x432 with 1 Axes>"
      ]
     },
     "metadata": {},
     "output_type": "display_data"
    }
   ],
   "source": [
    "plt.figure(figsize=(8,6))\n",
    "plt.scatter(x=target_test,y=pred_test, color='r')\n",
    "plt.plot(target_test,target_test,color='b')\n",
    "plt.xlabel('Actual Wins')\n",
    "plt.ylabel('Predicted Wins')\n",
    "plt.title('Linear Regression')\n",
    "plt.show()"
   ]
  },
  {
   "cell_type": "markdown",
   "id": "6dbb259a",
   "metadata": {},
   "source": [
    "We can see above not all points lie on best fit curve"
   ]
  },
  {
   "cell_type": "markdown",
   "id": "cead664f",
   "metadata": {},
   "source": [
    " "
   ]
  },
  {
   "cell_type": "markdown",
   "id": "cd470e20",
   "metadata": {},
   "source": [
    "### Trying other models:"
   ]
  },
  {
   "cell_type": "code",
   "execution_count": 58,
   "id": "73062e21",
   "metadata": {},
   "outputs": [],
   "source": [
    "def model_selection(algorithm_instance,features_train,target_train,features_test,target_test):\n",
    "    algorithm_instance.fit(features_train,target_train)\n",
    "    model_1_pred_train = algorithm_instance.predict(features_train)\n",
    "    model_1_pred_test = algorithm_instance.predict(features_test)\n",
    "    print(\"Accuracy for the training model : \",r2_score(target_train,model_1_pred_train))\n",
    "    print(\"Accuracy for the testing model : \",r2_score(target_test,model_1_pred_test))\n",
    "    \n",
    "    Train_accuracy = r2_score(target_train,model_1_pred_train)\n",
    "    Test_accuracy = r2_score(target_test,model_1_pred_test)\n",
    "    \n",
    "    for j in range(2,10):\n",
    "        cv_score = cross_val_score(algorithm_instance,feature,target,cv=j)\n",
    "        cv_mean = cv_score.mean()\n",
    "        print(\"At cross fold \" + str(j) + \" the cv score is \" + str(cv_mean) + \" and accuracy score for training is \" + str(Train_accuracy) + \" and accuracy score for testing is \" + str(Test_accuracy))\n",
    "        print(\"\\n\")"
   ]
  },
  {
   "cell_type": "markdown",
   "id": "432e7277",
   "metadata": {},
   "source": [
    "### Model 2:"
   ]
  },
  {
   "cell_type": "code",
   "execution_count": 59,
   "id": "3f7e7393",
   "metadata": {},
   "outputs": [
    {
     "name": "stdout",
     "output_type": "stream",
     "text": [
      "Accuracy for the training model :  0.9336653385994367\n",
      "Accuracy for the testing model :  0.82952496994682\n",
      "At cross fold 2 the cv score is 0.799219402785314 and accuracy score for training is 0.9336653385994367 and accuracy score for testing is 0.82952496994682\n",
      "\n",
      "\n",
      "At cross fold 3 the cv score is 0.8169677254829765 and accuracy score for training is 0.9336653385994367 and accuracy score for testing is 0.82952496994682\n",
      "\n",
      "\n",
      "At cross fold 4 the cv score is 0.827315016315416 and accuracy score for training is 0.9336653385994367 and accuracy score for testing is 0.82952496994682\n",
      "\n",
      "\n",
      "At cross fold 5 the cv score is 0.8333144047675336 and accuracy score for training is 0.9336653385994367 and accuracy score for testing is 0.82952496994682\n",
      "\n",
      "\n",
      "At cross fold 6 the cv score is 0.8309437552321812 and accuracy score for training is 0.9336653385994367 and accuracy score for testing is 0.82952496994682\n",
      "\n",
      "\n",
      "At cross fold 7 the cv score is 0.8364570952472988 and accuracy score for training is 0.9336653385994367 and accuracy score for testing is 0.82952496994682\n",
      "\n",
      "\n",
      "At cross fold 8 the cv score is 0.8362839893678822 and accuracy score for training is 0.9336653385994367 and accuracy score for testing is 0.82952496994682\n",
      "\n",
      "\n",
      "At cross fold 9 the cv score is 0.8407856371614897 and accuracy score for training is 0.9336653385994367 and accuracy score for testing is 0.82952496994682\n",
      "\n",
      "\n"
     ]
    }
   ],
   "source": [
    "import xgboost as xgb\n",
    "model_selection(xgb.XGBRegressor(),features_train,target_train,features_test,target_test)"
   ]
  },
  {
   "cell_type": "markdown",
   "id": "f649091e",
   "metadata": {},
   "source": [
    "### Model 3:"
   ]
  },
  {
   "cell_type": "code",
   "execution_count": 60,
   "id": "1fc6cef7",
   "metadata": {},
   "outputs": [
    {
     "name": "stdout",
     "output_type": "stream",
     "text": [
      "Accuracy for the training model :  0.9500971962816155\n",
      "Accuracy for the testing model :  0.7802787999799947\n",
      "At cross fold 2 the cv score is 0.7628974330966303 and accuracy score for training is 0.9500971962816155 and accuracy score for testing is 0.7802787999799947\n",
      "\n",
      "\n",
      "At cross fold 3 the cv score is 0.7679674605564509 and accuracy score for training is 0.9500971962816155 and accuracy score for testing is 0.7802787999799947\n",
      "\n",
      "\n",
      "At cross fold 4 the cv score is 0.7728380352763587 and accuracy score for training is 0.9500971962816155 and accuracy score for testing is 0.7802787999799947\n",
      "\n",
      "\n",
      "At cross fold 5 the cv score is 0.7743690990347848 and accuracy score for training is 0.9500971962816155 and accuracy score for testing is 0.7802787999799947\n",
      "\n",
      "\n",
      "At cross fold 6 the cv score is 0.7812578730671328 and accuracy score for training is 0.9500971962816155 and accuracy score for testing is 0.7802787999799947\n",
      "\n",
      "\n",
      "At cross fold 7 the cv score is 0.7853789723612424 and accuracy score for training is 0.9500971962816155 and accuracy score for testing is 0.7802787999799947\n",
      "\n",
      "\n",
      "At cross fold 8 the cv score is 0.7806521698996394 and accuracy score for training is 0.9500971962816155 and accuracy score for testing is 0.7802787999799947\n",
      "\n",
      "\n",
      "At cross fold 9 the cv score is 0.7825335395553369 and accuracy score for training is 0.9500971962816155 and accuracy score for testing is 0.7802787999799947\n",
      "\n",
      "\n"
     ]
    }
   ],
   "source": [
    "from sklearn.ensemble import RandomForestRegressor\n",
    "model_selection(RandomForestRegressor(),features_train,target_train,features_test,target_test)"
   ]
  },
  {
   "cell_type": "markdown",
   "id": "d2b8dbbc",
   "metadata": {},
   "source": [
    "### Model 4:"
   ]
  },
  {
   "cell_type": "code",
   "execution_count": 61,
   "id": "d57aa8d6",
   "metadata": {
    "scrolled": true
   },
   "outputs": [
    {
     "name": "stdout",
     "output_type": "stream",
     "text": [
      "Accuracy for the training model :  -0.020207109409743573\n",
      "Accuracy for the testing model :  -0.017814623806573948\n",
      "At cross fold 2 the cv score is -0.022201896380842245 and accuracy score for training is -0.020207109409743573 and accuracy score for testing is -0.017814623806573948\n",
      "\n",
      "\n",
      "At cross fold 3 the cv score is -0.02098814788681569 and accuracy score for training is -0.020207109409743573 and accuracy score for testing is -0.017814623806573948\n",
      "\n",
      "\n",
      "At cross fold 4 the cv score is -0.021095029231645857 and accuracy score for training is -0.020207109409743573 and accuracy score for testing is -0.017814623806573948\n",
      "\n",
      "\n",
      "At cross fold 5 the cv score is -0.022043664495748506 and accuracy score for training is -0.020207109409743573 and accuracy score for testing is -0.017814623806573948\n",
      "\n",
      "\n",
      "At cross fold 6 the cv score is -0.021914389972116515 and accuracy score for training is -0.020207109409743573 and accuracy score for testing is -0.017814623806573948\n",
      "\n",
      "\n",
      "At cross fold 7 the cv score is -0.0210053426948564 and accuracy score for training is -0.020207109409743573 and accuracy score for testing is -0.017814623806573948\n",
      "\n",
      "\n",
      "At cross fold 8 the cv score is -0.0205668717972321 and accuracy score for training is -0.020207109409743573 and accuracy score for testing is -0.017814623806573948\n",
      "\n",
      "\n",
      "At cross fold 9 the cv score is -0.020528419386288244 and accuracy score for training is -0.020207109409743573 and accuracy score for testing is -0.017814623806573948\n",
      "\n",
      "\n"
     ]
    }
   ],
   "source": [
    "from sklearn.svm import SVR\n",
    "model_selection(SVR(),features_train,target_train,features_test,target_test)"
   ]
  },
  {
   "cell_type": "markdown",
   "id": "321acb8d",
   "metadata": {},
   "source": [
    "### Conclusion: Here XGBRegressor() gives best accuracy hence taking it as main model"
   ]
  },
  {
   "cell_type": "markdown",
   "id": "2dfb4c57",
   "metadata": {},
   "source": [
    " "
   ]
  },
  {
   "cell_type": "markdown",
   "id": "50de68e0",
   "metadata": {},
   "source": [
    "#### Below we have tested mean squared error, Root mean squared error and Mean Absolute error method also:"
   ]
  },
  {
   "cell_type": "code",
   "execution_count": 62,
   "id": "da05d1de",
   "metadata": {},
   "outputs": [],
   "source": [
    "from sklearn.metrics import mean_squared_error\n",
    "from sklearn.metrics import mean_absolute_error"
   ]
  },
  {
   "cell_type": "code",
   "execution_count": 63,
   "id": "94a0cc4c",
   "metadata": {},
   "outputs": [
    {
     "name": "stdout",
     "output_type": "stream",
     "text": [
      "At random state 0 the training accuracy is : 1308180.4458559016\n",
      "At random state 0 the testing accuracy is : 4743705.837002613\n",
      "\n",
      "\n",
      "At random state 1 the training accuracy is : 1391938.7433183575\n",
      "At random state 1 the testing accuracy is : 3694068.885012129\n",
      "\n",
      "\n",
      "At random state 2 the training accuracy is : 1357435.821342271\n",
      "At random state 2 the testing accuracy is : 3866451.006563807\n",
      "\n",
      "\n",
      "At random state 3 the training accuracy is : 1363961.4105836388\n",
      "At random state 3 the testing accuracy is : 3233027.063119126\n",
      "\n",
      "\n",
      "At random state 4 the training accuracy is : 1397334.5583281287\n",
      "At random state 4 the testing accuracy is : 3161624.9803421698\n",
      "\n",
      "\n",
      "At random state 5 the training accuracy is : 1355329.1021069067\n",
      "At random state 5 the testing accuracy is : 3574132.9503798694\n",
      "\n",
      "\n",
      "At random state 6 the training accuracy is : 1378480.7176424756\n",
      "At random state 6 the testing accuracy is : 3954734.6442752\n",
      "\n",
      "\n",
      "At random state 7 the training accuracy is : 1400480.8186869451\n",
      "At random state 7 the testing accuracy is : 3773815.206378458\n",
      "\n",
      "\n",
      "At random state 8 the training accuracy is : 1381824.2833513222\n",
      "At random state 8 the testing accuracy is : 3115089.6129499488\n",
      "\n",
      "\n",
      "At random state 9 the training accuracy is : 1395456.3576665493\n",
      "At random state 9 the testing accuracy is : 2901828.963618794\n",
      "\n",
      "\n"
     ]
    }
   ],
   "source": [
    "# Mean Squared Error Method\n",
    "x = xgb.XGBRegressor()\n",
    "for i in range(0,10):\n",
    "    features_train,features_test,target_train,target_test = train_test_split(feature,target,test_size = 0.2,random_state = i)\n",
    "    x.fit(features_train,target_train)\n",
    "    pred_train = x.predict(features_train)\n",
    "    pred_test = x.predict(features_test)\n",
    "    print(\"At random state \" + str(i) + \" the training accuracy is : \" + str(mean_squared_error(target_train,pred_train)))\n",
    "    print(\"At random state \" + str(i) + \" the testing accuracy is : \" + str(mean_squared_error(target_test,pred_test)))\n",
    "    print(\"\\n\")"
   ]
  },
  {
   "cell_type": "code",
   "execution_count": 64,
   "id": "ce73c4fb",
   "metadata": {},
   "outputs": [
    {
     "name": "stdout",
     "output_type": "stream",
     "text": [
      "At random state 0 the training accuracy is : 1143.7571621003742\n",
      "At random state 0 the testing accuracy is : 2178.00501308023\n",
      "\n",
      "\n",
      "At random state 1 the training accuracy is : 1179.8045360644946\n",
      "At random state 1 the testing accuracy is : 1921.9960678971559\n",
      "\n",
      "\n",
      "At random state 2 the training accuracy is : 1165.0904777493768\n",
      "At random state 2 the testing accuracy is : 1966.3293230188597\n",
      "\n",
      "\n",
      "At random state 3 the training accuracy is : 1167.887584737349\n",
      "At random state 3 the testing accuracy is : 1798.0620298307635\n",
      "\n",
      "\n",
      "At random state 4 the training accuracy is : 1182.0890653111248\n",
      "At random state 4 the testing accuracy is : 1778.0958861496108\n",
      "\n",
      "\n",
      "At random state 5 the training accuracy is : 1164.1860255590198\n",
      "At random state 5 the testing accuracy is : 1890.5377410620158\n",
      "\n",
      "\n",
      "At random state 6 the training accuracy is : 1174.0871848557397\n",
      "At random state 6 the testing accuracy is : 1988.6514637500459\n",
      "\n",
      "\n",
      "At random state 7 the training accuracy is : 1183.4191221570425\n",
      "At random state 7 the testing accuracy is : 1942.6310010855016\n",
      "\n",
      "\n",
      "At random state 8 the training accuracy is : 1175.510222563514\n",
      "At random state 8 the testing accuracy is : 1764.9616463113155\n",
      "\n",
      "\n",
      "At random state 9 the training accuracy is : 1181.2943569096356\n",
      "At random state 9 the testing accuracy is : 1703.475554159435\n",
      "\n",
      "\n"
     ]
    }
   ],
   "source": [
    "# Root Mean Squared Error Method\n",
    "\n",
    "for i in range(0,10):\n",
    "    features_train,features_test,target_train,target_test = train_test_split(feature,target,test_size = 0.2,random_state = i)\n",
    "    x.fit(features_train,target_train)\n",
    "    pred_train = x.predict(features_train)\n",
    "    pred_test = x.predict(features_test)\n",
    "    print(\"At random state \" + str(i) + \" the training accuracy is : \" + str(mean_squared_error(target_train,pred_train,squared=False)))\n",
    "    print(\"At random state \" + str(i) + \" the testing accuracy is : \" + str(mean_squared_error(target_test,pred_test,squared=False)))\n",
    "    print(\"\\n\")"
   ]
  },
  {
   "cell_type": "code",
   "execution_count": 65,
   "id": "a8939b94",
   "metadata": {},
   "outputs": [
    {
     "name": "stdout",
     "output_type": "stream",
     "text": [
      "At random state 0 the training accuracy is : 804.3609118288061\n",
      "At random state 0 the testing accuracy is : 1270.8639568923286\n",
      "\n",
      "\n",
      "At random state 1 the training accuracy is : 825.1028704166133\n",
      "At random state 1 the testing accuracy is : 1219.4726460251118\n",
      "\n",
      "\n",
      "At random state 2 the training accuracy is : 823.342546353862\n",
      "At random state 2 the testing accuracy is : 1174.6873618783268\n",
      "\n",
      "\n",
      "At random state 3 the training accuracy is : 818.2928014943864\n",
      "At random state 3 the testing accuracy is : 1196.2834945628729\n",
      "\n",
      "\n",
      "At random state 4 the training accuracy is : 826.6178128228541\n",
      "At random state 4 the testing accuracy is : 1209.9971485985848\n",
      "\n",
      "\n",
      "At random state 5 the training accuracy is : 820.3457514959863\n",
      "At random state 5 the testing accuracy is : 1176.8241275899813\n",
      "\n",
      "\n",
      "At random state 6 the training accuracy is : 826.2588811045156\n",
      "At random state 6 the testing accuracy is : 1226.6896353450734\n",
      "\n",
      "\n",
      "At random state 7 the training accuracy is : 835.1799970114558\n",
      "At random state 7 the testing accuracy is : 1196.3979377371718\n",
      "\n",
      "\n",
      "At random state 8 the training accuracy is : 826.2044353880193\n",
      "At random state 8 the testing accuracy is : 1169.591547422003\n",
      "\n",
      "\n",
      "At random state 9 the training accuracy is : 830.4118270061531\n",
      "At random state 9 the testing accuracy is : 1177.1059729683661\n",
      "\n",
      "\n"
     ]
    }
   ],
   "source": [
    "# Mean Absolute Error Method\n",
    "\n",
    "for i in range(0,10):\n",
    "    features_train,features_test,target_train,target_test = train_test_split(feature,target,test_size = 0.2,random_state = i)\n",
    "    x.fit(features_train,target_train)\n",
    "    pred_train = x.predict(features_train)\n",
    "    pred_test = x.predict(features_test)\n",
    "    print(\"At random state \" + str(i) + \" the training accuracy is : \" + str(mean_absolute_error(target_train,pred_train)))\n",
    "    print(\"At random state \" + str(i) + \" the testing accuracy is : \" + str(mean_absolute_error(target_test,pred_test)))\n",
    "    print(\"\\n\")"
   ]
  },
  {
   "cell_type": "markdown",
   "id": "2556ec72",
   "metadata": {},
   "source": [
    "#### Conclusion of 4 metrics method : As we can see we got best accuracy reseults in r2_score among (r2_score, mse, rms,mae)"
   ]
  },
  {
   "cell_type": "markdown",
   "id": "baadecb4",
   "metadata": {},
   "source": [
    "### Regularization using Lasso:"
   ]
  },
  {
   "cell_type": "code",
   "execution_count": 83,
   "id": "30f1ebbe",
   "metadata": {},
   "outputs": [],
   "source": [
    "from sklearn.model_selection import GridSearchCV\n",
    "from sklearn.model_selection import cross_val_score\n",
    "import warnings\n",
    "warnings.filterwarnings('ignore')"
   ]
  },
  {
   "cell_type": "code",
   "execution_count": 84,
   "id": "c9373798",
   "metadata": {},
   "outputs": [
    {
     "name": "stdout",
     "output_type": "stream",
     "text": [
      "{'alpha': 1, 'random_state': 0}\n"
     ]
    }
   ],
   "source": [
    "from sklearn.linear_model import Lasso\n",
    "parameters = {'alpha':[0.0001,0.001,0.01,0.1,1,10],'random_state':list(range(0,10))}\n",
    "ls=Lasso()\n",
    "clf = GridSearchCV(ls,parameters)\n",
    "clf.fit(features_train,target_train)\n",
    "\n",
    "print(clf.best_params_)"
   ]
  },
  {
   "cell_type": "code",
   "execution_count": 85,
   "id": "be7609a9",
   "metadata": {},
   "outputs": [
    {
     "data": {
      "text/plain": [
       "0.38180653976753043"
      ]
     },
     "execution_count": 85,
     "metadata": {},
     "output_type": "execute_result"
    }
   ],
   "source": [
    "ls = Lasso(alpha = 1, random_state=0)\n",
    "ls.fit(features_train,target_train)\n",
    "ls.score(features_train,target_train)\n",
    "pred_ls = ls.predict(features_test)\n",
    "\n",
    "lss = r2_score(target_test,pred_ls)\n",
    "lss"
   ]
  },
  {
   "cell_type": "code",
   "execution_count": 86,
   "id": "c9deca8e",
   "metadata": {},
   "outputs": [
    {
     "data": {
      "text/plain": [
       "0.3492379883886689"
      ]
     },
     "execution_count": 86,
     "metadata": {},
     "output_type": "execute_result"
    }
   ],
   "source": [
    "cv_score = cross_val_score(ls,feature,target,cv=6)\n",
    "cv_mean =cv_score.mean()\n",
    "abs(cv_mean)"
   ]
  },
  {
   "cell_type": "markdown",
   "id": "cfb37a74",
   "metadata": {},
   "source": [
    "### Ensemble technique:"
   ]
  },
  {
   "cell_type": "code",
   "execution_count": 89,
   "id": "af7d495a",
   "metadata": {},
   "outputs": [
    {
     "name": "stdout",
     "output_type": "stream",
     "text": [
      "{'criterion': 'mae', 'max_features': 'auto', 'min_samples_leaf': 1, 'min_samples_split': 5}\n"
     ]
    }
   ],
   "source": [
    "from sklearn.model_selection import GridSearchCV\n",
    "from sklearn.ensemble import RandomForestRegressor\n",
    "\n",
    "#using 4 parameters\n",
    "parameters = {'criterion':['mse','mae'], 'max_features': [\"auto\",\"sqrt\",\"log2\"], 'min_samples_split' : [2,5,10], 'min_samples_leaf' : [1,2,4]}\n",
    "rf = RandomForestRegressor()\n",
    "clf = GridSearchCV(rf,parameters)\n",
    "clf.fit(features_train,target_train)\n",
    "\n",
    "print(clf.best_params_)"
   ]
  },
  {
   "cell_type": "code",
   "execution_count": 94,
   "id": "a0a29bba",
   "metadata": {},
   "outputs": [
    {
     "name": "stdout",
     "output_type": "stream",
     "text": [
      "R2 score:   30.378748332592235\n",
      "Cross Validation score:  44.10214019493765\n"
     ]
    }
   ],
   "source": [
    "rf = RandomForestRegressor(criterion = \"mae\", max_features = \"auto\", min_samples_leaf = 1, min_samples_split = 5)\n",
    "rf.fit(features_train,target_train)\n",
    "rf.score(features_train,target_train)\n",
    "pred_decision = rf.predict(features_test)\n",
    "\n",
    "rfs = r2_score(target_test,pred_decision)\n",
    "print('R2 score: ', abs(rfs)*100)\n",
    "\n",
    "rfscore = cross_val_score(ls,feature,target,cv=6)\n",
    "rfc =rfscore.mean()\n",
    "rfc\n",
    "print('Cross Validation score: ', abs(rfc)*100)"
   ]
  },
  {
   "cell_type": "markdown",
   "id": "88082184",
   "metadata": {},
   "source": [
    "#### Predicting Prices:"
   ]
  },
  {
   "cell_type": "code",
   "execution_count": 96,
   "id": "3222bf77",
   "metadata": {},
   "outputs": [],
   "source": [
    "df2.drop(\"Additional_Info\", axis=1, inplace=True)"
   ]
  },
  {
   "cell_type": "code",
   "execution_count": 97,
   "id": "266aa6bc",
   "metadata": {},
   "outputs": [],
   "source": [
    "for i in df2.columns:\n",
    "    if df2[i].dtypes == \"object\":\n",
    "        df2[i] = enc.fit_transform(df2[i].values.reshape(-1,1))"
   ]
  },
  {
   "cell_type": "code",
   "execution_count": 98,
   "id": "675af07d",
   "metadata": {},
   "outputs": [],
   "source": [
    "x = xgb.XGBRegressor()\n",
    "features_test2 = df2\n",
    "x.fit(features_train,target_train)\n",
    "pred_test2 = x.predict(features_test2)"
   ]
  },
  {
   "cell_type": "code",
   "execution_count": 99,
   "id": "2238a34b",
   "metadata": {},
   "outputs": [
    {
     "data": {
      "text/html": [
       "<div>\n",
       "<style scoped>\n",
       "    .dataframe tbody tr th:only-of-type {\n",
       "        vertical-align: middle;\n",
       "    }\n",
       "\n",
       "    .dataframe tbody tr th {\n",
       "        vertical-align: top;\n",
       "    }\n",
       "\n",
       "    .dataframe thead th {\n",
       "        text-align: right;\n",
       "    }\n",
       "</style>\n",
       "<table border=\"1\" class=\"dataframe\">\n",
       "  <thead>\n",
       "    <tr style=\"text-align: right;\">\n",
       "      <th></th>\n",
       "      <th>Price</th>\n",
       "    </tr>\n",
       "  </thead>\n",
       "  <tbody>\n",
       "    <tr>\n",
       "      <th>0</th>\n",
       "      <td>15671.653320</td>\n",
       "    </tr>\n",
       "    <tr>\n",
       "      <th>1</th>\n",
       "      <td>9267.370117</td>\n",
       "    </tr>\n",
       "    <tr>\n",
       "      <th>2</th>\n",
       "      <td>8750.856445</td>\n",
       "    </tr>\n",
       "    <tr>\n",
       "      <th>3</th>\n",
       "      <td>8748.331055</td>\n",
       "    </tr>\n",
       "    <tr>\n",
       "      <th>4</th>\n",
       "      <td>3256.567139</td>\n",
       "    </tr>\n",
       "    <tr>\n",
       "      <th>...</th>\n",
       "      <td>...</td>\n",
       "    </tr>\n",
       "    <tr>\n",
       "      <th>2666</th>\n",
       "      <td>9250.256836</td>\n",
       "    </tr>\n",
       "    <tr>\n",
       "      <th>2667</th>\n",
       "      <td>3846.077393</td>\n",
       "    </tr>\n",
       "    <tr>\n",
       "      <th>2668</th>\n",
       "      <td>16730.429688</td>\n",
       "    </tr>\n",
       "    <tr>\n",
       "      <th>2669</th>\n",
       "      <td>13481.528320</td>\n",
       "    </tr>\n",
       "    <tr>\n",
       "      <th>2670</th>\n",
       "      <td>9330.357422</td>\n",
       "    </tr>\n",
       "  </tbody>\n",
       "</table>\n",
       "<p>2671 rows × 1 columns</p>\n",
       "</div>"
      ],
      "text/plain": [
       "             Price\n",
       "0     15671.653320\n",
       "1      9267.370117\n",
       "2      8750.856445\n",
       "3      8748.331055\n",
       "4      3256.567139\n",
       "...            ...\n",
       "2666   9250.256836\n",
       "2667   3846.077393\n",
       "2668  16730.429688\n",
       "2669  13481.528320\n",
       "2670   9330.357422\n",
       "\n",
       "[2671 rows x 1 columns]"
      ]
     },
     "execution_count": 99,
     "metadata": {},
     "output_type": "execute_result"
    }
   ],
   "source": [
    "pred_price = pd.DataFrame({'Price': pred_test2})\n",
    "pred_price"
   ]
  },
  {
   "cell_type": "code",
   "execution_count": 100,
   "id": "eb4ef121",
   "metadata": {},
   "outputs": [],
   "source": [
    "pred_price.to_excel(\"Price_Prediction.xlsx\",index = False)"
   ]
  }
 ],
 "metadata": {
  "kernelspec": {
   "display_name": "Python 3 (ipykernel)",
   "language": "python",
   "name": "python3"
  },
  "language_info": {
   "codemirror_mode": {
    "name": "ipython",
    "version": 3
   },
   "file_extension": ".py",
   "mimetype": "text/x-python",
   "name": "python",
   "nbconvert_exporter": "python",
   "pygments_lexer": "ipython3",
   "version": "3.7.11"
  }
 },
 "nbformat": 4,
 "nbformat_minor": 5
}
