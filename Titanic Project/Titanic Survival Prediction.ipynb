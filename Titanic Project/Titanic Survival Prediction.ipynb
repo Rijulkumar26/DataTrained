{
 "cells": [
  {
   "cell_type": "code",
   "execution_count": 5,
   "id": "80e038c9",
   "metadata": {},
   "outputs": [],
   "source": [
    "import numpy as np\n",
    "import pandas as pd\n",
    "import seaborn as sns\n",
    "import matplotlib.pyplot as plt\n",
    "\n",
    "import warnings\n",
    "warnings.filterwarnings('ignore')"
   ]
  },
  {
   "cell_type": "code",
   "execution_count": 6,
   "id": "d584d91d",
   "metadata": {},
   "outputs": [],
   "source": [
    "df = pd.read_csv('titanic_train.csv')"
   ]
  },
  {
   "cell_type": "code",
   "execution_count": 7,
   "id": "0001bcb5",
   "metadata": {},
   "outputs": [
    {
     "data": {
      "text/html": [
       "<div>\n",
       "<style scoped>\n",
       "    .dataframe tbody tr th:only-of-type {\n",
       "        vertical-align: middle;\n",
       "    }\n",
       "\n",
       "    .dataframe tbody tr th {\n",
       "        vertical-align: top;\n",
       "    }\n",
       "\n",
       "    .dataframe thead th {\n",
       "        text-align: right;\n",
       "    }\n",
       "</style>\n",
       "<table border=\"1\" class=\"dataframe\">\n",
       "  <thead>\n",
       "    <tr style=\"text-align: right;\">\n",
       "      <th></th>\n",
       "      <th>PassengerId</th>\n",
       "      <th>Survived</th>\n",
       "      <th>Pclass</th>\n",
       "      <th>Name</th>\n",
       "      <th>Sex</th>\n",
       "      <th>Age</th>\n",
       "      <th>SibSp</th>\n",
       "      <th>Parch</th>\n",
       "      <th>Ticket</th>\n",
       "      <th>Fare</th>\n",
       "      <th>Cabin</th>\n",
       "      <th>Embarked</th>\n",
       "    </tr>\n",
       "  </thead>\n",
       "  <tbody>\n",
       "    <tr>\n",
       "      <th>0</th>\n",
       "      <td>1</td>\n",
       "      <td>0</td>\n",
       "      <td>3</td>\n",
       "      <td>Braund, Mr. Owen Harris</td>\n",
       "      <td>male</td>\n",
       "      <td>22.0</td>\n",
       "      <td>1</td>\n",
       "      <td>0</td>\n",
       "      <td>A/5 21171</td>\n",
       "      <td>7.2500</td>\n",
       "      <td>NaN</td>\n",
       "      <td>S</td>\n",
       "    </tr>\n",
       "    <tr>\n",
       "      <th>1</th>\n",
       "      <td>2</td>\n",
       "      <td>1</td>\n",
       "      <td>1</td>\n",
       "      <td>Cumings, Mrs. John Bradley (Florence Briggs Th...</td>\n",
       "      <td>female</td>\n",
       "      <td>38.0</td>\n",
       "      <td>1</td>\n",
       "      <td>0</td>\n",
       "      <td>PC 17599</td>\n",
       "      <td>71.2833</td>\n",
       "      <td>C85</td>\n",
       "      <td>C</td>\n",
       "    </tr>\n",
       "    <tr>\n",
       "      <th>2</th>\n",
       "      <td>3</td>\n",
       "      <td>1</td>\n",
       "      <td>3</td>\n",
       "      <td>Heikkinen, Miss. Laina</td>\n",
       "      <td>female</td>\n",
       "      <td>26.0</td>\n",
       "      <td>0</td>\n",
       "      <td>0</td>\n",
       "      <td>STON/O2. 3101282</td>\n",
       "      <td>7.9250</td>\n",
       "      <td>NaN</td>\n",
       "      <td>S</td>\n",
       "    </tr>\n",
       "    <tr>\n",
       "      <th>3</th>\n",
       "      <td>4</td>\n",
       "      <td>1</td>\n",
       "      <td>1</td>\n",
       "      <td>Futrelle, Mrs. Jacques Heath (Lily May Peel)</td>\n",
       "      <td>female</td>\n",
       "      <td>35.0</td>\n",
       "      <td>1</td>\n",
       "      <td>0</td>\n",
       "      <td>113803</td>\n",
       "      <td>53.1000</td>\n",
       "      <td>C123</td>\n",
       "      <td>S</td>\n",
       "    </tr>\n",
       "    <tr>\n",
       "      <th>4</th>\n",
       "      <td>5</td>\n",
       "      <td>0</td>\n",
       "      <td>3</td>\n",
       "      <td>Allen, Mr. William Henry</td>\n",
       "      <td>male</td>\n",
       "      <td>35.0</td>\n",
       "      <td>0</td>\n",
       "      <td>0</td>\n",
       "      <td>373450</td>\n",
       "      <td>8.0500</td>\n",
       "      <td>NaN</td>\n",
       "      <td>S</td>\n",
       "    </tr>\n",
       "    <tr>\n",
       "      <th>...</th>\n",
       "      <td>...</td>\n",
       "      <td>...</td>\n",
       "      <td>...</td>\n",
       "      <td>...</td>\n",
       "      <td>...</td>\n",
       "      <td>...</td>\n",
       "      <td>...</td>\n",
       "      <td>...</td>\n",
       "      <td>...</td>\n",
       "      <td>...</td>\n",
       "      <td>...</td>\n",
       "      <td>...</td>\n",
       "    </tr>\n",
       "    <tr>\n",
       "      <th>886</th>\n",
       "      <td>887</td>\n",
       "      <td>0</td>\n",
       "      <td>2</td>\n",
       "      <td>Montvila, Rev. Juozas</td>\n",
       "      <td>male</td>\n",
       "      <td>27.0</td>\n",
       "      <td>0</td>\n",
       "      <td>0</td>\n",
       "      <td>211536</td>\n",
       "      <td>13.0000</td>\n",
       "      <td>NaN</td>\n",
       "      <td>S</td>\n",
       "    </tr>\n",
       "    <tr>\n",
       "      <th>887</th>\n",
       "      <td>888</td>\n",
       "      <td>1</td>\n",
       "      <td>1</td>\n",
       "      <td>Graham, Miss. Margaret Edith</td>\n",
       "      <td>female</td>\n",
       "      <td>19.0</td>\n",
       "      <td>0</td>\n",
       "      <td>0</td>\n",
       "      <td>112053</td>\n",
       "      <td>30.0000</td>\n",
       "      <td>B42</td>\n",
       "      <td>S</td>\n",
       "    </tr>\n",
       "    <tr>\n",
       "      <th>888</th>\n",
       "      <td>889</td>\n",
       "      <td>0</td>\n",
       "      <td>3</td>\n",
       "      <td>Johnston, Miss. Catherine Helen \"Carrie\"</td>\n",
       "      <td>female</td>\n",
       "      <td>NaN</td>\n",
       "      <td>1</td>\n",
       "      <td>2</td>\n",
       "      <td>W./C. 6607</td>\n",
       "      <td>23.4500</td>\n",
       "      <td>NaN</td>\n",
       "      <td>S</td>\n",
       "    </tr>\n",
       "    <tr>\n",
       "      <th>889</th>\n",
       "      <td>890</td>\n",
       "      <td>1</td>\n",
       "      <td>1</td>\n",
       "      <td>Behr, Mr. Karl Howell</td>\n",
       "      <td>male</td>\n",
       "      <td>26.0</td>\n",
       "      <td>0</td>\n",
       "      <td>0</td>\n",
       "      <td>111369</td>\n",
       "      <td>30.0000</td>\n",
       "      <td>C148</td>\n",
       "      <td>C</td>\n",
       "    </tr>\n",
       "    <tr>\n",
       "      <th>890</th>\n",
       "      <td>891</td>\n",
       "      <td>0</td>\n",
       "      <td>3</td>\n",
       "      <td>Dooley, Mr. Patrick</td>\n",
       "      <td>male</td>\n",
       "      <td>32.0</td>\n",
       "      <td>0</td>\n",
       "      <td>0</td>\n",
       "      <td>370376</td>\n",
       "      <td>7.7500</td>\n",
       "      <td>NaN</td>\n",
       "      <td>Q</td>\n",
       "    </tr>\n",
       "  </tbody>\n",
       "</table>\n",
       "<p>891 rows × 12 columns</p>\n",
       "</div>"
      ],
      "text/plain": [
       "     PassengerId  Survived  Pclass  \\\n",
       "0              1         0       3   \n",
       "1              2         1       1   \n",
       "2              3         1       3   \n",
       "3              4         1       1   \n",
       "4              5         0       3   \n",
       "..           ...       ...     ...   \n",
       "886          887         0       2   \n",
       "887          888         1       1   \n",
       "888          889         0       3   \n",
       "889          890         1       1   \n",
       "890          891         0       3   \n",
       "\n",
       "                                                  Name     Sex   Age  SibSp  \\\n",
       "0                              Braund, Mr. Owen Harris    male  22.0      1   \n",
       "1    Cumings, Mrs. John Bradley (Florence Briggs Th...  female  38.0      1   \n",
       "2                               Heikkinen, Miss. Laina  female  26.0      0   \n",
       "3         Futrelle, Mrs. Jacques Heath (Lily May Peel)  female  35.0      1   \n",
       "4                             Allen, Mr. William Henry    male  35.0      0   \n",
       "..                                                 ...     ...   ...    ...   \n",
       "886                              Montvila, Rev. Juozas    male  27.0      0   \n",
       "887                       Graham, Miss. Margaret Edith  female  19.0      0   \n",
       "888           Johnston, Miss. Catherine Helen \"Carrie\"  female   NaN      1   \n",
       "889                              Behr, Mr. Karl Howell    male  26.0      0   \n",
       "890                                Dooley, Mr. Patrick    male  32.0      0   \n",
       "\n",
       "     Parch            Ticket     Fare Cabin Embarked  \n",
       "0        0         A/5 21171   7.2500   NaN        S  \n",
       "1        0          PC 17599  71.2833   C85        C  \n",
       "2        0  STON/O2. 3101282   7.9250   NaN        S  \n",
       "3        0            113803  53.1000  C123        S  \n",
       "4        0            373450   8.0500   NaN        S  \n",
       "..     ...               ...      ...   ...      ...  \n",
       "886      0            211536  13.0000   NaN        S  \n",
       "887      0            112053  30.0000   B42        S  \n",
       "888      2        W./C. 6607  23.4500   NaN        S  \n",
       "889      0            111369  30.0000  C148        C  \n",
       "890      0            370376   7.7500   NaN        Q  \n",
       "\n",
       "[891 rows x 12 columns]"
      ]
     },
     "execution_count": 7,
     "metadata": {},
     "output_type": "execute_result"
    }
   ],
   "source": [
    "df"
   ]
  },
  {
   "cell_type": "code",
   "execution_count": 8,
   "id": "53d94616",
   "metadata": {},
   "outputs": [
    {
     "data": {
      "text/plain": [
       "(891, 12)"
      ]
     },
     "execution_count": 8,
     "metadata": {},
     "output_type": "execute_result"
    }
   ],
   "source": [
    "df.shape"
   ]
  },
  {
   "cell_type": "code",
   "execution_count": 9,
   "id": "2487b8b3",
   "metadata": {},
   "outputs": [
    {
     "data": {
      "text/html": [
       "<div>\n",
       "<style scoped>\n",
       "    .dataframe tbody tr th:only-of-type {\n",
       "        vertical-align: middle;\n",
       "    }\n",
       "\n",
       "    .dataframe tbody tr th {\n",
       "        vertical-align: top;\n",
       "    }\n",
       "\n",
       "    .dataframe thead th {\n",
       "        text-align: right;\n",
       "    }\n",
       "</style>\n",
       "<table border=\"1\" class=\"dataframe\">\n",
       "  <thead>\n",
       "    <tr style=\"text-align: right;\">\n",
       "      <th></th>\n",
       "      <th>PassengerId</th>\n",
       "      <th>Survived</th>\n",
       "      <th>Pclass</th>\n",
       "      <th>Age</th>\n",
       "      <th>SibSp</th>\n",
       "      <th>Parch</th>\n",
       "      <th>Fare</th>\n",
       "    </tr>\n",
       "  </thead>\n",
       "  <tbody>\n",
       "    <tr>\n",
       "      <th>count</th>\n",
       "      <td>891.000000</td>\n",
       "      <td>891.000000</td>\n",
       "      <td>891.000000</td>\n",
       "      <td>714.000000</td>\n",
       "      <td>891.000000</td>\n",
       "      <td>891.000000</td>\n",
       "      <td>891.000000</td>\n",
       "    </tr>\n",
       "    <tr>\n",
       "      <th>mean</th>\n",
       "      <td>446.000000</td>\n",
       "      <td>0.383838</td>\n",
       "      <td>2.308642</td>\n",
       "      <td>29.699118</td>\n",
       "      <td>0.523008</td>\n",
       "      <td>0.381594</td>\n",
       "      <td>32.204208</td>\n",
       "    </tr>\n",
       "    <tr>\n",
       "      <th>std</th>\n",
       "      <td>257.353842</td>\n",
       "      <td>0.486592</td>\n",
       "      <td>0.836071</td>\n",
       "      <td>14.526497</td>\n",
       "      <td>1.102743</td>\n",
       "      <td>0.806057</td>\n",
       "      <td>49.693429</td>\n",
       "    </tr>\n",
       "    <tr>\n",
       "      <th>min</th>\n",
       "      <td>1.000000</td>\n",
       "      <td>0.000000</td>\n",
       "      <td>1.000000</td>\n",
       "      <td>0.420000</td>\n",
       "      <td>0.000000</td>\n",
       "      <td>0.000000</td>\n",
       "      <td>0.000000</td>\n",
       "    </tr>\n",
       "    <tr>\n",
       "      <th>25%</th>\n",
       "      <td>223.500000</td>\n",
       "      <td>0.000000</td>\n",
       "      <td>2.000000</td>\n",
       "      <td>20.125000</td>\n",
       "      <td>0.000000</td>\n",
       "      <td>0.000000</td>\n",
       "      <td>7.910400</td>\n",
       "    </tr>\n",
       "    <tr>\n",
       "      <th>50%</th>\n",
       "      <td>446.000000</td>\n",
       "      <td>0.000000</td>\n",
       "      <td>3.000000</td>\n",
       "      <td>28.000000</td>\n",
       "      <td>0.000000</td>\n",
       "      <td>0.000000</td>\n",
       "      <td>14.454200</td>\n",
       "    </tr>\n",
       "    <tr>\n",
       "      <th>75%</th>\n",
       "      <td>668.500000</td>\n",
       "      <td>1.000000</td>\n",
       "      <td>3.000000</td>\n",
       "      <td>38.000000</td>\n",
       "      <td>1.000000</td>\n",
       "      <td>0.000000</td>\n",
       "      <td>31.000000</td>\n",
       "    </tr>\n",
       "    <tr>\n",
       "      <th>max</th>\n",
       "      <td>891.000000</td>\n",
       "      <td>1.000000</td>\n",
       "      <td>3.000000</td>\n",
       "      <td>80.000000</td>\n",
       "      <td>8.000000</td>\n",
       "      <td>6.000000</td>\n",
       "      <td>512.329200</td>\n",
       "    </tr>\n",
       "  </tbody>\n",
       "</table>\n",
       "</div>"
      ],
      "text/plain": [
       "       PassengerId    Survived      Pclass         Age       SibSp  \\\n",
       "count   891.000000  891.000000  891.000000  714.000000  891.000000   \n",
       "mean    446.000000    0.383838    2.308642   29.699118    0.523008   \n",
       "std     257.353842    0.486592    0.836071   14.526497    1.102743   \n",
       "min       1.000000    0.000000    1.000000    0.420000    0.000000   \n",
       "25%     223.500000    0.000000    2.000000   20.125000    0.000000   \n",
       "50%     446.000000    0.000000    3.000000   28.000000    0.000000   \n",
       "75%     668.500000    1.000000    3.000000   38.000000    1.000000   \n",
       "max     891.000000    1.000000    3.000000   80.000000    8.000000   \n",
       "\n",
       "            Parch        Fare  \n",
       "count  891.000000  891.000000  \n",
       "mean     0.381594   32.204208  \n",
       "std      0.806057   49.693429  \n",
       "min      0.000000    0.000000  \n",
       "25%      0.000000    7.910400  \n",
       "50%      0.000000   14.454200  \n",
       "75%      0.000000   31.000000  \n",
       "max      6.000000  512.329200  "
      ]
     },
     "execution_count": 9,
     "metadata": {},
     "output_type": "execute_result"
    }
   ],
   "source": [
    "#Statistical summary\n",
    "df.describe()"
   ]
  },
  {
   "cell_type": "code",
   "execution_count": 10,
   "id": "171ea71c",
   "metadata": {},
   "outputs": [
    {
     "data": {
      "text/plain": [
       "PassengerId      int64\n",
       "Survived         int64\n",
       "Pclass           int64\n",
       "Name            object\n",
       "Sex             object\n",
       "Age            float64\n",
       "SibSp            int64\n",
       "Parch            int64\n",
       "Ticket          object\n",
       "Fare           float64\n",
       "Cabin           object\n",
       "Embarked        object\n",
       "dtype: object"
      ]
     },
     "execution_count": 10,
     "metadata": {},
     "output_type": "execute_result"
    }
   ],
   "source": [
    "#Column Data type\n",
    "df.dtypes"
   ]
  },
  {
   "cell_type": "code",
   "execution_count": 11,
   "id": "97db0405",
   "metadata": {
    "scrolled": true
   },
   "outputs": [
    {
     "data": {
      "image/png": "[encoded data removed]",
      "text/plain": [
       "<Figure size 432x288 with 2 Axes>"
      ]
     },
     "metadata": {
      "needs_background": "light"
     },
     "output_type": "display_data"
    }
   ],
   "source": [
    "#Checking null values using heatmap\n",
    "sns.heatmap(df.isnull())\n",
    "plt.show()"
   ]
  },
  {
   "cell_type": "code",
   "execution_count": 12,
   "id": "0ece00fc",
   "metadata": {},
   "outputs": [
    {
     "data": {
      "text/plain": [
       "866"
      ]
     },
     "execution_count": 12,
     "metadata": {},
     "output_type": "execute_result"
    }
   ],
   "source": [
    "#Total number of null values in complete dataset\n",
    "df.isnull().sum().sum()"
   ]
  },
  {
   "cell_type": "code",
   "execution_count": 13,
   "id": "223a9ccf",
   "metadata": {},
   "outputs": [
    {
     "data": {
      "text/plain": [
       "PassengerId      0\n",
       "Survived         0\n",
       "Pclass           0\n",
       "Name             0\n",
       "Sex              0\n",
       "Age            177\n",
       "SibSp            0\n",
       "Parch            0\n",
       "Ticket           0\n",
       "Fare             0\n",
       "Cabin          687\n",
       "Embarked         2\n",
       "dtype: int64"
      ]
     },
     "execution_count": 13,
     "metadata": {},
     "output_type": "execute_result"
    }
   ],
   "source": [
    "#number of null values in each column\n",
    "df.isnull().sum()"
   ]
  },
  {
   "cell_type": "code",
   "execution_count": 14,
   "id": "313742d6",
   "metadata": {},
   "outputs": [],
   "source": [
    "#Replacing missing values of Age with mean values\n",
    "mean_age = df.Age.mean()\n",
    "df.Age.fillna(mean_age,inplace=True)"
   ]
  },
  {
   "cell_type": "code",
   "execution_count": 15,
   "id": "0894a927",
   "metadata": {},
   "outputs": [],
   "source": [
    "#Replacing missing values of Embarked with mode values\n",
    "mode_emb = df.Embarked.mode()\n",
    "df.Embarked.fillna(mode_emb[0],inplace=True)"
   ]
  },
  {
   "cell_type": "code",
   "execution_count": 16,
   "id": "5792ffff",
   "metadata": {},
   "outputs": [
    {
     "data": {
      "text/plain": [
       "array([nan, 'C85', 'C123', 'E46', 'G6', 'C103', 'D56', 'A6',\n",
       "       'C23 C25 C27', 'B78', 'D33', 'B30', 'C52', 'B28', 'C83', 'F33',\n",
       "       'F G73', 'E31', 'A5', 'D10 D12', 'D26', 'C110', 'B58 B60', 'E101',\n",
       "       'F E69', 'D47', 'B86', 'F2', 'C2', 'E33', 'B19', 'A7', 'C49', 'F4',\n",
       "       'A32', 'B4', 'B80', 'A31', 'D36', 'D15', 'C93', 'C78', 'D35',\n",
       "       'C87', 'B77', 'E67', 'B94', 'C125', 'C99', 'C118', 'D7', 'A19',\n",
       "       'B49', 'D', 'C22 C26', 'C106', 'C65', 'E36', 'C54',\n",
       "       'B57 B59 B63 B66', 'C7', 'E34', 'C32', 'B18', 'C124', 'C91', 'E40',\n",
       "       'T', 'C128', 'D37', 'B35', 'E50', 'C82', 'B96 B98', 'E10', 'E44',\n",
       "       'A34', 'C104', 'C111', 'C92', 'E38', 'D21', 'E12', 'E63', 'A14',\n",
       "       'B37', 'C30', 'D20', 'B79', 'E25', 'D46', 'B73', 'C95', 'B38',\n",
       "       'B39', 'B22', 'C86', 'C70', 'A16', 'C101', 'C68', 'A10', 'E68',\n",
       "       'B41', 'A20', 'D19', 'D50', 'D9', 'A23', 'B50', 'A26', 'D48',\n",
       "       'E58', 'C126', 'B71', 'B51 B53 B55', 'D49', 'B5', 'B20', 'F G63',\n",
       "       'C62 C64', 'E24', 'C90', 'C45', 'E8', 'B101', 'D45', 'C46', 'D30',\n",
       "       'E121', 'D11', 'E77', 'F38', 'B3', 'D6', 'B82 B84', 'D17', 'A36',\n",
       "       'B102', 'B69', 'E49', 'C47', 'D28', 'E17', 'A24', 'C50', 'B42',\n",
       "       'C148'], dtype=object)"
      ]
     },
     "execution_count": 16,
     "metadata": {},
     "output_type": "execute_result"
    }
   ],
   "source": [
    "#Checking unique Cabin values\n",
    "df.Cabin.unique()"
   ]
  },
  {
   "cell_type": "code",
   "execution_count": 17,
   "id": "e669dc2c",
   "metadata": {},
   "outputs": [],
   "source": [
    "#Dropping Cabin as almost all are null\n",
    "df.drop(\"Cabin\",axis=1,inplace=True)"
   ]
  },
  {
   "cell_type": "code",
   "execution_count": 18,
   "id": "a23ce00d",
   "metadata": {},
   "outputs": [
    {
     "data": {
      "text/plain": [
       "PassengerId    0\n",
       "Survived       0\n",
       "Pclass         0\n",
       "Name           0\n",
       "Sex            0\n",
       "Age            0\n",
       "SibSp          0\n",
       "Parch          0\n",
       "Ticket         0\n",
       "Fare           0\n",
       "Embarked       0\n",
       "dtype: int64"
      ]
     },
     "execution_count": 18,
     "metadata": {},
     "output_type": "execute_result"
    }
   ],
   "source": [
    "#number of null values in each column now\n",
    "df.isnull().sum()"
   ]
  },
  {
   "cell_type": "code",
   "execution_count": 19,
   "id": "a78881c6",
   "metadata": {},
   "outputs": [
    {
     "data": {
      "text/html": [
       "<div>\n",
       "<style scoped>\n",
       "    .dataframe tbody tr th:only-of-type {\n",
       "        vertical-align: middle;\n",
       "    }\n",
       "\n",
       "    .dataframe tbody tr th {\n",
       "        vertical-align: top;\n",
       "    }\n",
       "\n",
       "    .dataframe thead th {\n",
       "        text-align: right;\n",
       "    }\n",
       "</style>\n",
       "<table border=\"1\" class=\"dataframe\">\n",
       "  <thead>\n",
       "    <tr style=\"text-align: right;\">\n",
       "      <th></th>\n",
       "      <th>PassengerId</th>\n",
       "      <th>Survived</th>\n",
       "      <th>Pclass</th>\n",
       "      <th>Name</th>\n",
       "      <th>Sex</th>\n",
       "      <th>Age</th>\n",
       "      <th>SibSp</th>\n",
       "      <th>Parch</th>\n",
       "      <th>Ticket</th>\n",
       "      <th>Fare</th>\n",
       "      <th>Embarked</th>\n",
       "    </tr>\n",
       "  </thead>\n",
       "  <tbody>\n",
       "    <tr>\n",
       "      <th>0</th>\n",
       "      <td>1</td>\n",
       "      <td>0</td>\n",
       "      <td>3</td>\n",
       "      <td>Braund, Mr. Owen Harris</td>\n",
       "      <td>male</td>\n",
       "      <td>22.000000</td>\n",
       "      <td>1</td>\n",
       "      <td>0</td>\n",
       "      <td>A/5 21171</td>\n",
       "      <td>7.2500</td>\n",
       "      <td>S</td>\n",
       "    </tr>\n",
       "    <tr>\n",
       "      <th>1</th>\n",
       "      <td>2</td>\n",
       "      <td>1</td>\n",
       "      <td>1</td>\n",
       "      <td>Cumings, Mrs. John Bradley (Florence Briggs Th...</td>\n",
       "      <td>female</td>\n",
       "      <td>38.000000</td>\n",
       "      <td>1</td>\n",
       "      <td>0</td>\n",
       "      <td>PC 17599</td>\n",
       "      <td>71.2833</td>\n",
       "      <td>C</td>\n",
       "    </tr>\n",
       "    <tr>\n",
       "      <th>2</th>\n",
       "      <td>3</td>\n",
       "      <td>1</td>\n",
       "      <td>3</td>\n",
       "      <td>Heikkinen, Miss. Laina</td>\n",
       "      <td>female</td>\n",
       "      <td>26.000000</td>\n",
       "      <td>0</td>\n",
       "      <td>0</td>\n",
       "      <td>STON/O2. 3101282</td>\n",
       "      <td>7.9250</td>\n",
       "      <td>S</td>\n",
       "    </tr>\n",
       "    <tr>\n",
       "      <th>3</th>\n",
       "      <td>4</td>\n",
       "      <td>1</td>\n",
       "      <td>1</td>\n",
       "      <td>Futrelle, Mrs. Jacques Heath (Lily May Peel)</td>\n",
       "      <td>female</td>\n",
       "      <td>35.000000</td>\n",
       "      <td>1</td>\n",
       "      <td>0</td>\n",
       "      <td>113803</td>\n",
       "      <td>53.1000</td>\n",
       "      <td>S</td>\n",
       "    </tr>\n",
       "    <tr>\n",
       "      <th>4</th>\n",
       "      <td>5</td>\n",
       "      <td>0</td>\n",
       "      <td>3</td>\n",
       "      <td>Allen, Mr. William Henry</td>\n",
       "      <td>male</td>\n",
       "      <td>35.000000</td>\n",
       "      <td>0</td>\n",
       "      <td>0</td>\n",
       "      <td>373450</td>\n",
       "      <td>8.0500</td>\n",
       "      <td>S</td>\n",
       "    </tr>\n",
       "    <tr>\n",
       "      <th>...</th>\n",
       "      <td>...</td>\n",
       "      <td>...</td>\n",
       "      <td>...</td>\n",
       "      <td>...</td>\n",
       "      <td>...</td>\n",
       "      <td>...</td>\n",
       "      <td>...</td>\n",
       "      <td>...</td>\n",
       "      <td>...</td>\n",
       "      <td>...</td>\n",
       "      <td>...</td>\n",
       "    </tr>\n",
       "    <tr>\n",
       "      <th>886</th>\n",
       "      <td>887</td>\n",
       "      <td>0</td>\n",
       "      <td>2</td>\n",
       "      <td>Montvila, Rev. Juozas</td>\n",
       "      <td>male</td>\n",
       "      <td>27.000000</td>\n",
       "      <td>0</td>\n",
       "      <td>0</td>\n",
       "      <td>211536</td>\n",
       "      <td>13.0000</td>\n",
       "      <td>S</td>\n",
       "    </tr>\n",
       "    <tr>\n",
       "      <th>887</th>\n",
       "      <td>888</td>\n",
       "      <td>1</td>\n",
       "      <td>1</td>\n",
       "      <td>Graham, Miss. Margaret Edith</td>\n",
       "      <td>female</td>\n",
       "      <td>19.000000</td>\n",
       "      <td>0</td>\n",
       "      <td>0</td>\n",
       "      <td>112053</td>\n",
       "      <td>30.0000</td>\n",
       "      <td>S</td>\n",
       "    </tr>\n",
       "    <tr>\n",
       "      <th>888</th>\n",
       "      <td>889</td>\n",
       "      <td>0</td>\n",
       "      <td>3</td>\n",
       "      <td>Johnston, Miss. Catherine Helen \"Carrie\"</td>\n",
       "      <td>female</td>\n",
       "      <td>29.699118</td>\n",
       "      <td>1</td>\n",
       "      <td>2</td>\n",
       "      <td>W./C. 6607</td>\n",
       "      <td>23.4500</td>\n",
       "      <td>S</td>\n",
       "    </tr>\n",
       "    <tr>\n",
       "      <th>889</th>\n",
       "      <td>890</td>\n",
       "      <td>1</td>\n",
       "      <td>1</td>\n",
       "      <td>Behr, Mr. Karl Howell</td>\n",
       "      <td>male</td>\n",
       "      <td>26.000000</td>\n",
       "      <td>0</td>\n",
       "      <td>0</td>\n",
       "      <td>111369</td>\n",
       "      <td>30.0000</td>\n",
       "      <td>C</td>\n",
       "    </tr>\n",
       "    <tr>\n",
       "      <th>890</th>\n",
       "      <td>891</td>\n",
       "      <td>0</td>\n",
       "      <td>3</td>\n",
       "      <td>Dooley, Mr. Patrick</td>\n",
       "      <td>male</td>\n",
       "      <td>32.000000</td>\n",
       "      <td>0</td>\n",
       "      <td>0</td>\n",
       "      <td>370376</td>\n",
       "      <td>7.7500</td>\n",
       "      <td>Q</td>\n",
       "    </tr>\n",
       "  </tbody>\n",
       "</table>\n",
       "<p>891 rows × 11 columns</p>\n",
       "</div>"
      ],
      "text/plain": [
       "     PassengerId  Survived  Pclass  \\\n",
       "0              1         0       3   \n",
       "1              2         1       1   \n",
       "2              3         1       3   \n",
       "3              4         1       1   \n",
       "4              5         0       3   \n",
       "..           ...       ...     ...   \n",
       "886          887         0       2   \n",
       "887          888         1       1   \n",
       "888          889         0       3   \n",
       "889          890         1       1   \n",
       "890          891         0       3   \n",
       "\n",
       "                                                  Name     Sex        Age  \\\n",
       "0                              Braund, Mr. Owen Harris    male  22.000000   \n",
       "1    Cumings, Mrs. John Bradley (Florence Briggs Th...  female  38.000000   \n",
       "2                               Heikkinen, Miss. Laina  female  26.000000   \n",
       "3         Futrelle, Mrs. Jacques Heath (Lily May Peel)  female  35.000000   \n",
       "4                             Allen, Mr. William Henry    male  35.000000   \n",
       "..                                                 ...     ...        ...   \n",
       "886                              Montvila, Rev. Juozas    male  27.000000   \n",
       "887                       Graham, Miss. Margaret Edith  female  19.000000   \n",
       "888           Johnston, Miss. Catherine Helen \"Carrie\"  female  29.699118   \n",
       "889                              Behr, Mr. Karl Howell    male  26.000000   \n",
       "890                                Dooley, Mr. Patrick    male  32.000000   \n",
       "\n",
       "     SibSp  Parch            Ticket     Fare Embarked  \n",
       "0        1      0         A/5 21171   7.2500        S  \n",
       "1        1      0          PC 17599  71.2833        C  \n",
       "2        0      0  STON/O2. 3101282   7.9250        S  \n",
       "3        1      0            113803  53.1000        S  \n",
       "4        0      0            373450   8.0500        S  \n",
       "..     ...    ...               ...      ...      ...  \n",
       "886      0      0            211536  13.0000        S  \n",
       "887      0      0            112053  30.0000        S  \n",
       "888      1      2        W./C. 6607  23.4500        S  \n",
       "889      0      0            111369  30.0000        C  \n",
       "890      0      0            370376   7.7500        Q  \n",
       "\n",
       "[891 rows x 11 columns]"
      ]
     },
     "execution_count": 19,
     "metadata": {},
     "output_type": "execute_result"
    }
   ],
   "source": [
    "df"
   ]
  },
  {
   "cell_type": "code",
   "execution_count": 20,
   "id": "78d2af3a",
   "metadata": {},
   "outputs": [
    {
     "data": {
      "text/html": [
       "<div>\n",
       "<style scoped>\n",
       "    .dataframe tbody tr th:only-of-type {\n",
       "        vertical-align: middle;\n",
       "    }\n",
       "\n",
       "    .dataframe tbody tr th {\n",
       "        vertical-align: top;\n",
       "    }\n",
       "\n",
       "    .dataframe thead th {\n",
       "        text-align: right;\n",
       "    }\n",
       "</style>\n",
       "<table border=\"1\" class=\"dataframe\">\n",
       "  <thead>\n",
       "    <tr style=\"text-align: right;\">\n",
       "      <th></th>\n",
       "      <th>PassengerId</th>\n",
       "      <th>Survived</th>\n",
       "      <th>Pclass</th>\n",
       "      <th>Name</th>\n",
       "      <th>Sex</th>\n",
       "      <th>Age</th>\n",
       "      <th>Family</th>\n",
       "      <th>Ticket</th>\n",
       "      <th>Fare</th>\n",
       "      <th>Embarked</th>\n",
       "    </tr>\n",
       "  </thead>\n",
       "  <tbody>\n",
       "    <tr>\n",
       "      <th>0</th>\n",
       "      <td>1</td>\n",
       "      <td>0</td>\n",
       "      <td>3</td>\n",
       "      <td>Braund, Mr. Owen Harris</td>\n",
       "      <td>male</td>\n",
       "      <td>22.000000</td>\n",
       "      <td>1</td>\n",
       "      <td>A/5 21171</td>\n",
       "      <td>7.2500</td>\n",
       "      <td>S</td>\n",
       "    </tr>\n",
       "    <tr>\n",
       "      <th>1</th>\n",
       "      <td>2</td>\n",
       "      <td>1</td>\n",
       "      <td>1</td>\n",
       "      <td>Cumings, Mrs. John Bradley (Florence Briggs Th...</td>\n",
       "      <td>female</td>\n",
       "      <td>38.000000</td>\n",
       "      <td>1</td>\n",
       "      <td>PC 17599</td>\n",
       "      <td>71.2833</td>\n",
       "      <td>C</td>\n",
       "    </tr>\n",
       "    <tr>\n",
       "      <th>2</th>\n",
       "      <td>3</td>\n",
       "      <td>1</td>\n",
       "      <td>3</td>\n",
       "      <td>Heikkinen, Miss. Laina</td>\n",
       "      <td>female</td>\n",
       "      <td>26.000000</td>\n",
       "      <td>0</td>\n",
       "      <td>STON/O2. 3101282</td>\n",
       "      <td>7.9250</td>\n",
       "      <td>S</td>\n",
       "    </tr>\n",
       "    <tr>\n",
       "      <th>3</th>\n",
       "      <td>4</td>\n",
       "      <td>1</td>\n",
       "      <td>1</td>\n",
       "      <td>Futrelle, Mrs. Jacques Heath (Lily May Peel)</td>\n",
       "      <td>female</td>\n",
       "      <td>35.000000</td>\n",
       "      <td>1</td>\n",
       "      <td>113803</td>\n",
       "      <td>53.1000</td>\n",
       "      <td>S</td>\n",
       "    </tr>\n",
       "    <tr>\n",
       "      <th>4</th>\n",
       "      <td>5</td>\n",
       "      <td>0</td>\n",
       "      <td>3</td>\n",
       "      <td>Allen, Mr. William Henry</td>\n",
       "      <td>male</td>\n",
       "      <td>35.000000</td>\n",
       "      <td>0</td>\n",
       "      <td>373450</td>\n",
       "      <td>8.0500</td>\n",
       "      <td>S</td>\n",
       "    </tr>\n",
       "    <tr>\n",
       "      <th>...</th>\n",
       "      <td>...</td>\n",
       "      <td>...</td>\n",
       "      <td>...</td>\n",
       "      <td>...</td>\n",
       "      <td>...</td>\n",
       "      <td>...</td>\n",
       "      <td>...</td>\n",
       "      <td>...</td>\n",
       "      <td>...</td>\n",
       "      <td>...</td>\n",
       "    </tr>\n",
       "    <tr>\n",
       "      <th>886</th>\n",
       "      <td>887</td>\n",
       "      <td>0</td>\n",
       "      <td>2</td>\n",
       "      <td>Montvila, Rev. Juozas</td>\n",
       "      <td>male</td>\n",
       "      <td>27.000000</td>\n",
       "      <td>0</td>\n",
       "      <td>211536</td>\n",
       "      <td>13.0000</td>\n",
       "      <td>S</td>\n",
       "    </tr>\n",
       "    <tr>\n",
       "      <th>887</th>\n",
       "      <td>888</td>\n",
       "      <td>1</td>\n",
       "      <td>1</td>\n",
       "      <td>Graham, Miss. Margaret Edith</td>\n",
       "      <td>female</td>\n",
       "      <td>19.000000</td>\n",
       "      <td>0</td>\n",
       "      <td>112053</td>\n",
       "      <td>30.0000</td>\n",
       "      <td>S</td>\n",
       "    </tr>\n",
       "    <tr>\n",
       "      <th>888</th>\n",
       "      <td>889</td>\n",
       "      <td>0</td>\n",
       "      <td>3</td>\n",
       "      <td>Johnston, Miss. Catherine Helen \"Carrie\"</td>\n",
       "      <td>female</td>\n",
       "      <td>29.699118</td>\n",
       "      <td>3</td>\n",
       "      <td>W./C. 6607</td>\n",
       "      <td>23.4500</td>\n",
       "      <td>S</td>\n",
       "    </tr>\n",
       "    <tr>\n",
       "      <th>889</th>\n",
       "      <td>890</td>\n",
       "      <td>1</td>\n",
       "      <td>1</td>\n",
       "      <td>Behr, Mr. Karl Howell</td>\n",
       "      <td>male</td>\n",
       "      <td>26.000000</td>\n",
       "      <td>0</td>\n",
       "      <td>111369</td>\n",
       "      <td>30.0000</td>\n",
       "      <td>C</td>\n",
       "    </tr>\n",
       "    <tr>\n",
       "      <th>890</th>\n",
       "      <td>891</td>\n",
       "      <td>0</td>\n",
       "      <td>3</td>\n",
       "      <td>Dooley, Mr. Patrick</td>\n",
       "      <td>male</td>\n",
       "      <td>32.000000</td>\n",
       "      <td>0</td>\n",
       "      <td>370376</td>\n",
       "      <td>7.7500</td>\n",
       "      <td>Q</td>\n",
       "    </tr>\n",
       "  </tbody>\n",
       "</table>\n",
       "<p>891 rows × 10 columns</p>\n",
       "</div>"
      ],
      "text/plain": [
       "     PassengerId  Survived  Pclass  \\\n",
       "0              1         0       3   \n",
       "1              2         1       1   \n",
       "2              3         1       3   \n",
       "3              4         1       1   \n",
       "4              5         0       3   \n",
       "..           ...       ...     ...   \n",
       "886          887         0       2   \n",
       "887          888         1       1   \n",
       "888          889         0       3   \n",
       "889          890         1       1   \n",
       "890          891         0       3   \n",
       "\n",
       "                                                  Name     Sex        Age  \\\n",
       "0                              Braund, Mr. Owen Harris    male  22.000000   \n",
       "1    Cumings, Mrs. John Bradley (Florence Briggs Th...  female  38.000000   \n",
       "2                               Heikkinen, Miss. Laina  female  26.000000   \n",
       "3         Futrelle, Mrs. Jacques Heath (Lily May Peel)  female  35.000000   \n",
       "4                             Allen, Mr. William Henry    male  35.000000   \n",
       "..                                                 ...     ...        ...   \n",
       "886                              Montvila, Rev. Juozas    male  27.000000   \n",
       "887                       Graham, Miss. Margaret Edith  female  19.000000   \n",
       "888           Johnston, Miss. Catherine Helen \"Carrie\"  female  29.699118   \n",
       "889                              Behr, Mr. Karl Howell    male  26.000000   \n",
       "890                                Dooley, Mr. Patrick    male  32.000000   \n",
       "\n",
       "     Family            Ticket     Fare Embarked  \n",
       "0         1         A/5 21171   7.2500        S  \n",
       "1         1          PC 17599  71.2833        C  \n",
       "2         0  STON/O2. 3101282   7.9250        S  \n",
       "3         1            113803  53.1000        S  \n",
       "4         0            373450   8.0500        S  \n",
       "..      ...               ...      ...      ...  \n",
       "886       0            211536  13.0000        S  \n",
       "887       0            112053  30.0000        S  \n",
       "888       3        W./C. 6607  23.4500        S  \n",
       "889       0            111369  30.0000        C  \n",
       "890       0            370376   7.7500        Q  \n",
       "\n",
       "[891 rows x 10 columns]"
      ]
     },
     "execution_count": 20,
     "metadata": {},
     "output_type": "execute_result"
    }
   ],
   "source": [
    "#replacing family column in place of SibSp and Parch\n",
    "df.insert(6, \"Family\", 0)\n",
    "df['Family'] = df.SibSp + df.Parch\n",
    "df.drop(['SibSp','Parch'],axis=1,inplace=True)\n",
    "df"
   ]
  },
  {
   "cell_type": "code",
   "execution_count": 21,
   "id": "6c5783ef",
   "metadata": {},
   "outputs": [],
   "source": [
    "#Making dataframe of nominal data\n",
    "df_visualisation_nominal = df[['Sex','Embarked','Survived','Pclass']].copy()"
   ]
  },
  {
   "cell_type": "code",
   "execution_count": 22,
   "id": "61be3632",
   "metadata": {},
   "outputs": [
    {
     "name": "stdout",
     "output_type": "stream",
     "text": [
      "male      577\n",
      "female    314\n",
      "Name: Sex, dtype: int64\n"
     ]
    },
    {
     "data": {
      "image/png": "[encoded data removed]",
      "text/plain": [
       "<Figure size 432x288 with 1 Axes>"
      ]
     },
     "metadata": {
      "needs_background": "light"
     },
     "output_type": "display_data"
    }
   ],
   "source": [
    "#Visualisation of Sex data\n",
    "ax = sns.countplot(x='Sex',data=df_visualisation_nominal)\n",
    "print(df_visualisation_nominal['Sex'].value_counts())"
   ]
  },
  {
   "cell_type": "markdown",
   "id": "fcee8fd8",
   "metadata": {},
   "source": [
    "From above observation we can say that male(577) were more than female(314)"
   ]
  },
  {
   "cell_type": "code",
   "execution_count": 23,
   "id": "869170f1",
   "metadata": {},
   "outputs": [
    {
     "name": "stdout",
     "output_type": "stream",
     "text": [
      "S    646\n",
      "C    168\n",
      "Q     77\n",
      "Name: Embarked, dtype: int64\n"
     ]
    },
    {
     "data": {
      "image/png": "[encoded data removed]",
      "text/plain": [
       "<Figure size 432x288 with 1 Axes>"
      ]
     },
     "metadata": {
      "needs_background": "light"
     },
     "output_type": "display_data"
    }
   ],
   "source": [
    "#Visualisation of Embarked data\n",
    "ax = sns.countplot(x='Embarked',data=df_visualisation_nominal)\n",
    "print(df_visualisation_nominal['Embarked'].value_counts())"
   ]
  },
  {
   "cell_type": "markdown",
   "id": "c05ca9c4",
   "metadata": {},
   "source": [
    "More than 70% of the people boarded from S and around 20% boarded from C and the rest boarded from Q"
   ]
  },
  {
   "cell_type": "code",
   "execution_count": 24,
   "id": "460923c7",
   "metadata": {},
   "outputs": [
    {
     "name": "stdout",
     "output_type": "stream",
     "text": [
      "0    549\n",
      "1    342\n",
      "Name: Survived, dtype: int64\n"
     ]
    },
    {
     "data": {
      "image/png": "[encoded data removed]",
      "text/plain": [
       "<Figure size 432x288 with 1 Axes>"
      ]
     },
     "metadata": {
      "needs_background": "light"
     },
     "output_type": "display_data"
    }
   ],
   "source": [
    "#Visualisation of Survived data\n",
    "ax = sns.countplot(x='Survived',data=df_visualisation_nominal)\n",
    "print(df_visualisation_nominal['Survived'].value_counts())"
   ]
  },
  {
   "cell_type": "markdown",
   "id": "61e42893",
   "metadata": {},
   "source": [
    "More people died(549) than survived(342)"
   ]
  },
  {
   "cell_type": "code",
   "execution_count": 25,
   "id": "22eb4012",
   "metadata": {},
   "outputs": [
    {
     "name": "stdout",
     "output_type": "stream",
     "text": [
      "3    491\n",
      "1    216\n",
      "2    184\n",
      "Name: Pclass, dtype: int64\n"
     ]
    },
    {
     "data": {
      "image/png": "[encoded data removed]",
      "text/plain": [
       "<Figure size 432x288 with 1 Axes>"
      ]
     },
     "metadata": {
      "needs_background": "light"
     },
     "output_type": "display_data"
    }
   ],
   "source": [
    "#Visualisation of Pclass data\n",
    "ax = sns.countplot(x='Pclass',data=df_visualisation_nominal)\n",
    "print(df_visualisation_nominal['Pclass'].value_counts())"
   ]
  },
  {
   "cell_type": "markdown",
   "id": "2208c47f",
   "metadata": {},
   "source": [
    "Roughly 55% people were in Class3, 24% in Class1 and rest in Class2"
   ]
  },
  {
   "cell_type": "code",
   "execution_count": 26,
   "id": "f3f06360",
   "metadata": {},
   "outputs": [],
   "source": [
    "#Making dataframe of Continous data\n",
    "df_visualisation_continous = df[['Age','Fare']].copy()"
   ]
  },
  {
   "cell_type": "code",
   "execution_count": 27,
   "id": "ca790635",
   "metadata": {},
   "outputs": [
    {
     "data": {
      "text/plain": [
       "<AxesSubplot:xlabel='Age', ylabel='Density'>"
      ]
     },
     "execution_count": 27,
     "metadata": {},
     "output_type": "execute_result"
    },
    {
     "data": {
      "image/png": "[encoded data removed]",
      "text/plain": [
       "<Figure size 432x288 with 1 Axes>"
      ]
     },
     "metadata": {
      "needs_background": "light"
     },
     "output_type": "display_data"
    }
   ],
   "source": [
    "#Visualisation of Age data\n",
    "sns.distplot(df_visualisation_continous['Age'])"
   ]
  },
  {
   "cell_type": "code",
   "execution_count": 28,
   "id": "dbbf9380",
   "metadata": {},
   "outputs": [
    {
     "data": {
      "text/plain": [
       "<AxesSubplot:xlabel='Fare', ylabel='Density'>"
      ]
     },
     "execution_count": 28,
     "metadata": {},
     "output_type": "execute_result"
    },
    {
     "data": {
      "image/png": "[encoded data removed]",
      "text/plain": [
       "<Figure size 432x288 with 1 Axes>"
      ]
     },
     "metadata": {
      "needs_background": "light"
     },
     "output_type": "display_data"
    }
   ],
   "source": [
    "#Visualisation of Fare data\n",
    "sns.distplot(df_visualisation_continous['Fare'])"
   ]
  },
  {
   "cell_type": "markdown",
   "id": "d3f7eb6a",
   "metadata": {},
   "source": [
    "Visualisation is completed"
   ]
  },
  {
   "cell_type": "markdown",
   "id": "d5c960a7",
   "metadata": {},
   "source": [
    "#Encoding of Dataframe(Converting String to numeric)"
   ]
  },
  {
   "cell_type": "code",
   "execution_count": 29,
   "id": "2226ac39",
   "metadata": {},
   "outputs": [],
   "source": [
    "from sklearn.preprocessing import OrdinalEncoder\n",
    "enc = OrdinalEncoder()"
   ]
  },
  {
   "cell_type": "code",
   "execution_count": 30,
   "id": "d0039602",
   "metadata": {},
   "outputs": [],
   "source": [
    "for i in df.columns:\n",
    "    if df[i].dtypes == \"object\":\n",
    "        df[i] = enc.fit_transform(df[i].values.reshape(-1,1))"
   ]
  },
  {
   "cell_type": "code",
   "execution_count": 31,
   "id": "3b13b26d",
   "metadata": {},
   "outputs": [
    {
     "data": {
      "text/html": [
       "<div>\n",
       "<style scoped>\n",
       "    .dataframe tbody tr th:only-of-type {\n",
       "        vertical-align: middle;\n",
       "    }\n",
       "\n",
       "    .dataframe tbody tr th {\n",
       "        vertical-align: top;\n",
       "    }\n",
       "\n",
       "    .dataframe thead th {\n",
       "        text-align: right;\n",
       "    }\n",
       "</style>\n",
       "<table border=\"1\" class=\"dataframe\">\n",
       "  <thead>\n",
       "    <tr style=\"text-align: right;\">\n",
       "      <th></th>\n",
       "      <th>PassengerId</th>\n",
       "      <th>Survived</th>\n",
       "      <th>Pclass</th>\n",
       "      <th>Name</th>\n",
       "      <th>Sex</th>\n",
       "      <th>Age</th>\n",
       "      <th>Family</th>\n",
       "      <th>Ticket</th>\n",
       "      <th>Fare</th>\n",
       "      <th>Embarked</th>\n",
       "    </tr>\n",
       "  </thead>\n",
       "  <tbody>\n",
       "    <tr>\n",
       "      <th>0</th>\n",
       "      <td>1</td>\n",
       "      <td>0</td>\n",
       "      <td>3</td>\n",
       "      <td>108.0</td>\n",
       "      <td>1.0</td>\n",
       "      <td>22.000000</td>\n",
       "      <td>1</td>\n",
       "      <td>523.0</td>\n",
       "      <td>7.2500</td>\n",
       "      <td>2.0</td>\n",
       "    </tr>\n",
       "    <tr>\n",
       "      <th>1</th>\n",
       "      <td>2</td>\n",
       "      <td>1</td>\n",
       "      <td>1</td>\n",
       "      <td>190.0</td>\n",
       "      <td>0.0</td>\n",
       "      <td>38.000000</td>\n",
       "      <td>1</td>\n",
       "      <td>596.0</td>\n",
       "      <td>71.2833</td>\n",
       "      <td>0.0</td>\n",
       "    </tr>\n",
       "    <tr>\n",
       "      <th>2</th>\n",
       "      <td>3</td>\n",
       "      <td>1</td>\n",
       "      <td>3</td>\n",
       "      <td>353.0</td>\n",
       "      <td>0.0</td>\n",
       "      <td>26.000000</td>\n",
       "      <td>0</td>\n",
       "      <td>669.0</td>\n",
       "      <td>7.9250</td>\n",
       "      <td>2.0</td>\n",
       "    </tr>\n",
       "    <tr>\n",
       "      <th>3</th>\n",
       "      <td>4</td>\n",
       "      <td>1</td>\n",
       "      <td>1</td>\n",
       "      <td>272.0</td>\n",
       "      <td>0.0</td>\n",
       "      <td>35.000000</td>\n",
       "      <td>1</td>\n",
       "      <td>49.0</td>\n",
       "      <td>53.1000</td>\n",
       "      <td>2.0</td>\n",
       "    </tr>\n",
       "    <tr>\n",
       "      <th>4</th>\n",
       "      <td>5</td>\n",
       "      <td>0</td>\n",
       "      <td>3</td>\n",
       "      <td>15.0</td>\n",
       "      <td>1.0</td>\n",
       "      <td>35.000000</td>\n",
       "      <td>0</td>\n",
       "      <td>472.0</td>\n",
       "      <td>8.0500</td>\n",
       "      <td>2.0</td>\n",
       "    </tr>\n",
       "    <tr>\n",
       "      <th>...</th>\n",
       "      <td>...</td>\n",
       "      <td>...</td>\n",
       "      <td>...</td>\n",
       "      <td>...</td>\n",
       "      <td>...</td>\n",
       "      <td>...</td>\n",
       "      <td>...</td>\n",
       "      <td>...</td>\n",
       "      <td>...</td>\n",
       "      <td>...</td>\n",
       "    </tr>\n",
       "    <tr>\n",
       "      <th>886</th>\n",
       "      <td>887</td>\n",
       "      <td>0</td>\n",
       "      <td>2</td>\n",
       "      <td>548.0</td>\n",
       "      <td>1.0</td>\n",
       "      <td>27.000000</td>\n",
       "      <td>0</td>\n",
       "      <td>101.0</td>\n",
       "      <td>13.0000</td>\n",
       "      <td>2.0</td>\n",
       "    </tr>\n",
       "    <tr>\n",
       "      <th>887</th>\n",
       "      <td>888</td>\n",
       "      <td>1</td>\n",
       "      <td>1</td>\n",
       "      <td>303.0</td>\n",
       "      <td>0.0</td>\n",
       "      <td>19.000000</td>\n",
       "      <td>0</td>\n",
       "      <td>14.0</td>\n",
       "      <td>30.0000</td>\n",
       "      <td>2.0</td>\n",
       "    </tr>\n",
       "    <tr>\n",
       "      <th>888</th>\n",
       "      <td>889</td>\n",
       "      <td>0</td>\n",
       "      <td>3</td>\n",
       "      <td>413.0</td>\n",
       "      <td>0.0</td>\n",
       "      <td>29.699118</td>\n",
       "      <td>3</td>\n",
       "      <td>675.0</td>\n",
       "      <td>23.4500</td>\n",
       "      <td>2.0</td>\n",
       "    </tr>\n",
       "    <tr>\n",
       "      <th>889</th>\n",
       "      <td>890</td>\n",
       "      <td>1</td>\n",
       "      <td>1</td>\n",
       "      <td>81.0</td>\n",
       "      <td>1.0</td>\n",
       "      <td>26.000000</td>\n",
       "      <td>0</td>\n",
       "      <td>8.0</td>\n",
       "      <td>30.0000</td>\n",
       "      <td>0.0</td>\n",
       "    </tr>\n",
       "    <tr>\n",
       "      <th>890</th>\n",
       "      <td>891</td>\n",
       "      <td>0</td>\n",
       "      <td>3</td>\n",
       "      <td>220.0</td>\n",
       "      <td>1.0</td>\n",
       "      <td>32.000000</td>\n",
       "      <td>0</td>\n",
       "      <td>466.0</td>\n",
       "      <td>7.7500</td>\n",
       "      <td>1.0</td>\n",
       "    </tr>\n",
       "  </tbody>\n",
       "</table>\n",
       "<p>891 rows × 10 columns</p>\n",
       "</div>"
      ],
      "text/plain": [
       "     PassengerId  Survived  Pclass   Name  Sex        Age  Family  Ticket  \\\n",
       "0              1         0       3  108.0  1.0  22.000000       1   523.0   \n",
       "1              2         1       1  190.0  0.0  38.000000       1   596.0   \n",
       "2              3         1       3  353.0  0.0  26.000000       0   669.0   \n",
       "3              4         1       1  272.0  0.0  35.000000       1    49.0   \n",
       "4              5         0       3   15.0  1.0  35.000000       0   472.0   \n",
       "..           ...       ...     ...    ...  ...        ...     ...     ...   \n",
       "886          887         0       2  548.0  1.0  27.000000       0   101.0   \n",
       "887          888         1       1  303.0  0.0  19.000000       0    14.0   \n",
       "888          889         0       3  413.0  0.0  29.699118       3   675.0   \n",
       "889          890         1       1   81.0  1.0  26.000000       0     8.0   \n",
       "890          891         0       3  220.0  1.0  32.000000       0   466.0   \n",
       "\n",
       "        Fare  Embarked  \n",
       "0     7.2500       2.0  \n",
       "1    71.2833       0.0  \n",
       "2     7.9250       2.0  \n",
       "3    53.1000       2.0  \n",
       "4     8.0500       2.0  \n",
       "..       ...       ...  \n",
       "886  13.0000       2.0  \n",
       "887  30.0000       2.0  \n",
       "888  23.4500       2.0  \n",
       "889  30.0000       0.0  \n",
       "890   7.7500       1.0  \n",
       "\n",
       "[891 rows x 10 columns]"
      ]
     },
     "execution_count": 31,
     "metadata": {},
     "output_type": "execute_result"
    }
   ],
   "source": [
    "df"
   ]
  },
  {
   "cell_type": "code",
   "execution_count": 32,
   "id": "e752d8e1",
   "metadata": {},
   "outputs": [
    {
     "data": {
      "text/html": [
       "<div>\n",
       "<style scoped>\n",
       "    .dataframe tbody tr th:only-of-type {\n",
       "        vertical-align: middle;\n",
       "    }\n",
       "\n",
       "    .dataframe tbody tr th {\n",
       "        vertical-align: top;\n",
       "    }\n",
       "\n",
       "    .dataframe thead th {\n",
       "        text-align: right;\n",
       "    }\n",
       "</style>\n",
       "<table border=\"1\" class=\"dataframe\">\n",
       "  <thead>\n",
       "    <tr style=\"text-align: right;\">\n",
       "      <th></th>\n",
       "      <th>PassengerId</th>\n",
       "      <th>Survived</th>\n",
       "      <th>Pclass</th>\n",
       "      <th>Name</th>\n",
       "      <th>Sex</th>\n",
       "      <th>Age</th>\n",
       "      <th>Family</th>\n",
       "      <th>Ticket</th>\n",
       "      <th>Fare</th>\n",
       "      <th>Embarked</th>\n",
       "    </tr>\n",
       "  </thead>\n",
       "  <tbody>\n",
       "    <tr>\n",
       "      <th>count</th>\n",
       "      <td>891.000000</td>\n",
       "      <td>891.000000</td>\n",
       "      <td>891.000000</td>\n",
       "      <td>891.000000</td>\n",
       "      <td>891.000000</td>\n",
       "      <td>891.000000</td>\n",
       "      <td>891.000000</td>\n",
       "      <td>891.000000</td>\n",
       "      <td>891.000000</td>\n",
       "      <td>891.000000</td>\n",
       "    </tr>\n",
       "    <tr>\n",
       "      <th>mean</th>\n",
       "      <td>446.000000</td>\n",
       "      <td>0.383838</td>\n",
       "      <td>2.308642</td>\n",
       "      <td>445.000000</td>\n",
       "      <td>0.647587</td>\n",
       "      <td>29.699118</td>\n",
       "      <td>0.904602</td>\n",
       "      <td>338.528620</td>\n",
       "      <td>32.204208</td>\n",
       "      <td>1.536476</td>\n",
       "    </tr>\n",
       "    <tr>\n",
       "      <th>std</th>\n",
       "      <td>257.353842</td>\n",
       "      <td>0.486592</td>\n",
       "      <td>0.836071</td>\n",
       "      <td>257.353842</td>\n",
       "      <td>0.477990</td>\n",
       "      <td>13.002015</td>\n",
       "      <td>1.613459</td>\n",
       "      <td>200.850657</td>\n",
       "      <td>49.693429</td>\n",
       "      <td>0.791503</td>\n",
       "    </tr>\n",
       "    <tr>\n",
       "      <th>min</th>\n",
       "      <td>1.000000</td>\n",
       "      <td>0.000000</td>\n",
       "      <td>1.000000</td>\n",
       "      <td>0.000000</td>\n",
       "      <td>0.000000</td>\n",
       "      <td>0.420000</td>\n",
       "      <td>0.000000</td>\n",
       "      <td>0.000000</td>\n",
       "      <td>0.000000</td>\n",
       "      <td>0.000000</td>\n",
       "    </tr>\n",
       "    <tr>\n",
       "      <th>25%</th>\n",
       "      <td>223.500000</td>\n",
       "      <td>0.000000</td>\n",
       "      <td>2.000000</td>\n",
       "      <td>222.500000</td>\n",
       "      <td>0.000000</td>\n",
       "      <td>22.000000</td>\n",
       "      <td>0.000000</td>\n",
       "      <td>158.500000</td>\n",
       "      <td>7.910400</td>\n",
       "      <td>1.000000</td>\n",
       "    </tr>\n",
       "    <tr>\n",
       "      <th>50%</th>\n",
       "      <td>446.000000</td>\n",
       "      <td>0.000000</td>\n",
       "      <td>3.000000</td>\n",
       "      <td>445.000000</td>\n",
       "      <td>1.000000</td>\n",
       "      <td>29.699118</td>\n",
       "      <td>0.000000</td>\n",
       "      <td>337.000000</td>\n",
       "      <td>14.454200</td>\n",
       "      <td>2.000000</td>\n",
       "    </tr>\n",
       "    <tr>\n",
       "      <th>75%</th>\n",
       "      <td>668.500000</td>\n",
       "      <td>1.000000</td>\n",
       "      <td>3.000000</td>\n",
       "      <td>667.500000</td>\n",
       "      <td>1.000000</td>\n",
       "      <td>35.000000</td>\n",
       "      <td>1.000000</td>\n",
       "      <td>519.500000</td>\n",
       "      <td>31.000000</td>\n",
       "      <td>2.000000</td>\n",
       "    </tr>\n",
       "    <tr>\n",
       "      <th>max</th>\n",
       "      <td>891.000000</td>\n",
       "      <td>1.000000</td>\n",
       "      <td>3.000000</td>\n",
       "      <td>890.000000</td>\n",
       "      <td>1.000000</td>\n",
       "      <td>80.000000</td>\n",
       "      <td>10.000000</td>\n",
       "      <td>680.000000</td>\n",
       "      <td>512.329200</td>\n",
       "      <td>2.000000</td>\n",
       "    </tr>\n",
       "  </tbody>\n",
       "</table>\n",
       "</div>"
      ],
      "text/plain": [
       "       PassengerId    Survived      Pclass        Name         Sex  \\\n",
       "count   891.000000  891.000000  891.000000  891.000000  891.000000   \n",
       "mean    446.000000    0.383838    2.308642  445.000000    0.647587   \n",
       "std     257.353842    0.486592    0.836071  257.353842    0.477990   \n",
       "min       1.000000    0.000000    1.000000    0.000000    0.000000   \n",
       "25%     223.500000    0.000000    2.000000  222.500000    0.000000   \n",
       "50%     446.000000    0.000000    3.000000  445.000000    1.000000   \n",
       "75%     668.500000    1.000000    3.000000  667.500000    1.000000   \n",
       "max     891.000000    1.000000    3.000000  890.000000    1.000000   \n",
       "\n",
       "              Age      Family      Ticket        Fare    Embarked  \n",
       "count  891.000000  891.000000  891.000000  891.000000  891.000000  \n",
       "mean    29.699118    0.904602  338.528620   32.204208    1.536476  \n",
       "std     13.002015    1.613459  200.850657   49.693429    0.791503  \n",
       "min      0.420000    0.000000    0.000000    0.000000    0.000000  \n",
       "25%     22.000000    0.000000  158.500000    7.910400    1.000000  \n",
       "50%     29.699118    0.000000  337.000000   14.454200    2.000000  \n",
       "75%     35.000000    1.000000  519.500000   31.000000    2.000000  \n",
       "max     80.000000   10.000000  680.000000  512.329200    2.000000  "
      ]
     },
     "execution_count": 32,
     "metadata": {},
     "output_type": "execute_result"
    }
   ],
   "source": [
    "df.describe()"
   ]
  },
  {
   "cell_type": "code",
   "execution_count": 33,
   "id": "805dbb99",
   "metadata": {
    "scrolled": true
   },
   "outputs": [
    {
     "data": {
      "text/plain": [
       "<AxesSubplot:>"
      ]
     },
     "execution_count": 33,
     "metadata": {},
     "output_type": "execute_result"
    },
    {
     "data": {
      "image/png": "[encoded data removed]",
      "text/plain": [
       "<Figure size 1584x504 with 2 Axes>"
      ]
     },
     "metadata": {
      "needs_background": "light"
     },
     "output_type": "display_data"
    }
   ],
   "source": [
    "plt.figure(figsize = (22,7))\n",
    "sns.heatmap(df.describe(),annot = True, linewidths=0.1)"
   ]
  },
  {
   "cell_type": "code",
   "execution_count": 34,
   "id": "c84d7d6d",
   "metadata": {},
   "outputs": [
    {
     "data": {
      "text/html": [
       "<div>\n",
       "<style scoped>\n",
       "    .dataframe tbody tr th:only-of-type {\n",
       "        vertical-align: middle;\n",
       "    }\n",
       "\n",
       "    .dataframe tbody tr th {\n",
       "        vertical-align: top;\n",
       "    }\n",
       "\n",
       "    .dataframe thead th {\n",
       "        text-align: right;\n",
       "    }\n",
       "</style>\n",
       "<table border=\"1\" class=\"dataframe\">\n",
       "  <thead>\n",
       "    <tr style=\"text-align: right;\">\n",
       "      <th></th>\n",
       "      <th>PassengerId</th>\n",
       "      <th>Survived</th>\n",
       "      <th>Pclass</th>\n",
       "      <th>Name</th>\n",
       "      <th>Sex</th>\n",
       "      <th>Age</th>\n",
       "      <th>Family</th>\n",
       "      <th>Ticket</th>\n",
       "      <th>Fare</th>\n",
       "      <th>Embarked</th>\n",
       "    </tr>\n",
       "  </thead>\n",
       "  <tbody>\n",
       "    <tr>\n",
       "      <th>PassengerId</th>\n",
       "      <td>1.000000</td>\n",
       "      <td>-0.005007</td>\n",
       "      <td>-0.035144</td>\n",
       "      <td>-0.038559</td>\n",
       "      <td>0.042939</td>\n",
       "      <td>0.033207</td>\n",
       "      <td>-0.040143</td>\n",
       "      <td>-0.056554</td>\n",
       "      <td>0.012658</td>\n",
       "      <td>0.013128</td>\n",
       "    </tr>\n",
       "    <tr>\n",
       "      <th>Survived</th>\n",
       "      <td>-0.005007</td>\n",
       "      <td>1.000000</td>\n",
       "      <td>-0.338481</td>\n",
       "      <td>-0.057343</td>\n",
       "      <td>-0.543351</td>\n",
       "      <td>-0.069809</td>\n",
       "      <td>0.016639</td>\n",
       "      <td>-0.164549</td>\n",
       "      <td>0.257307</td>\n",
       "      <td>-0.167675</td>\n",
       "    </tr>\n",
       "    <tr>\n",
       "      <th>Pclass</th>\n",
       "      <td>-0.035144</td>\n",
       "      <td>-0.338481</td>\n",
       "      <td>1.000000</td>\n",
       "      <td>0.052831</td>\n",
       "      <td>0.131900</td>\n",
       "      <td>-0.331339</td>\n",
       "      <td>0.065997</td>\n",
       "      <td>0.319869</td>\n",
       "      <td>-0.549500</td>\n",
       "      <td>0.162098</td>\n",
       "    </tr>\n",
       "    <tr>\n",
       "      <th>Name</th>\n",
       "      <td>-0.038559</td>\n",
       "      <td>-0.057343</td>\n",
       "      <td>0.052831</td>\n",
       "      <td>1.000000</td>\n",
       "      <td>0.020314</td>\n",
       "      <td>0.057466</td>\n",
       "      <td>-0.036309</td>\n",
       "      <td>0.047348</td>\n",
       "      <td>-0.049173</td>\n",
       "      <td>-0.006117</td>\n",
       "    </tr>\n",
       "    <tr>\n",
       "      <th>Sex</th>\n",
       "      <td>0.042939</td>\n",
       "      <td>-0.543351</td>\n",
       "      <td>0.131900</td>\n",
       "      <td>0.020314</td>\n",
       "      <td>1.000000</td>\n",
       "      <td>0.084153</td>\n",
       "      <td>-0.200988</td>\n",
       "      <td>0.059372</td>\n",
       "      <td>-0.182333</td>\n",
       "      <td>0.108262</td>\n",
       "    </tr>\n",
       "    <tr>\n",
       "      <th>Age</th>\n",
       "      <td>0.033207</td>\n",
       "      <td>-0.069809</td>\n",
       "      <td>-0.331339</td>\n",
       "      <td>0.057466</td>\n",
       "      <td>0.084153</td>\n",
       "      <td>1.000000</td>\n",
       "      <td>-0.248512</td>\n",
       "      <td>-0.068848</td>\n",
       "      <td>0.091566</td>\n",
       "      <td>-0.026749</td>\n",
       "    </tr>\n",
       "    <tr>\n",
       "      <th>Family</th>\n",
       "      <td>-0.040143</td>\n",
       "      <td>0.016639</td>\n",
       "      <td>0.065997</td>\n",
       "      <td>-0.036309</td>\n",
       "      <td>-0.200988</td>\n",
       "      <td>-0.248512</td>\n",
       "      <td>1.000000</td>\n",
       "      <td>0.064302</td>\n",
       "      <td>0.217138</td>\n",
       "      <td>0.066516</td>\n",
       "    </tr>\n",
       "    <tr>\n",
       "      <th>Ticket</th>\n",
       "      <td>-0.056554</td>\n",
       "      <td>-0.164549</td>\n",
       "      <td>0.319869</td>\n",
       "      <td>0.047348</td>\n",
       "      <td>0.059372</td>\n",
       "      <td>-0.068848</td>\n",
       "      <td>0.064302</td>\n",
       "      <td>1.000000</td>\n",
       "      <td>-0.013885</td>\n",
       "      <td>-0.001729</td>\n",
       "    </tr>\n",
       "    <tr>\n",
       "      <th>Fare</th>\n",
       "      <td>0.012658</td>\n",
       "      <td>0.257307</td>\n",
       "      <td>-0.549500</td>\n",
       "      <td>-0.049173</td>\n",
       "      <td>-0.182333</td>\n",
       "      <td>0.091566</td>\n",
       "      <td>0.217138</td>\n",
       "      <td>-0.013885</td>\n",
       "      <td>1.000000</td>\n",
       "      <td>-0.224719</td>\n",
       "    </tr>\n",
       "    <tr>\n",
       "      <th>Embarked</th>\n",
       "      <td>0.013128</td>\n",
       "      <td>-0.167675</td>\n",
       "      <td>0.162098</td>\n",
       "      <td>-0.006117</td>\n",
       "      <td>0.108262</td>\n",
       "      <td>-0.026749</td>\n",
       "      <td>0.066516</td>\n",
       "      <td>-0.001729</td>\n",
       "      <td>-0.224719</td>\n",
       "      <td>1.000000</td>\n",
       "    </tr>\n",
       "  </tbody>\n",
       "</table>\n",
       "</div>"
      ],
      "text/plain": [
       "             PassengerId  Survived    Pclass      Name       Sex       Age  \\\n",
       "PassengerId     1.000000 -0.005007 -0.035144 -0.038559  0.042939  0.033207   \n",
       "Survived       -0.005007  1.000000 -0.338481 -0.057343 -0.543351 -0.069809   \n",
       "Pclass         -0.035144 -0.338481  1.000000  0.052831  0.131900 -0.331339   \n",
       "Name           -0.038559 -0.057343  0.052831  1.000000  0.020314  0.057466   \n",
       "Sex             0.042939 -0.543351  0.131900  0.020314  1.000000  0.084153   \n",
       "Age             0.033207 -0.069809 -0.331339  0.057466  0.084153  1.000000   \n",
       "Family         -0.040143  0.016639  0.065997 -0.036309 -0.200988 -0.248512   \n",
       "Ticket         -0.056554 -0.164549  0.319869  0.047348  0.059372 -0.068848   \n",
       "Fare            0.012658  0.257307 -0.549500 -0.049173 -0.182333  0.091566   \n",
       "Embarked        0.013128 -0.167675  0.162098 -0.006117  0.108262 -0.026749   \n",
       "\n",
       "               Family    Ticket      Fare  Embarked  \n",
       "PassengerId -0.040143 -0.056554  0.012658  0.013128  \n",
       "Survived     0.016639 -0.164549  0.257307 -0.167675  \n",
       "Pclass       0.065997  0.319869 -0.549500  0.162098  \n",
       "Name        -0.036309  0.047348 -0.049173 -0.006117  \n",
       "Sex         -0.200988  0.059372 -0.182333  0.108262  \n",
       "Age         -0.248512 -0.068848  0.091566 -0.026749  \n",
       "Family       1.000000  0.064302  0.217138  0.066516  \n",
       "Ticket       0.064302  1.000000 -0.013885 -0.001729  \n",
       "Fare         0.217138 -0.013885  1.000000 -0.224719  \n",
       "Embarked     0.066516 -0.001729 -0.224719  1.000000  "
      ]
     },
     "execution_count": 34,
     "metadata": {},
     "output_type": "execute_result"
    }
   ],
   "source": [
    "#Correlation of Columns with target column\n",
    "df.corr()"
   ]
  },
  {
   "cell_type": "code",
   "execution_count": 35,
   "id": "345c070d",
   "metadata": {},
   "outputs": [
    {
     "data": {
      "text/plain": [
       "<AxesSubplot:>"
      ]
     },
     "execution_count": 35,
     "metadata": {},
     "output_type": "execute_result"
    },
    {
     "data": {
      "image/png": "[encoded data removed]",
      "text/plain": [
       "<Figure size 1584x504 with 2 Axes>"
      ]
     },
     "metadata": {
      "needs_background": "light"
     },
     "output_type": "display_data"
    }
   ],
   "source": [
    "#Correlation of Columns with target column using heatmap\n",
    "plt.figure(figsize = (22,7))\n",
    "sns.heatmap(df.corr(),annot = True, linewidths=0.1)"
   ]
  },
  {
   "cell_type": "code",
   "execution_count": 36,
   "id": "03cadf80",
   "metadata": {},
   "outputs": [],
   "source": [
    "#Checking columns which appear to be highly correlated with target columns"
   ]
  },
  {
   "cell_type": "code",
   "execution_count": 37,
   "id": "26a9f4ab",
   "metadata": {},
   "outputs": [
    {
     "data": {
      "image/png": "[encoded data removed]",
      "text/plain": [
       "<Figure size 1584x504 with 1 Axes>"
      ]
     },
     "metadata": {
      "needs_background": "light"
     },
     "output_type": "display_data"
    }
   ],
   "source": [
    "plt.figure(figsize=(22,7))\n",
    "df.corr()['Survived'].sort_values(ascending = False).drop(['Survived']).plot(kind='bar',fontsize=14)\n",
    "plt.xlabel('Feature',fontsize=14)\n",
    "plt.ylabel('Column with target names',fontsize=14)\n",
    "plt.title('Correlation',fontsize=20)\n",
    "plt.show()"
   ]
  },
  {
   "cell_type": "markdown",
   "id": "1a8cfed7",
   "metadata": {},
   "source": [
    "As we can see highest correlation is 55% which is good but not very high and that too only in 2 places only so we can ignore possiblity of multicollinearity"
   ]
  },
  {
   "cell_type": "code",
   "execution_count": 38,
   "id": "c8069b7a",
   "metadata": {},
   "outputs": [
    {
     "data": {
      "text/plain": [
       "PassengerId    0.000000\n",
       "Survived       0.478523\n",
       "Pclass        -0.630548\n",
       "Name           0.000000\n",
       "Sex           -0.618921\n",
       "Age            0.434488\n",
       "Family         2.727441\n",
       "Ticket         0.000246\n",
       "Fare           4.787317\n",
       "Embarked      -1.264823\n",
       "dtype: float64"
      ]
     },
     "execution_count": 38,
     "metadata": {},
     "output_type": "execute_result"
    }
   ],
   "source": [
    "#Removing skewness\n",
    "df.skew()"
   ]
  },
  {
   "cell_type": "markdown",
   "id": "70d6ec7f",
   "metadata": {},
   "source": [
    "Acceptable skewness (-0.65,+0.65)"
   ]
  },
  {
   "cell_type": "code",
   "execution_count": 39,
   "id": "9ed3cd5d",
   "metadata": {},
   "outputs": [
    {
     "data": {
      "text/plain": [
       "PassengerId      int64\n",
       "Survived         int64\n",
       "Pclass           int64\n",
       "Name           float64\n",
       "Sex            float64\n",
       "Age            float64\n",
       "Family           int64\n",
       "Ticket         float64\n",
       "Fare           float64\n",
       "Embarked       float64\n",
       "dtype: object"
      ]
     },
     "execution_count": 39,
     "metadata": {},
     "output_type": "execute_result"
    }
   ],
   "source": [
    "#Outlier check\n",
    "df.dtypes"
   ]
  },
  {
   "cell_type": "code",
   "execution_count": 40,
   "id": "d40e9811",
   "metadata": {},
   "outputs": [
    {
     "data": {
      "text/plain": [
       "<AxesSubplot:>"
      ]
     },
     "execution_count": 40,
     "metadata": {},
     "output_type": "execute_result"
    },
    {
     "data": {
      "image/png": "[encoded data removed]",
      "text/plain": [
       "<Figure size 432x288 with 1 Axes>"
      ]
     },
     "metadata": {
      "needs_background": "light"
     },
     "output_type": "display_data"
    }
   ],
   "source": [
    "#Age and fare were the only continous data types\n",
    "df['Age'].plot.box()"
   ]
  },
  {
   "cell_type": "code",
   "execution_count": 41,
   "id": "9e81b62e",
   "metadata": {},
   "outputs": [
    {
     "data": {
      "text/plain": [
       "<AxesSubplot:>"
      ]
     },
     "execution_count": 41,
     "metadata": {},
     "output_type": "execute_result"
    },
    {
     "data": {
      "image/png": "[encoded data removed]",
      "text/plain": [
       "<Figure size 432x288 with 1 Axes>"
      ]
     },
     "metadata": {
      "needs_background": "light"
     },
     "output_type": "display_data"
    }
   ],
   "source": [
    "df['Fare'].plot.box()"
   ]
  },
  {
   "cell_type": "code",
   "execution_count": 42,
   "id": "cb8a351b",
   "metadata": {},
   "outputs": [],
   "source": [
    "#Because Age correlation with survived is very low(7%) and has lot of outliers and distribution of data is binodal so we can drop Age column\n",
    "df = df.drop(\"Age\",axis=1)"
   ]
  },
  {
   "cell_type": "code",
   "execution_count": 43,
   "id": "1cfcaf1b",
   "metadata": {},
   "outputs": [
    {
     "data": {
      "text/plain": [
       "(891, 9)"
      ]
     },
     "execution_count": 43,
     "metadata": {},
     "output_type": "execute_result"
    }
   ],
   "source": [
    "#Outlier removal using z-score\n",
    "df.shape"
   ]
  },
  {
   "cell_type": "code",
   "execution_count": 44,
   "id": "624b2022",
   "metadata": {},
   "outputs": [
    {
     "data": {
      "text/plain": [
       "(array([ 13,  25,  27,  59,  68,  71,  88, 118, 119, 159, 180, 182, 201,\n",
       "        233, 258, 261, 299, 311, 324, 341, 377, 380, 386, 438, 480, 527,\n",
       "        541, 542, 557, 610, 678, 679, 683, 689, 700, 716, 730, 737, 742,\n",
       "        779, 792, 813, 846, 850, 863]),\n",
       " array([5, 5, 7, 5, 5, 5, 7, 7, 5, 5, 5, 5, 5, 5, 7, 5, 7, 7, 5, 7, 7, 7,\n",
       "        5, 7, 5, 7, 5, 5, 7, 5, 5, 7, 5, 7, 7, 7, 7, 7, 7, 7, 5, 5, 5, 5,\n",
       "        5]))"
      ]
     },
     "execution_count": 44,
     "metadata": {},
     "output_type": "execute_result"
    }
   ],
   "source": [
    "from scipy.stats import zscore\n",
    "\n",
    "z = np.abs(zscore(df))\n",
    "threshhold = 3\n",
    "np.where(z>3)"
   ]
  },
  {
   "cell_type": "code",
   "execution_count": 45,
   "id": "7b8ac187",
   "metadata": {},
   "outputs": [
    {
     "data": {
      "text/html": [
       "<div>\n",
       "<style scoped>\n",
       "    .dataframe tbody tr th:only-of-type {\n",
       "        vertical-align: middle;\n",
       "    }\n",
       "\n",
       "    .dataframe tbody tr th {\n",
       "        vertical-align: top;\n",
       "    }\n",
       "\n",
       "    .dataframe thead th {\n",
       "        text-align: right;\n",
       "    }\n",
       "</style>\n",
       "<table border=\"1\" class=\"dataframe\">\n",
       "  <thead>\n",
       "    <tr style=\"text-align: right;\">\n",
       "      <th></th>\n",
       "      <th>PassengerId</th>\n",
       "      <th>Survived</th>\n",
       "      <th>Pclass</th>\n",
       "      <th>Name</th>\n",
       "      <th>Sex</th>\n",
       "      <th>Family</th>\n",
       "      <th>Ticket</th>\n",
       "      <th>Fare</th>\n",
       "      <th>Embarked</th>\n",
       "    </tr>\n",
       "  </thead>\n",
       "  <tbody>\n",
       "    <tr>\n",
       "      <th>0</th>\n",
       "      <td>1</td>\n",
       "      <td>0</td>\n",
       "      <td>3</td>\n",
       "      <td>108.0</td>\n",
       "      <td>1.0</td>\n",
       "      <td>1</td>\n",
       "      <td>523.0</td>\n",
       "      <td>7.2500</td>\n",
       "      <td>2.0</td>\n",
       "    </tr>\n",
       "    <tr>\n",
       "      <th>1</th>\n",
       "      <td>2</td>\n",
       "      <td>1</td>\n",
       "      <td>1</td>\n",
       "      <td>190.0</td>\n",
       "      <td>0.0</td>\n",
       "      <td>1</td>\n",
       "      <td>596.0</td>\n",
       "      <td>71.2833</td>\n",
       "      <td>0.0</td>\n",
       "    </tr>\n",
       "    <tr>\n",
       "      <th>2</th>\n",
       "      <td>3</td>\n",
       "      <td>1</td>\n",
       "      <td>3</td>\n",
       "      <td>353.0</td>\n",
       "      <td>0.0</td>\n",
       "      <td>0</td>\n",
       "      <td>669.0</td>\n",
       "      <td>7.9250</td>\n",
       "      <td>2.0</td>\n",
       "    </tr>\n",
       "    <tr>\n",
       "      <th>3</th>\n",
       "      <td>4</td>\n",
       "      <td>1</td>\n",
       "      <td>1</td>\n",
       "      <td>272.0</td>\n",
       "      <td>0.0</td>\n",
       "      <td>1</td>\n",
       "      <td>49.0</td>\n",
       "      <td>53.1000</td>\n",
       "      <td>2.0</td>\n",
       "    </tr>\n",
       "    <tr>\n",
       "      <th>4</th>\n",
       "      <td>5</td>\n",
       "      <td>0</td>\n",
       "      <td>3</td>\n",
       "      <td>15.0</td>\n",
       "      <td>1.0</td>\n",
       "      <td>0</td>\n",
       "      <td>472.0</td>\n",
       "      <td>8.0500</td>\n",
       "      <td>2.0</td>\n",
       "    </tr>\n",
       "    <tr>\n",
       "      <th>...</th>\n",
       "      <td>...</td>\n",
       "      <td>...</td>\n",
       "      <td>...</td>\n",
       "      <td>...</td>\n",
       "      <td>...</td>\n",
       "      <td>...</td>\n",
       "      <td>...</td>\n",
       "      <td>...</td>\n",
       "      <td>...</td>\n",
       "    </tr>\n",
       "    <tr>\n",
       "      <th>886</th>\n",
       "      <td>887</td>\n",
       "      <td>0</td>\n",
       "      <td>2</td>\n",
       "      <td>548.0</td>\n",
       "      <td>1.0</td>\n",
       "      <td>0</td>\n",
       "      <td>101.0</td>\n",
       "      <td>13.0000</td>\n",
       "      <td>2.0</td>\n",
       "    </tr>\n",
       "    <tr>\n",
       "      <th>887</th>\n",
       "      <td>888</td>\n",
       "      <td>1</td>\n",
       "      <td>1</td>\n",
       "      <td>303.0</td>\n",
       "      <td>0.0</td>\n",
       "      <td>0</td>\n",
       "      <td>14.0</td>\n",
       "      <td>30.0000</td>\n",
       "      <td>2.0</td>\n",
       "    </tr>\n",
       "    <tr>\n",
       "      <th>888</th>\n",
       "      <td>889</td>\n",
       "      <td>0</td>\n",
       "      <td>3</td>\n",
       "      <td>413.0</td>\n",
       "      <td>0.0</td>\n",
       "      <td>3</td>\n",
       "      <td>675.0</td>\n",
       "      <td>23.4500</td>\n",
       "      <td>2.0</td>\n",
       "    </tr>\n",
       "    <tr>\n",
       "      <th>889</th>\n",
       "      <td>890</td>\n",
       "      <td>1</td>\n",
       "      <td>1</td>\n",
       "      <td>81.0</td>\n",
       "      <td>1.0</td>\n",
       "      <td>0</td>\n",
       "      <td>8.0</td>\n",
       "      <td>30.0000</td>\n",
       "      <td>0.0</td>\n",
       "    </tr>\n",
       "    <tr>\n",
       "      <th>890</th>\n",
       "      <td>891</td>\n",
       "      <td>0</td>\n",
       "      <td>3</td>\n",
       "      <td>220.0</td>\n",
       "      <td>1.0</td>\n",
       "      <td>0</td>\n",
       "      <td>466.0</td>\n",
       "      <td>7.7500</td>\n",
       "      <td>1.0</td>\n",
       "    </tr>\n",
       "  </tbody>\n",
       "</table>\n",
       "<p>846 rows × 9 columns</p>\n",
       "</div>"
      ],
      "text/plain": [
       "     PassengerId  Survived  Pclass   Name  Sex  Family  Ticket     Fare  \\\n",
       "0              1         0       3  108.0  1.0       1   523.0   7.2500   \n",
       "1              2         1       1  190.0  0.0       1   596.0  71.2833   \n",
       "2              3         1       3  353.0  0.0       0   669.0   7.9250   \n",
       "3              4         1       1  272.0  0.0       1    49.0  53.1000   \n",
       "4              5         0       3   15.0  1.0       0   472.0   8.0500   \n",
       "..           ...       ...     ...    ...  ...     ...     ...      ...   \n",
       "886          887         0       2  548.0  1.0       0   101.0  13.0000   \n",
       "887          888         1       1  303.0  0.0       0    14.0  30.0000   \n",
       "888          889         0       3  413.0  0.0       3   675.0  23.4500   \n",
       "889          890         1       1   81.0  1.0       0     8.0  30.0000   \n",
       "890          891         0       3  220.0  1.0       0   466.0   7.7500   \n",
       "\n",
       "     Embarked  \n",
       "0         2.0  \n",
       "1         0.0  \n",
       "2         2.0  \n",
       "3         2.0  \n",
       "4         2.0  \n",
       "..        ...  \n",
       "886       2.0  \n",
       "887       2.0  \n",
       "888       2.0  \n",
       "889       0.0  \n",
       "890       1.0  \n",
       "\n",
       "[846 rows x 9 columns]"
      ]
     },
     "execution_count": 45,
     "metadata": {},
     "output_type": "execute_result"
    }
   ],
   "source": [
    "df_new_z = df[(z<3).all(axis = 1)]\n",
    "df_new_z"
   ]
  },
  {
   "cell_type": "code",
   "execution_count": 46,
   "id": "bc52484e",
   "metadata": {},
   "outputs": [
    {
     "data": {
      "text/plain": [
       "(846, 9)"
      ]
     },
     "execution_count": 46,
     "metadata": {},
     "output_type": "execute_result"
    }
   ],
   "source": [
    "df_new_z.shape"
   ]
  },
  {
   "cell_type": "code",
   "execution_count": 47,
   "id": "77565b91",
   "metadata": {},
   "outputs": [
    {
     "data": {
      "text/plain": [
       "5.836139169472503"
      ]
     },
     "execution_count": 47,
     "metadata": {},
     "output_type": "execute_result"
    }
   ],
   "source": [
    "#Data Loss\n",
    "Data_loss = (891-839)/891*100\n",
    "Data_loss"
   ]
  },
  {
   "cell_type": "markdown",
   "id": "77c1ed0d",
   "metadata": {},
   "source": [
    "Separating the columns into features and target"
   ]
  },
  {
   "cell_type": "code",
   "execution_count": 123,
   "id": "132d0046",
   "metadata": {},
   "outputs": [],
   "source": [
    "feature = df_new_z.drop(\"Survived\",axis=1)\n",
    "target = df_new_z[\"Survived\"]"
   ]
  },
  {
   "cell_type": "markdown",
   "id": "77722cc6",
   "metadata": {},
   "source": [
    "Scaling Data using Min-Max Scaler"
   ]
  },
  {
   "cell_type": "code",
   "execution_count": 124,
   "id": "71fced54",
   "metadata": {},
   "outputs": [],
   "source": [
    "from sklearn.linear_model import LogisticRegression\n",
    "lr = LogisticRegression()\n",
    "\n",
    "\n",
    "from sklearn.metrics import accuracy_score\n",
    "from sklearn.model_selection import train_test_split\n"
   ]
  },
  {
   "cell_type": "code",
   "execution_count": 125,
   "id": "7e25a6d0",
   "metadata": {},
   "outputs": [],
   "source": [
    "import warnings\n",
    "warnings.filterwarnings('ignore')"
   ]
  },
  {
   "cell_type": "code",
   "execution_count": 126,
   "id": "5ab11f38",
   "metadata": {},
   "outputs": [
    {
     "name": "stdout",
     "output_type": "stream",
     "text": [
      "At random state 0 the training accuracy is : 0.7781065088757396\n",
      "At random state 0 the testing accuracy is : 0.8058823529411765\n",
      "\n",
      "\n",
      "At random state 1 the training accuracy is : 0.8076923076923077\n",
      "At random state 1 the testing accuracy is : 0.7294117647058823\n",
      "\n",
      "\n",
      "At random state 2 the training accuracy is : 0.7899408284023669\n",
      "At random state 2 the testing accuracy is : 0.7941176470588235\n",
      "\n",
      "\n",
      "At random state 3 the training accuracy is : 0.7795857988165681\n",
      "At random state 3 the testing accuracy is : 0.8294117647058824\n",
      "\n",
      "\n",
      "At random state 4 the training accuracy is : 0.7973372781065089\n",
      "At random state 4 the testing accuracy is : 0.7705882352941177\n",
      "\n",
      "\n",
      "At random state 5 the training accuracy is : 0.8017751479289941\n",
      "At random state 5 the testing accuracy is : 0.7529411764705882\n",
      "\n",
      "\n",
      "At random state 6 the training accuracy is : 0.8091715976331361\n",
      "At random state 6 the testing accuracy is : 0.7470588235294118\n",
      "\n",
      "\n",
      "At random state 7 the training accuracy is : 0.7884615384615384\n",
      "At random state 7 the testing accuracy is : 0.8117647058823529\n",
      "\n",
      "\n",
      "At random state 8 the training accuracy is : 0.7869822485207101\n",
      "At random state 8 the testing accuracy is : 0.8352941176470589\n",
      "\n",
      "\n",
      "At random state 9 the training accuracy is : 0.8076923076923077\n",
      "At random state 9 the testing accuracy is : 0.7411764705882353\n",
      "\n",
      "\n",
      "At random state 10 the training accuracy is : 0.7973372781065089\n",
      "At random state 10 the testing accuracy is : 0.7705882352941177\n",
      "\n",
      "\n",
      "At random state 11 the training accuracy is : 0.8002958579881657\n",
      "At random state 11 the testing accuracy is : 0.7647058823529411\n",
      "\n",
      "\n",
      "At random state 12 the training accuracy is : 0.7958579881656804\n",
      "At random state 12 the testing accuracy is : 0.7705882352941177\n",
      "\n",
      "\n",
      "At random state 13 the training accuracy is : 0.7869822485207101\n",
      "At random state 13 the testing accuracy is : 0.8176470588235294\n",
      "\n",
      "\n",
      "At random state 14 the training accuracy is : 0.7855029585798816\n",
      "At random state 14 the testing accuracy is : 0.8058823529411765\n",
      "\n",
      "\n",
      "At random state 15 the training accuracy is : 0.7751479289940828\n",
      "At random state 15 the testing accuracy is : 0.8235294117647058\n",
      "\n",
      "\n",
      "At random state 16 the training accuracy is : 0.7988165680473372\n",
      "At random state 16 the testing accuracy is : 0.7705882352941177\n",
      "\n",
      "\n",
      "At random state 17 the training accuracy is : 0.7825443786982249\n",
      "At random state 17 the testing accuracy is : 0.8235294117647058\n",
      "\n",
      "\n",
      "At random state 18 the training accuracy is : 0.7781065088757396\n",
      "At random state 18 the testing accuracy is : 0.8294117647058824\n",
      "\n",
      "\n",
      "At random state 19 the training accuracy is : 0.7840236686390533\n",
      "At random state 19 the testing accuracy is : 0.8117647058823529\n",
      "\n",
      "\n",
      "At random state 20 the training accuracy is : 0.7914201183431953\n",
      "At random state 20 the testing accuracy is : 0.7941176470588235\n",
      "\n",
      "\n",
      "At random state 21 the training accuracy is : 0.7958579881656804\n",
      "At random state 21 the testing accuracy is : 0.7764705882352941\n",
      "\n",
      "\n",
      "At random state 22 the training accuracy is : 0.8017751479289941\n",
      "At random state 22 the testing accuracy is : 0.788235294117647\n",
      "\n",
      "\n",
      "At random state 23 the training accuracy is : 0.7973372781065089\n",
      "At random state 23 the testing accuracy is : 0.788235294117647\n",
      "\n",
      "\n",
      "At random state 24 the training accuracy is : 0.8002958579881657\n",
      "At random state 24 the testing accuracy is : 0.7470588235294118\n",
      "\n",
      "\n",
      "At random state 25 the training accuracy is : 0.8032544378698225\n",
      "At random state 25 the testing accuracy is : 0.7470588235294118\n",
      "\n",
      "\n",
      "At random state 26 the training accuracy is : 0.7988165680473372\n",
      "At random state 26 the testing accuracy is : 0.7705882352941177\n",
      "\n",
      "\n",
      "At random state 27 the training accuracy is : 0.7855029585798816\n",
      "At random state 27 the testing accuracy is : 0.8117647058823529\n",
      "\n",
      "\n",
      "At random state 28 the training accuracy is : 0.7928994082840237\n",
      "At random state 28 the testing accuracy is : 0.7764705882352941\n",
      "\n",
      "\n",
      "At random state 29 the training accuracy is : 0.7869822485207101\n",
      "At random state 29 the testing accuracy is : 0.8\n",
      "\n",
      "\n",
      "At random state 30 the training accuracy is : 0.7943786982248521\n",
      "At random state 30 the testing accuracy is : 0.7705882352941177\n",
      "\n",
      "\n",
      "At random state 31 the training accuracy is : 0.7899408284023669\n",
      "At random state 31 the testing accuracy is : 0.7823529411764706\n",
      "\n",
      "\n",
      "At random state 32 the training accuracy is : 0.7810650887573964\n",
      "At random state 32 the testing accuracy is : 0.8058823529411765\n",
      "\n",
      "\n",
      "At random state 33 the training accuracy is : 0.7810650887573964\n",
      "At random state 33 the testing accuracy is : 0.8352941176470589\n",
      "\n",
      "\n",
      "At random state 34 the training accuracy is : 0.7928994082840237\n",
      "At random state 34 the testing accuracy is : 0.788235294117647\n",
      "\n",
      "\n",
      "At random state 35 the training accuracy is : 0.7988165680473372\n",
      "At random state 35 the testing accuracy is : 0.7941176470588235\n",
      "\n",
      "\n",
      "At random state 36 the training accuracy is : 0.7781065088757396\n",
      "At random state 36 the testing accuracy is : 0.8529411764705882\n",
      "\n",
      "\n",
      "At random state 37 the training accuracy is : 0.7928994082840237\n",
      "At random state 37 the testing accuracy is : 0.788235294117647\n",
      "\n",
      "\n",
      "At random state 38 the training accuracy is : 0.7928994082840237\n",
      "At random state 38 the testing accuracy is : 0.788235294117647\n",
      "\n",
      "\n",
      "At random state 39 the training accuracy is : 0.7840236686390533\n",
      "At random state 39 the testing accuracy is : 0.8176470588235294\n",
      "\n",
      "\n",
      "At random state 40 the training accuracy is : 0.7928994082840237\n",
      "At random state 40 the testing accuracy is : 0.7823529411764706\n",
      "\n",
      "\n",
      "At random state 41 the training accuracy is : 0.8017751479289941\n",
      "At random state 41 the testing accuracy is : 0.7764705882352941\n",
      "\n",
      "\n",
      "At random state 42 the training accuracy is : 0.7958579881656804\n",
      "At random state 42 the testing accuracy is : 0.7705882352941177\n",
      "\n",
      "\n",
      "At random state 43 the training accuracy is : 0.7766272189349113\n",
      "At random state 43 the testing accuracy is : 0.8470588235294118\n",
      "\n",
      "\n",
      "At random state 44 the training accuracy is : 0.8106508875739645\n",
      "At random state 44 the testing accuracy is : 0.7294117647058823\n",
      "\n",
      "\n",
      "At random state 45 the training accuracy is : 0.7973372781065089\n",
      "At random state 45 the testing accuracy is : 0.7470588235294118\n",
      "\n",
      "\n",
      "At random state 46 the training accuracy is : 0.7884615384615384\n",
      "At random state 46 the testing accuracy is : 0.8117647058823529\n",
      "\n",
      "\n",
      "At random state 47 the training accuracy is : 0.7928994082840237\n",
      "At random state 47 the testing accuracy is : 0.7941176470588235\n",
      "\n",
      "\n",
      "At random state 48 the training accuracy is : 0.7958579881656804\n",
      "At random state 48 the testing accuracy is : 0.7705882352941177\n",
      "\n",
      "\n",
      "At random state 49 the training accuracy is : 0.7884615384615384\n",
      "At random state 49 the testing accuracy is : 0.8411764705882353\n",
      "\n",
      "\n",
      "At random state 50 the training accuracy is : 0.7988165680473372\n",
      "At random state 50 the testing accuracy is : 0.7470588235294118\n",
      "\n",
      "\n",
      "At random state 51 the training accuracy is : 0.8017751479289941\n",
      "At random state 51 the testing accuracy is : 0.7470588235294118\n",
      "\n",
      "\n",
      "At random state 52 the training accuracy is : 0.7928994082840237\n",
      "At random state 52 the testing accuracy is : 0.788235294117647\n",
      "\n",
      "\n",
      "At random state 53 the training accuracy is : 0.7988165680473372\n",
      "At random state 53 the testing accuracy is : 0.7647058823529411\n",
      "\n",
      "\n",
      "At random state 54 the training accuracy is : 0.8091715976331361\n",
      "At random state 54 the testing accuracy is : 0.788235294117647\n",
      "\n",
      "\n",
      "At random state 55 the training accuracy is : 0.7899408284023669\n",
      "At random state 55 the testing accuracy is : 0.788235294117647\n",
      "\n",
      "\n",
      "At random state 56 the training accuracy is : 0.8002958579881657\n",
      "At random state 56 the testing accuracy is : 0.788235294117647\n",
      "\n",
      "\n",
      "At random state 57 the training accuracy is : 0.7914201183431953\n",
      "At random state 57 the testing accuracy is : 0.8352941176470589\n",
      "\n",
      "\n",
      "At random state 58 the training accuracy is : 0.8017751479289941\n",
      "At random state 58 the testing accuracy is : 0.8117647058823529\n",
      "\n",
      "\n",
      "At random state 59 the training accuracy is : 0.8032544378698225\n",
      "At random state 59 the testing accuracy is : 0.7647058823529411\n",
      "\n",
      "\n",
      "At random state 60 the training accuracy is : 0.7855029585798816\n",
      "At random state 60 the testing accuracy is : 0.8176470588235294\n",
      "\n",
      "\n",
      "At random state 61 the training accuracy is : 0.8047337278106509\n",
      "At random state 61 the testing accuracy is : 0.7941176470588235\n",
      "\n",
      "\n",
      "At random state 62 the training accuracy is : 0.7840236686390533\n",
      "At random state 62 the testing accuracy is : 0.8058823529411765\n",
      "\n",
      "\n"
     ]
    },
    {
     "name": "stdout",
     "output_type": "stream",
     "text": [
      "At random state 63 the training accuracy is : 0.7943786982248521\n",
      "At random state 63 the testing accuracy is : 0.7941176470588235\n",
      "\n",
      "\n",
      "At random state 64 the training accuracy is : 0.7973372781065089\n",
      "At random state 64 the testing accuracy is : 0.7705882352941177\n",
      "\n",
      "\n",
      "At random state 65 the training accuracy is : 0.7899408284023669\n",
      "At random state 65 the testing accuracy is : 0.788235294117647\n",
      "\n",
      "\n",
      "At random state 66 the training accuracy is : 0.7884615384615384\n",
      "At random state 66 the testing accuracy is : 0.8058823529411765\n",
      "\n",
      "\n",
      "At random state 67 the training accuracy is : 0.7840236686390533\n",
      "At random state 67 the testing accuracy is : 0.788235294117647\n",
      "\n",
      "\n",
      "At random state 68 the training accuracy is : 0.7943786982248521\n",
      "At random state 68 the testing accuracy is : 0.8294117647058824\n",
      "\n",
      "\n",
      "At random state 69 the training accuracy is : 0.7825443786982249\n",
      "At random state 69 the testing accuracy is : 0.8058823529411765\n",
      "\n",
      "\n",
      "At random state 70 the training accuracy is : 0.8017751479289941\n",
      "At random state 70 the testing accuracy is : 0.7529411764705882\n",
      "\n",
      "\n",
      "At random state 71 the training accuracy is : 0.7928994082840237\n",
      "At random state 71 the testing accuracy is : 0.7941176470588235\n",
      "\n",
      "\n",
      "At random state 72 the training accuracy is : 0.7840236686390533\n",
      "At random state 72 the testing accuracy is : 0.8235294117647058\n",
      "\n",
      "\n",
      "At random state 73 the training accuracy is : 0.7899408284023669\n",
      "At random state 73 the testing accuracy is : 0.8352941176470589\n",
      "\n",
      "\n",
      "At random state 74 the training accuracy is : 0.7869822485207101\n",
      "At random state 74 the testing accuracy is : 0.8\n",
      "\n",
      "\n",
      "At random state 75 the training accuracy is : 0.7943786982248521\n",
      "At random state 75 the testing accuracy is : 0.7647058823529411\n",
      "\n",
      "\n",
      "At random state 76 the training accuracy is : 0.7869822485207101\n",
      "At random state 76 the testing accuracy is : 0.8117647058823529\n",
      "\n",
      "\n",
      "At random state 77 the training accuracy is : 0.8032544378698225\n",
      "At random state 77 the testing accuracy is : 0.7352941176470589\n",
      "\n",
      "\n",
      "At random state 78 the training accuracy is : 0.7855029585798816\n",
      "At random state 78 the testing accuracy is : 0.8\n",
      "\n",
      "\n",
      "At random state 79 the training accuracy is : 0.7899408284023669\n",
      "At random state 79 the testing accuracy is : 0.7941176470588235\n",
      "\n",
      "\n",
      "At random state 80 the training accuracy is : 0.8047337278106509\n",
      "At random state 80 the testing accuracy is : 0.7529411764705882\n",
      "\n",
      "\n",
      "At random state 81 the training accuracy is : 0.7958579881656804\n",
      "At random state 81 the testing accuracy is : 0.7823529411764706\n",
      "\n",
      "\n",
      "At random state 82 the training accuracy is : 0.8047337278106509\n",
      "At random state 82 the testing accuracy is : 0.7411764705882353\n",
      "\n",
      "\n",
      "At random state 83 the training accuracy is : 0.7914201183431953\n",
      "At random state 83 the testing accuracy is : 0.8\n",
      "\n",
      "\n",
      "At random state 84 the training accuracy is : 0.7869822485207101\n",
      "At random state 84 the testing accuracy is : 0.8176470588235294\n",
      "\n",
      "\n",
      "At random state 85 the training accuracy is : 0.7943786982248521\n",
      "At random state 85 the testing accuracy is : 0.7764705882352941\n",
      "\n",
      "\n",
      "At random state 86 the training accuracy is : 0.7869822485207101\n",
      "At random state 86 the testing accuracy is : 0.8294117647058824\n",
      "\n",
      "\n",
      "At random state 87 the training accuracy is : 0.7914201183431953\n",
      "At random state 87 the testing accuracy is : 0.7823529411764706\n",
      "\n",
      "\n",
      "At random state 88 the training accuracy is : 0.8017751479289941\n",
      "At random state 88 the testing accuracy is : 0.7823529411764706\n",
      "\n",
      "\n",
      "At random state 89 the training accuracy is : 0.7914201183431953\n",
      "At random state 89 the testing accuracy is : 0.8176470588235294\n",
      "\n",
      "\n",
      "At random state 90 the training accuracy is : 0.7943786982248521\n",
      "At random state 90 the testing accuracy is : 0.7823529411764706\n",
      "\n",
      "\n",
      "At random state 91 the training accuracy is : 0.8017751479289941\n",
      "At random state 91 the testing accuracy is : 0.7823529411764706\n",
      "\n",
      "\n",
      "At random state 92 the training accuracy is : 0.7899408284023669\n",
      "At random state 92 the testing accuracy is : 0.8\n",
      "\n",
      "\n",
      "At random state 93 the training accuracy is : 0.7928994082840237\n",
      "At random state 93 the testing accuracy is : 0.7823529411764706\n",
      "\n",
      "\n",
      "At random state 94 the training accuracy is : 0.7869822485207101\n",
      "At random state 94 the testing accuracy is : 0.8352941176470589\n",
      "\n",
      "\n",
      "At random state 95 the training accuracy is : 0.7840236686390533\n",
      "At random state 95 the testing accuracy is : 0.8058823529411765\n",
      "\n",
      "\n",
      "At random state 96 the training accuracy is : 0.7958579881656804\n",
      "At random state 96 the testing accuracy is : 0.7705882352941177\n",
      "\n",
      "\n",
      "At random state 97 the training accuracy is : 0.7766272189349113\n",
      "At random state 97 the testing accuracy is : 0.8235294117647058\n",
      "\n",
      "\n",
      "At random state 98 the training accuracy is : 0.8091715976331361\n",
      "At random state 98 the testing accuracy is : 0.7058823529411765\n",
      "\n",
      "\n",
      "At random state 99 the training accuracy is : 0.7973372781065089\n",
      "At random state 99 the testing accuracy is : 0.7705882352941177\n",
      "\n",
      "\n"
     ]
    }
   ],
   "source": [
    "for i in range(0,100):\n",
    "    features_train,features_test,target_train,target_test = train_test_split(feature,target,test_size = 0.2,random_state = i)\n",
    "    lr.fit(features_train,target_train)\n",
    "    pred_train = lr.predict(features_train)\n",
    "    pred_test = lr.predict(features_test)\n",
    "    print(\"At random state \" + str(i) + \" the training accuracy is : \" + str(accuracy_score(target_train,pred_train)))\n",
    "    print(\"At random state \" + str(i) + \" the testing accuracy is : \" + str(accuracy_score(target_test,pred_test)))\n",
    "    print(\"\\n\")"
   ]
  },
  {
   "cell_type": "code",
   "execution_count": 127,
   "id": "5ff17220",
   "metadata": {},
   "outputs": [],
   "source": [
    "features_train,features_test,target_train,target_test = train_test_split(feature,target,test_size = 0.2,random_state = 1)"
   ]
  },
  {
   "cell_type": "code",
   "execution_count": 128,
   "id": "7600bf75",
   "metadata": {},
   "outputs": [
    {
     "data": {
      "text/plain": [
       "LogisticRegression()"
      ]
     },
     "execution_count": 128,
     "metadata": {},
     "output_type": "execute_result"
    }
   ],
   "source": [
    "lr.fit(features_train,target_train)"
   ]
  },
  {
   "cell_type": "code",
   "execution_count": 129,
   "id": "79e41e0b",
   "metadata": {},
   "outputs": [],
   "source": [
    "pred_test = lr.predict(features_test)"
   ]
  },
  {
   "cell_type": "code",
   "execution_count": 130,
   "id": "94d52111",
   "metadata": {},
   "outputs": [
    {
     "name": "stdout",
     "output_type": "stream",
     "text": [
      "0.7294117647058823\n"
     ]
    }
   ],
   "source": [
    "print(accuracy_score(target_test,pred_test))"
   ]
  },
  {
   "cell_type": "code",
   "execution_count": 131,
   "id": "d5046752",
   "metadata": {},
   "outputs": [
    {
     "name": "stdout",
     "output_type": "stream",
     "text": [
      "Confusion matrix for model : \n",
      " [[80 20]\n",
      " [26 44]]\n",
      "Classification Report for train data : \n",
      "               precision    recall  f1-score   support\n",
      "\n",
      "           0       0.62      0.62      0.62       422\n",
      "           1       0.36      0.35      0.36       254\n",
      "\n",
      "    accuracy                           0.52       676\n",
      "   macro avg       0.49      0.49      0.49       676\n",
      "weighted avg       0.52      0.52      0.52       676\n",
      "\n",
      "Classification Report for test data : \n",
      "               precision    recall  f1-score   support\n",
      "\n",
      "           0       0.75      0.80      0.78       100\n",
      "           1       0.69      0.63      0.66        70\n",
      "\n",
      "    accuracy                           0.73       170\n",
      "   macro avg       0.72      0.71      0.72       170\n",
      "weighted avg       0.73      0.73      0.73       170\n",
      "\n"
     ]
    }
   ],
   "source": [
    "from sklearn.metrics import confusion_matrix\n",
    "from sklearn.metrics import classification_report\n",
    "print(\"Confusion matrix for model : \\n\",confusion_matrix(target_test,pred_test))\n",
    "print(\"Classification Report for train data : \\n\",classification_report(target_train,pred_train))\n",
    "print(\"Classification Report for test data : \\n\",classification_report(target_test,pred_test))"
   ]
  },
  {
   "cell_type": "markdown",
   "id": "722f1b8c",
   "metadata": {},
   "source": [
    "Cross Validation of model"
   ]
  },
  {
   "cell_type": "code",
   "execution_count": 132,
   "id": "7804be1c",
   "metadata": {},
   "outputs": [],
   "source": [
    "Train_accuracy = accuracy_score(target_train,pred_train)\n",
    "Test_accuracy = accuracy_score(target_test,pred_test)"
   ]
  },
  {
   "cell_type": "code",
   "execution_count": 133,
   "id": "ac83fc67",
   "metadata": {},
   "outputs": [
    {
     "name": "stdout",
     "output_type": "stream",
     "text": [
      "At cross fold 2 the cv score is 0.7659574468085106 and accuracy score for training is 0.522189349112426 and accuracy score for testing is 0.7294117647058823\n",
      "\n",
      "\n",
      "At cross fold 3 the cv score is 0.7825059101654847 and accuracy score for training is 0.522189349112426 and accuracy score for testing is 0.7294117647058823\n",
      "\n",
      "\n",
      "At cross fold 4 the cv score is 0.7742443888044352 and accuracy score for training is 0.522189349112426 and accuracy score for testing is 0.7294117647058823\n",
      "\n",
      "\n",
      "At cross fold 5 the cv score is 0.7860285415941524 and accuracy score for training is 0.522189349112426 and accuracy score for testing is 0.7294117647058823\n",
      "\n",
      "\n",
      "At cross fold 6 the cv score is 0.7813238770685579 and accuracy score for training is 0.522189349112426 and accuracy score for testing is 0.7294117647058823\n",
      "\n",
      "\n",
      "At cross fold 7 the cv score is 0.7872687918142464 and accuracy score for training is 0.522189349112426 and accuracy score for testing is 0.7294117647058823\n",
      "\n",
      "\n",
      "At cross fold 8 the cv score is 0.7872416891284817 and accuracy score for training is 0.522189349112426 and accuracy score for testing is 0.7294117647058823\n",
      "\n",
      "\n",
      "At cross fold 9 the cv score is 0.7884160756501183 and accuracy score for training is 0.522189349112426 and accuracy score for testing is 0.7294117647058823\n",
      "\n",
      "\n",
      "At cross fold 10 the cv score is 0.7824929971988795 and accuracy score for training is 0.522189349112426 and accuracy score for testing is 0.7294117647058823\n",
      "\n",
      "\n",
      "At cross fold 11 the cv score is 0.7884328590070218 and accuracy score for training is 0.522189349112426 and accuracy score for testing is 0.7294117647058823\n",
      "\n",
      "\n",
      "At cross fold 12 the cv score is 0.7895539906103287 and accuracy score for training is 0.522189349112426 and accuracy score for testing is 0.7294117647058823\n",
      "\n",
      "\n",
      "At cross fold 13 the cv score is 0.7895822126591359 and accuracy score for training is 0.522189349112426 and accuracy score for testing is 0.7294117647058823\n",
      "\n",
      "\n",
      "At cross fold 14 the cv score is 0.7871194379391101 and accuracy score for training is 0.522189349112426 and accuracy score for testing is 0.7294117647058823\n",
      "\n",
      "\n",
      "At cross fold 15 the cv score is 0.7883249791144529 and accuracy score for training is 0.522189349112426 and accuracy score for testing is 0.7294117647058823\n",
      "\n",
      "\n",
      "At cross fold 16 the cv score is 0.7884388606676342 and accuracy score for training is 0.522189349112426 and accuracy score for testing is 0.7294117647058823\n",
      "\n",
      "\n",
      "At cross fold 17 the cv score is 0.793109243697479 and accuracy score for training is 0.522189349112426 and accuracy score for testing is 0.7294117647058823\n",
      "\n",
      "\n",
      "At cross fold 18 the cv score is 0.7848699763593381 and accuracy score for training is 0.522189349112426 and accuracy score for testing is 0.7294117647058823\n",
      "\n",
      "\n",
      "At cross fold 19 the cv score is 0.7918128654970761 and accuracy score for training is 0.522189349112426 and accuracy score for testing is 0.7294117647058823\n",
      "\n",
      "\n"
     ]
    }
   ],
   "source": [
    "from sklearn.model_selection import cross_val_score\n",
    "\n",
    "for j in range(2,20):\n",
    "    cv_score = cross_val_score(lr,feature,target,cv=j)\n",
    "    cv_mean = cv_score.mean()\n",
    "    print(\"At cross fold \" + str(j) + \" the cv score is \" + str(cv_mean) + \" and accuracy score for training is \" + str(Train_accuracy) + \" and accuracy score for testing is \" + str(Test_accuracy))\n",
    "    print(\"\\n\")"
   ]
  },
  {
   "cell_type": "code",
   "execution_count": 134,
   "id": "a69328e3",
   "metadata": {},
   "outputs": [
    {
     "data": {
      "image/png": "[encoded data removed]",
      "text/plain": [
       "<Figure size 576x432 with 1 Axes>"
      ]
     },
     "metadata": {
      "needs_background": "light"
     },
     "output_type": "display_data"
    }
   ],
   "source": [
    "from sklearn.metrics import roc_curve\n",
    "plt.figure(figsize=(8,6))\n",
    "\n",
    "# calculate roc curves\n",
    "lr_fpr, lr_tpr, _ = roc_curve(target_test, pred_test)\n",
    "lr_fpr1, lr_tpr1, _ = roc_curve(target_train, pred_train)\n",
    "\n",
    "plt.plot(lr_fpr, lr_tpr, marker='.', label='Logistic Regression', color='r')\n",
    "plt.plot(lr_fpr1, lr_tpr1, marker='*', label='No skill', color='b')\n",
    "\n",
    "plt.xlabel('False Positive Rate')\n",
    "plt.ylabel('True Positive Rate')\n",
    "\n",
    "plt.legend()\n",
    "plt.show()"
   ]
  },
  {
   "cell_type": "markdown",
   "id": "6dbb259a",
   "metadata": {},
   "source": [
    "Logistic regression is overfitting"
   ]
  },
  {
   "cell_type": "markdown",
   "id": "2dfb4c57",
   "metadata": {},
   "source": [
    " "
   ]
  },
  {
   "cell_type": "markdown",
   "id": "7408c4ce",
   "metadata": {},
   "source": [
    "Other models are:"
   ]
  },
  {
   "cell_type": "code",
   "execution_count": 135,
   "id": "bb423a98",
   "metadata": {},
   "outputs": [],
   "source": [
    "from sklearn.metrics import confusion_matrix\n",
    "from sklearn.metrics import classification_report"
   ]
  },
  {
   "cell_type": "code",
   "execution_count": 136,
   "id": "3bc4e904",
   "metadata": {},
   "outputs": [],
   "source": [
    "def model_selection(algorithm_instance,features_train,target_train,features_test,target_test):\n",
    "    algorithm_instance.fit(features_train,target_train)\n",
    "    model_1_pred_train = algorithm_instance.predict(features_train)\n",
    "    model_1_pred_test = algorithm_instance.predict(features_test)\n",
    "    print(\"Accuracy for the training model : \",accuracy_score(target_train,model_1_pred_train))\n",
    "    print(\"Accuracy for the testing model : \",accuracy_score(target_test,model_1_pred_test))\n",
    "    print(\"Confusion matrix for model : \\n\",confusion_matrix(target_test,model_1_pred_test))\n",
    "    print(\"Classification Report for train data : \\n\",classification_report(target_train,model_1_pred_train))\n",
    "    print(\"Classification Report for test data : \\n\",classification_report(target_test,model_1_pred_test))"
   ]
  },
  {
   "cell_type": "code",
   "execution_count": 137,
   "id": "75a20534",
   "metadata": {},
   "outputs": [
    {
     "name": "stdout",
     "output_type": "stream",
     "text": [
      "Accuracy for the training model :  0.6893491124260355\n",
      "Accuracy for the testing model :  0.6294117647058823\n",
      "Confusion matrix for model : \n",
      " [[92  8]\n",
      " [55 15]]\n",
      "Classification Report for train data : \n",
      "               precision    recall  f1-score   support\n",
      "\n",
      "           0       0.68      0.95      0.79       422\n",
      "           1       0.74      0.26      0.39       254\n",
      "\n",
      "    accuracy                           0.69       676\n",
      "   macro avg       0.71      0.60      0.59       676\n",
      "weighted avg       0.70      0.69      0.64       676\n",
      "\n",
      "Classification Report for test data : \n",
      "               precision    recall  f1-score   support\n",
      "\n",
      "           0       0.63      0.92      0.74       100\n",
      "           1       0.65      0.21      0.32        70\n",
      "\n",
      "    accuracy                           0.63       170\n",
      "   macro avg       0.64      0.57      0.53       170\n",
      "weighted avg       0.64      0.63      0.57       170\n",
      "\n"
     ]
    }
   ],
   "source": [
    "from sklearn.svm import SVC\n",
    "model_selection(SVC(),features_train,target_train,features_test,target_test)"
   ]
  },
  {
   "cell_type": "code",
   "execution_count": 138,
   "id": "fa0781d6",
   "metadata": {},
   "outputs": [
    {
     "name": "stdout",
     "output_type": "stream",
     "text": [
      "Accuracy for the training model :  0.75\n",
      "Accuracy for the testing model :  0.5823529411764706\n",
      "Confusion matrix for model : \n",
      " [[79 21]\n",
      " [50 20]]\n",
      "Classification Report for train data : \n",
      "               precision    recall  f1-score   support\n",
      "\n",
      "           0       0.78      0.84      0.81       422\n",
      "           1       0.69      0.61      0.65       254\n",
      "\n",
      "    accuracy                           0.75       676\n",
      "   macro avg       0.73      0.72      0.73       676\n",
      "weighted avg       0.75      0.75      0.75       676\n",
      "\n",
      "Classification Report for test data : \n",
      "               precision    recall  f1-score   support\n",
      "\n",
      "           0       0.61      0.79      0.69       100\n",
      "           1       0.49      0.29      0.36        70\n",
      "\n",
      "    accuracy                           0.58       170\n",
      "   macro avg       0.55      0.54      0.53       170\n",
      "weighted avg       0.56      0.58      0.55       170\n",
      "\n"
     ]
    }
   ],
   "source": [
    "from sklearn.neighbors import KNeighborsClassifier\n",
    "model_selection(KNeighborsClassifier(),features_train,target_train,features_test,target_test)"
   ]
  },
  {
   "cell_type": "code",
   "execution_count": 139,
   "id": "7355d051",
   "metadata": {},
   "outputs": [
    {
     "name": "stdout",
     "output_type": "stream",
     "text": [
      "Accuracy for the training model :  1.0\n",
      "Accuracy for the testing model :  0.7235294117647059\n",
      "Confusion matrix for model : \n",
      " [[76 24]\n",
      " [23 47]]\n",
      "Classification Report for train data : \n",
      "               precision    recall  f1-score   support\n",
      "\n",
      "           0       1.00      1.00      1.00       422\n",
      "           1       1.00      1.00      1.00       254\n",
      "\n",
      "    accuracy                           1.00       676\n",
      "   macro avg       1.00      1.00      1.00       676\n",
      "weighted avg       1.00      1.00      1.00       676\n",
      "\n",
      "Classification Report for test data : \n",
      "               precision    recall  f1-score   support\n",
      "\n",
      "           0       0.77      0.76      0.76       100\n",
      "           1       0.66      0.67      0.67        70\n",
      "\n",
      "    accuracy                           0.72       170\n",
      "   macro avg       0.71      0.72      0.72       170\n",
      "weighted avg       0.72      0.72      0.72       170\n",
      "\n"
     ]
    }
   ],
   "source": [
    "from sklearn.tree import DecisionTreeClassifier\n",
    "model_selection(DecisionTreeClassifier(),features_train,target_train,features_test,target_test)"
   ]
  },
  {
   "cell_type": "markdown",
   "id": "9b525e87",
   "metadata": {},
   "source": [
    "Conclusion : Decision tree Classifier is giving best test accuracy of 72.35%"
   ]
  }
 ],
 "metadata": {
  "kernelspec": {
   "display_name": "Python 3 (ipykernel)",
   "language": "python",
   "name": "python3"
  },
  "language_info": {
   "codemirror_mode": {
    "name": "ipython",
    "version": 3
   },
   "file_extension": ".py",
   "mimetype": "text/x-python",
   "name": "python",
   "nbconvert_exporter": "python",
   "pygments_lexer": "ipython3",
   "version": "3.7.11"
  }
 },
 "nbformat": 4,
 "nbformat_minor": 5
}
