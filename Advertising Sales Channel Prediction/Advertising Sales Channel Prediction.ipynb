{
 "cells": [
  {
   "cell_type": "code",
   "execution_count": 772,
   "id": "80e038c9",
   "metadata": {},
   "outputs": [],
   "source": [
    "import numpy as np\n",
    "import pandas as pd\n",
    "import seaborn as sns\n",
    "import matplotlib.pyplot as plt\n",
    "\n",
    "import warnings\n",
    "warnings.filterwarnings('ignore')"
   ]
  },
  {
   "cell_type": "code",
   "execution_count": 773,
   "id": "d584d91d",
   "metadata": {},
   "outputs": [],
   "source": [
    "df = pd.read_csv('Advertising.csv')"
   ]
  },
  {
   "cell_type": "code",
   "execution_count": 774,
   "id": "0001bcb5",
   "metadata": {},
   "outputs": [
    {
     "data": {
      "text/html": [
       "<div>\n",
       "<style scoped>\n",
       "    .dataframe tbody tr th:only-of-type {\n",
       "        vertical-align: middle;\n",
       "    }\n",
       "\n",
       "    .dataframe tbody tr th {\n",
       "        vertical-align: top;\n",
       "    }\n",
       "\n",
       "    .dataframe thead th {\n",
       "        text-align: right;\n",
       "    }\n",
       "</style>\n",
       "<table border=\"1\" class=\"dataframe\">\n",
       "  <thead>\n",
       "    <tr style=\"text-align: right;\">\n",
       "      <th></th>\n",
       "      <th>Unnamed: 0</th>\n",
       "      <th>TV</th>\n",
       "      <th>radio</th>\n",
       "      <th>newspaper</th>\n",
       "      <th>sales</th>\n",
       "    </tr>\n",
       "  </thead>\n",
       "  <tbody>\n",
       "    <tr>\n",
       "      <th>0</th>\n",
       "      <td>1</td>\n",
       "      <td>230.1</td>\n",
       "      <td>37.8</td>\n",
       "      <td>69.2</td>\n",
       "      <td>22.1</td>\n",
       "    </tr>\n",
       "    <tr>\n",
       "      <th>1</th>\n",
       "      <td>2</td>\n",
       "      <td>44.5</td>\n",
       "      <td>39.3</td>\n",
       "      <td>45.1</td>\n",
       "      <td>10.4</td>\n",
       "    </tr>\n",
       "    <tr>\n",
       "      <th>2</th>\n",
       "      <td>3</td>\n",
       "      <td>17.2</td>\n",
       "      <td>45.9</td>\n",
       "      <td>69.3</td>\n",
       "      <td>9.3</td>\n",
       "    </tr>\n",
       "    <tr>\n",
       "      <th>3</th>\n",
       "      <td>4</td>\n",
       "      <td>151.5</td>\n",
       "      <td>41.3</td>\n",
       "      <td>58.5</td>\n",
       "      <td>18.5</td>\n",
       "    </tr>\n",
       "    <tr>\n",
       "      <th>4</th>\n",
       "      <td>5</td>\n",
       "      <td>180.8</td>\n",
       "      <td>10.8</td>\n",
       "      <td>58.4</td>\n",
       "      <td>12.9</td>\n",
       "    </tr>\n",
       "    <tr>\n",
       "      <th>...</th>\n",
       "      <td>...</td>\n",
       "      <td>...</td>\n",
       "      <td>...</td>\n",
       "      <td>...</td>\n",
       "      <td>...</td>\n",
       "    </tr>\n",
       "    <tr>\n",
       "      <th>195</th>\n",
       "      <td>196</td>\n",
       "      <td>38.2</td>\n",
       "      <td>3.7</td>\n",
       "      <td>13.8</td>\n",
       "      <td>7.6</td>\n",
       "    </tr>\n",
       "    <tr>\n",
       "      <th>196</th>\n",
       "      <td>197</td>\n",
       "      <td>94.2</td>\n",
       "      <td>4.9</td>\n",
       "      <td>8.1</td>\n",
       "      <td>9.7</td>\n",
       "    </tr>\n",
       "    <tr>\n",
       "      <th>197</th>\n",
       "      <td>198</td>\n",
       "      <td>177.0</td>\n",
       "      <td>9.3</td>\n",
       "      <td>6.4</td>\n",
       "      <td>12.8</td>\n",
       "    </tr>\n",
       "    <tr>\n",
       "      <th>198</th>\n",
       "      <td>199</td>\n",
       "      <td>283.6</td>\n",
       "      <td>42.0</td>\n",
       "      <td>66.2</td>\n",
       "      <td>25.5</td>\n",
       "    </tr>\n",
       "    <tr>\n",
       "      <th>199</th>\n",
       "      <td>200</td>\n",
       "      <td>232.1</td>\n",
       "      <td>8.6</td>\n",
       "      <td>8.7</td>\n",
       "      <td>13.4</td>\n",
       "    </tr>\n",
       "  </tbody>\n",
       "</table>\n",
       "<p>200 rows × 5 columns</p>\n",
       "</div>"
      ],
      "text/plain": [
       "     Unnamed: 0     TV  radio  newspaper  sales\n",
       "0             1  230.1   37.8       69.2   22.1\n",
       "1             2   44.5   39.3       45.1   10.4\n",
       "2             3   17.2   45.9       69.3    9.3\n",
       "3             4  151.5   41.3       58.5   18.5\n",
       "4             5  180.8   10.8       58.4   12.9\n",
       "..          ...    ...    ...        ...    ...\n",
       "195         196   38.2    3.7       13.8    7.6\n",
       "196         197   94.2    4.9        8.1    9.7\n",
       "197         198  177.0    9.3        6.4   12.8\n",
       "198         199  283.6   42.0       66.2   25.5\n",
       "199         200  232.1    8.6        8.7   13.4\n",
       "\n",
       "[200 rows x 5 columns]"
      ]
     },
     "execution_count": 774,
     "metadata": {},
     "output_type": "execute_result"
    }
   ],
   "source": [
    "df"
   ]
  },
  {
   "cell_type": "code",
   "execution_count": 775,
   "id": "43a668c3",
   "metadata": {},
   "outputs": [],
   "source": [
    "df.rename(columns = {'Unnamed: 0':'Index'},inplace=True)"
   ]
  },
  {
   "cell_type": "code",
   "execution_count": 776,
   "id": "762f36d9",
   "metadata": {},
   "outputs": [],
   "source": [
    "df.set_index('Index',inplace=True)"
   ]
  },
  {
   "cell_type": "code",
   "execution_count": 777,
   "id": "8d3962a4",
   "metadata": {},
   "outputs": [
    {
     "data": {
      "text/html": [
       "<div>\n",
       "<style scoped>\n",
       "    .dataframe tbody tr th:only-of-type {\n",
       "        vertical-align: middle;\n",
       "    }\n",
       "\n",
       "    .dataframe tbody tr th {\n",
       "        vertical-align: top;\n",
       "    }\n",
       "\n",
       "    .dataframe thead th {\n",
       "        text-align: right;\n",
       "    }\n",
       "</style>\n",
       "<table border=\"1\" class=\"dataframe\">\n",
       "  <thead>\n",
       "    <tr style=\"text-align: right;\">\n",
       "      <th></th>\n",
       "      <th>TV</th>\n",
       "      <th>radio</th>\n",
       "      <th>newspaper</th>\n",
       "      <th>sales</th>\n",
       "    </tr>\n",
       "    <tr>\n",
       "      <th>Index</th>\n",
       "      <th></th>\n",
       "      <th></th>\n",
       "      <th></th>\n",
       "      <th></th>\n",
       "    </tr>\n",
       "  </thead>\n",
       "  <tbody>\n",
       "    <tr>\n",
       "      <th>1</th>\n",
       "      <td>230.1</td>\n",
       "      <td>37.8</td>\n",
       "      <td>69.2</td>\n",
       "      <td>22.1</td>\n",
       "    </tr>\n",
       "    <tr>\n",
       "      <th>2</th>\n",
       "      <td>44.5</td>\n",
       "      <td>39.3</td>\n",
       "      <td>45.1</td>\n",
       "      <td>10.4</td>\n",
       "    </tr>\n",
       "    <tr>\n",
       "      <th>3</th>\n",
       "      <td>17.2</td>\n",
       "      <td>45.9</td>\n",
       "      <td>69.3</td>\n",
       "      <td>9.3</td>\n",
       "    </tr>\n",
       "    <tr>\n",
       "      <th>4</th>\n",
       "      <td>151.5</td>\n",
       "      <td>41.3</td>\n",
       "      <td>58.5</td>\n",
       "      <td>18.5</td>\n",
       "    </tr>\n",
       "    <tr>\n",
       "      <th>5</th>\n",
       "      <td>180.8</td>\n",
       "      <td>10.8</td>\n",
       "      <td>58.4</td>\n",
       "      <td>12.9</td>\n",
       "    </tr>\n",
       "    <tr>\n",
       "      <th>...</th>\n",
       "      <td>...</td>\n",
       "      <td>...</td>\n",
       "      <td>...</td>\n",
       "      <td>...</td>\n",
       "    </tr>\n",
       "    <tr>\n",
       "      <th>196</th>\n",
       "      <td>38.2</td>\n",
       "      <td>3.7</td>\n",
       "      <td>13.8</td>\n",
       "      <td>7.6</td>\n",
       "    </tr>\n",
       "    <tr>\n",
       "      <th>197</th>\n",
       "      <td>94.2</td>\n",
       "      <td>4.9</td>\n",
       "      <td>8.1</td>\n",
       "      <td>9.7</td>\n",
       "    </tr>\n",
       "    <tr>\n",
       "      <th>198</th>\n",
       "      <td>177.0</td>\n",
       "      <td>9.3</td>\n",
       "      <td>6.4</td>\n",
       "      <td>12.8</td>\n",
       "    </tr>\n",
       "    <tr>\n",
       "      <th>199</th>\n",
       "      <td>283.6</td>\n",
       "      <td>42.0</td>\n",
       "      <td>66.2</td>\n",
       "      <td>25.5</td>\n",
       "    </tr>\n",
       "    <tr>\n",
       "      <th>200</th>\n",
       "      <td>232.1</td>\n",
       "      <td>8.6</td>\n",
       "      <td>8.7</td>\n",
       "      <td>13.4</td>\n",
       "    </tr>\n",
       "  </tbody>\n",
       "</table>\n",
       "<p>200 rows × 4 columns</p>\n",
       "</div>"
      ],
      "text/plain": [
       "          TV  radio  newspaper  sales\n",
       "Index                                \n",
       "1      230.1   37.8       69.2   22.1\n",
       "2       44.5   39.3       45.1   10.4\n",
       "3       17.2   45.9       69.3    9.3\n",
       "4      151.5   41.3       58.5   18.5\n",
       "5      180.8   10.8       58.4   12.9\n",
       "...      ...    ...        ...    ...\n",
       "196     38.2    3.7       13.8    7.6\n",
       "197     94.2    4.9        8.1    9.7\n",
       "198    177.0    9.3        6.4   12.8\n",
       "199    283.6   42.0       66.2   25.5\n",
       "200    232.1    8.6        8.7   13.4\n",
       "\n",
       "[200 rows x 4 columns]"
      ]
     },
     "execution_count": 777,
     "metadata": {},
     "output_type": "execute_result"
    }
   ],
   "source": [
    "df"
   ]
  },
  {
   "cell_type": "code",
   "execution_count": 778,
   "id": "2487b8b3",
   "metadata": {},
   "outputs": [
    {
     "data": {
      "text/html": [
       "<div>\n",
       "<style scoped>\n",
       "    .dataframe tbody tr th:only-of-type {\n",
       "        vertical-align: middle;\n",
       "    }\n",
       "\n",
       "    .dataframe tbody tr th {\n",
       "        vertical-align: top;\n",
       "    }\n",
       "\n",
       "    .dataframe thead th {\n",
       "        text-align: right;\n",
       "    }\n",
       "</style>\n",
       "<table border=\"1\" class=\"dataframe\">\n",
       "  <thead>\n",
       "    <tr style=\"text-align: right;\">\n",
       "      <th></th>\n",
       "      <th>TV</th>\n",
       "      <th>radio</th>\n",
       "      <th>newspaper</th>\n",
       "      <th>sales</th>\n",
       "    </tr>\n",
       "  </thead>\n",
       "  <tbody>\n",
       "    <tr>\n",
       "      <th>count</th>\n",
       "      <td>200.000000</td>\n",
       "      <td>200.000000</td>\n",
       "      <td>200.000000</td>\n",
       "      <td>200.000000</td>\n",
       "    </tr>\n",
       "    <tr>\n",
       "      <th>mean</th>\n",
       "      <td>147.042500</td>\n",
       "      <td>23.264000</td>\n",
       "      <td>30.554000</td>\n",
       "      <td>14.022500</td>\n",
       "    </tr>\n",
       "    <tr>\n",
       "      <th>std</th>\n",
       "      <td>85.854236</td>\n",
       "      <td>14.846809</td>\n",
       "      <td>21.778621</td>\n",
       "      <td>5.217457</td>\n",
       "    </tr>\n",
       "    <tr>\n",
       "      <th>min</th>\n",
       "      <td>0.700000</td>\n",
       "      <td>0.000000</td>\n",
       "      <td>0.300000</td>\n",
       "      <td>1.600000</td>\n",
       "    </tr>\n",
       "    <tr>\n",
       "      <th>25%</th>\n",
       "      <td>74.375000</td>\n",
       "      <td>9.975000</td>\n",
       "      <td>12.750000</td>\n",
       "      <td>10.375000</td>\n",
       "    </tr>\n",
       "    <tr>\n",
       "      <th>50%</th>\n",
       "      <td>149.750000</td>\n",
       "      <td>22.900000</td>\n",
       "      <td>25.750000</td>\n",
       "      <td>12.900000</td>\n",
       "    </tr>\n",
       "    <tr>\n",
       "      <th>75%</th>\n",
       "      <td>218.825000</td>\n",
       "      <td>36.525000</td>\n",
       "      <td>45.100000</td>\n",
       "      <td>17.400000</td>\n",
       "    </tr>\n",
       "    <tr>\n",
       "      <th>max</th>\n",
       "      <td>296.400000</td>\n",
       "      <td>49.600000</td>\n",
       "      <td>114.000000</td>\n",
       "      <td>27.000000</td>\n",
       "    </tr>\n",
       "  </tbody>\n",
       "</table>\n",
       "</div>"
      ],
      "text/plain": [
       "               TV       radio   newspaper       sales\n",
       "count  200.000000  200.000000  200.000000  200.000000\n",
       "mean   147.042500   23.264000   30.554000   14.022500\n",
       "std     85.854236   14.846809   21.778621    5.217457\n",
       "min      0.700000    0.000000    0.300000    1.600000\n",
       "25%     74.375000    9.975000   12.750000   10.375000\n",
       "50%    149.750000   22.900000   25.750000   12.900000\n",
       "75%    218.825000   36.525000   45.100000   17.400000\n",
       "max    296.400000   49.600000  114.000000   27.000000"
      ]
     },
     "execution_count": 778,
     "metadata": {},
     "output_type": "execute_result"
    }
   ],
   "source": [
    "#Statistical summary\n",
    "df.describe()"
   ]
  },
  {
   "cell_type": "code",
   "execution_count": 779,
   "id": "53d94616",
   "metadata": {},
   "outputs": [
    {
     "data": {
      "text/plain": [
       "(200, 4)"
      ]
     },
     "execution_count": 779,
     "metadata": {},
     "output_type": "execute_result"
    }
   ],
   "source": [
    "df.shape"
   ]
  },
  {
   "cell_type": "code",
   "execution_count": 780,
   "id": "171ea71c",
   "metadata": {},
   "outputs": [
    {
     "data": {
      "text/plain": [
       "TV           float64\n",
       "radio        float64\n",
       "newspaper    float64\n",
       "sales        float64\n",
       "dtype: object"
      ]
     },
     "execution_count": 780,
     "metadata": {},
     "output_type": "execute_result"
    }
   ],
   "source": [
    "#Column Data type\n",
    "df.dtypes"
   ]
  },
  {
   "cell_type": "code",
   "execution_count": 781,
   "id": "97db0405",
   "metadata": {
    "scrolled": true
   },
   "outputs": [
    {
     "data": {
      "image/png": "[encoded data removed]",
      "text/plain": [
       "<Figure size 432x288 with 2 Axes>"
      ]
     },
     "metadata": {
      "needs_background": "light"
     },
     "output_type": "display_data"
    }
   ],
   "source": [
    "#Checking null values using heatmap\n",
    "sns.heatmap(df.isnull())\n",
    "plt.show()"
   ]
  },
  {
   "cell_type": "code",
   "execution_count": 782,
   "id": "0ece00fc",
   "metadata": {},
   "outputs": [
    {
     "data": {
      "text/plain": [
       "0"
      ]
     },
     "execution_count": 782,
     "metadata": {},
     "output_type": "execute_result"
    }
   ],
   "source": [
    "#Total number of null values in complete dataset\n",
    "df.isnull().sum().sum()"
   ]
  },
  {
   "cell_type": "code",
   "execution_count": 783,
   "id": "223a9ccf",
   "metadata": {},
   "outputs": [
    {
     "data": {
      "text/plain": [
       "TV           0\n",
       "radio        0\n",
       "newspaper    0\n",
       "sales        0\n",
       "dtype: int64"
      ]
     },
     "execution_count": 783,
     "metadata": {},
     "output_type": "execute_result"
    }
   ],
   "source": [
    "#number of null values in each column\n",
    "df.isnull().sum()"
   ]
  },
  {
   "cell_type": "code",
   "execution_count": 784,
   "id": "f3f06360",
   "metadata": {},
   "outputs": [],
   "source": [
    "#Making dataframe of Continous data\n",
    "df_visualisation_continous = df[['TV','radio','newspaper','sales']].copy()"
   ]
  },
  {
   "cell_type": "code",
   "execution_count": 785,
   "id": "ca790635",
   "metadata": {},
   "outputs": [
    {
     "data": {
      "text/plain": [
       "<AxesSubplot:xlabel='TV', ylabel='Density'>"
      ]
     },
     "execution_count": 785,
     "metadata": {},
     "output_type": "execute_result"
    },
    {
     "data": {
      "image/png": "[encoded data removed]",
      "text/plain": [
       "<Figure size 432x288 with 1 Axes>"
      ]
     },
     "metadata": {
      "needs_background": "light"
     },
     "output_type": "display_data"
    }
   ],
   "source": [
    "#Visualisation of TV data\n",
    "sns.distplot(df_visualisation_continous['TV'])"
   ]
  },
  {
   "cell_type": "code",
   "execution_count": 786,
   "id": "dbbf9380",
   "metadata": {},
   "outputs": [
    {
     "data": {
      "text/plain": [
       "<AxesSubplot:xlabel='radio', ylabel='Density'>"
      ]
     },
     "execution_count": 786,
     "metadata": {},
     "output_type": "execute_result"
    },
    {
     "data": {
      "image/png": "[encoded data removed]",
      "text/plain": [
       "<Figure size 432x288 with 1 Axes>"
      ]
     },
     "metadata": {
      "needs_background": "light"
     },
     "output_type": "display_data"
    }
   ],
   "source": [
    "#Visualisation of Radio data\n",
    "sns.distplot(df_visualisation_continous['radio'])"
   ]
  },
  {
   "cell_type": "code",
   "execution_count": 787,
   "id": "ace01cdd",
   "metadata": {},
   "outputs": [
    {
     "data": {
      "text/plain": [
       "<AxesSubplot:xlabel='newspaper', ylabel='Density'>"
      ]
     },
     "execution_count": 787,
     "metadata": {},
     "output_type": "execute_result"
    },
    {
     "data": {
      "image/png": "[encoded data removed]",
      "text/plain": [
       "<Figure size 432x288 with 1 Axes>"
      ]
     },
     "metadata": {
      "needs_background": "light"
     },
     "output_type": "display_data"
    }
   ],
   "source": [
    "#Visualisation of Newspaper data\n",
    "sns.distplot(df_visualisation_continous['newspaper'])"
   ]
  },
  {
   "cell_type": "code",
   "execution_count": 788,
   "id": "d9f946bd",
   "metadata": {},
   "outputs": [
    {
     "data": {
      "text/plain": [
       "<AxesSubplot:xlabel='sales', ylabel='Density'>"
      ]
     },
     "execution_count": 788,
     "metadata": {},
     "output_type": "execute_result"
    },
    {
     "data": {
      "image/png": "[encoded data removed]",
      "text/plain": [
       "<Figure size 432x288 with 1 Axes>"
      ]
     },
     "metadata": {
      "needs_background": "light"
     },
     "output_type": "display_data"
    }
   ],
   "source": [
    "#Visualisation of sales data\n",
    "sns.distplot(df_visualisation_continous['sales'])"
   ]
  },
  {
   "cell_type": "markdown",
   "id": "d3f7eb6a",
   "metadata": {},
   "source": [
    "Visualisation is completed"
   ]
  },
  {
   "cell_type": "markdown",
   "id": "d5c960a7",
   "metadata": {},
   "source": [
    "No use of Encoding of Dataframe(Converting String to numeric) because already all are numeric"
   ]
  },
  {
   "cell_type": "code",
   "execution_count": 789,
   "id": "805dbb99",
   "metadata": {
    "scrolled": true
   },
   "outputs": [
    {
     "data": {
      "text/plain": [
       "<AxesSubplot:>"
      ]
     },
     "execution_count": 789,
     "metadata": {},
     "output_type": "execute_result"
    },
    {
     "data": {
      "image/png": "[encoded data removed]",
      "text/plain": [
       "<Figure size 1584x504 with 2 Axes>"
      ]
     },
     "metadata": {
      "needs_background": "light"
     },
     "output_type": "display_data"
    }
   ],
   "source": [
    "plt.figure(figsize = (22,7))\n",
    "sns.heatmap(df.describe(),annot = True, linewidths=0.1)"
   ]
  },
  {
   "cell_type": "code",
   "execution_count": 790,
   "id": "c84d7d6d",
   "metadata": {},
   "outputs": [
    {
     "data": {
      "text/html": [
       "<div>\n",
       "<style scoped>\n",
       "    .dataframe tbody tr th:only-of-type {\n",
       "        vertical-align: middle;\n",
       "    }\n",
       "\n",
       "    .dataframe tbody tr th {\n",
       "        vertical-align: top;\n",
       "    }\n",
       "\n",
       "    .dataframe thead th {\n",
       "        text-align: right;\n",
       "    }\n",
       "</style>\n",
       "<table border=\"1\" class=\"dataframe\">\n",
       "  <thead>\n",
       "    <tr style=\"text-align: right;\">\n",
       "      <th></th>\n",
       "      <th>TV</th>\n",
       "      <th>radio</th>\n",
       "      <th>newspaper</th>\n",
       "      <th>sales</th>\n",
       "    </tr>\n",
       "  </thead>\n",
       "  <tbody>\n",
       "    <tr>\n",
       "      <th>TV</th>\n",
       "      <td>1.000000</td>\n",
       "      <td>0.054809</td>\n",
       "      <td>0.056648</td>\n",
       "      <td>0.782224</td>\n",
       "    </tr>\n",
       "    <tr>\n",
       "      <th>radio</th>\n",
       "      <td>0.054809</td>\n",
       "      <td>1.000000</td>\n",
       "      <td>0.354104</td>\n",
       "      <td>0.576223</td>\n",
       "    </tr>\n",
       "    <tr>\n",
       "      <th>newspaper</th>\n",
       "      <td>0.056648</td>\n",
       "      <td>0.354104</td>\n",
       "      <td>1.000000</td>\n",
       "      <td>0.228299</td>\n",
       "    </tr>\n",
       "    <tr>\n",
       "      <th>sales</th>\n",
       "      <td>0.782224</td>\n",
       "      <td>0.576223</td>\n",
       "      <td>0.228299</td>\n",
       "      <td>1.000000</td>\n",
       "    </tr>\n",
       "  </tbody>\n",
       "</table>\n",
       "</div>"
      ],
      "text/plain": [
       "                 TV     radio  newspaper     sales\n",
       "TV         1.000000  0.054809   0.056648  0.782224\n",
       "radio      0.054809  1.000000   0.354104  0.576223\n",
       "newspaper  0.056648  0.354104   1.000000  0.228299\n",
       "sales      0.782224  0.576223   0.228299  1.000000"
      ]
     },
     "execution_count": 790,
     "metadata": {},
     "output_type": "execute_result"
    }
   ],
   "source": [
    "#Correlation of Columns with target column\n",
    "df.corr()"
   ]
  },
  {
   "cell_type": "code",
   "execution_count": 791,
   "id": "345c070d",
   "metadata": {},
   "outputs": [
    {
     "data": {
      "text/plain": [
       "<AxesSubplot:>"
      ]
     },
     "execution_count": 791,
     "metadata": {},
     "output_type": "execute_result"
    },
    {
     "data": {
      "image/png": "[encoded data removed]",
      "text/plain": [
       "<Figure size 1584x504 with 2 Axes>"
      ]
     },
     "metadata": {
      "needs_background": "light"
     },
     "output_type": "display_data"
    }
   ],
   "source": [
    "#Correlation of Columns with target column using heatmap\n",
    "plt.figure(figsize = (22,7))\n",
    "sns.heatmap(df.corr(),annot = True, linewidths=0.1)"
   ]
  },
  {
   "cell_type": "code",
   "execution_count": 792,
   "id": "03cadf80",
   "metadata": {},
   "outputs": [],
   "source": [
    "#Checking columns which appear to be highly correlated with target columns"
   ]
  },
  {
   "cell_type": "code",
   "execution_count": 793,
   "id": "26a9f4ab",
   "metadata": {},
   "outputs": [
    {
     "data": {
      "image/png": "[encoded data removed]",
      "text/plain": [
       "<Figure size 1584x504 with 1 Axes>"
      ]
     },
     "metadata": {
      "needs_background": "light"
     },
     "output_type": "display_data"
    }
   ],
   "source": [
    "plt.figure(figsize=(22,7))\n",
    "df.corr()['sales'].sort_values(ascending = False).drop(['sales']).plot(kind='bar',fontsize=14)\n",
    "plt.xlabel('Feature',fontsize=14)\n",
    "plt.ylabel('Column with target names',fontsize=14)\n",
    "plt.title('Correlation',fontsize=20)\n",
    "plt.show()"
   ]
  },
  {
   "cell_type": "code",
   "execution_count": 794,
   "id": "8c21ab1c",
   "metadata": {},
   "outputs": [
    {
     "data": {
      "image/png": "[encoded data removed]",
      "text/plain": [
       "<Figure size 1584x504 with 1 Axes>"
      ]
     },
     "metadata": {
      "needs_background": "light"
     },
     "output_type": "display_data"
    }
   ],
   "source": [
    "#Checking correlation between TV and sales\n",
    "plt.figure(figsize=(22,7))\n",
    "plt.scatter(df.TV,df.sales)\n",
    "plt.show()"
   ]
  },
  {
   "cell_type": "code",
   "execution_count": 795,
   "id": "476e172a",
   "metadata": {},
   "outputs": [
    {
     "name": "stdout",
     "output_type": "stream",
     "text": [
      "[[7370.94989322  350.39019472]\n",
      " [ 350.39019472   27.22185302]]\n"
     ]
    }
   ],
   "source": [
    "# calculate covariance matrix between TV and sales\n",
    "covariance = np.cov(df.TV, df.sales)\n",
    "print(covariance)"
   ]
  },
  {
   "cell_type": "markdown",
   "id": "a91a07b0",
   "metadata": {},
   "source": [
    "The covariance between the two variables is 350.39 . We can see that variables change in the same direction."
   ]
  },
  {
   "cell_type": "code",
   "execution_count": 796,
   "id": "6af1f7cb",
   "metadata": {},
   "outputs": [
    {
     "data": {
      "text/plain": [
       "0.7822244248616064"
      ]
     },
     "execution_count": 796,
     "metadata": {},
     "output_type": "execute_result"
    }
   ],
   "source": [
    "#Using pearson's correlation\n",
    "from scipy.stats import pearsonr\n",
    "corr, _ = pearsonr(df.TV, df.sales)\n",
    "corr"
   ]
  },
  {
   "cell_type": "code",
   "execution_count": 797,
   "id": "342f8766",
   "metadata": {},
   "outputs": [],
   "source": [
    "#We need to drop TV as it is highly correlated to target data and also has dual nodes in distribution plot\n",
    "df = df.drop(\"TV\", axis=1)"
   ]
  },
  {
   "cell_type": "code",
   "execution_count": 798,
   "id": "a3014b30",
   "metadata": {},
   "outputs": [
    {
     "data": {
      "text/html": [
       "<div>\n",
       "<style scoped>\n",
       "    .dataframe tbody tr th:only-of-type {\n",
       "        vertical-align: middle;\n",
       "    }\n",
       "\n",
       "    .dataframe tbody tr th {\n",
       "        vertical-align: top;\n",
       "    }\n",
       "\n",
       "    .dataframe thead th {\n",
       "        text-align: right;\n",
       "    }\n",
       "</style>\n",
       "<table border=\"1\" class=\"dataframe\">\n",
       "  <thead>\n",
       "    <tr style=\"text-align: right;\">\n",
       "      <th></th>\n",
       "      <th>radio</th>\n",
       "      <th>newspaper</th>\n",
       "      <th>sales</th>\n",
       "    </tr>\n",
       "    <tr>\n",
       "      <th>Index</th>\n",
       "      <th></th>\n",
       "      <th></th>\n",
       "      <th></th>\n",
       "    </tr>\n",
       "  </thead>\n",
       "  <tbody>\n",
       "    <tr>\n",
       "      <th>1</th>\n",
       "      <td>37.8</td>\n",
       "      <td>69.2</td>\n",
       "      <td>22.1</td>\n",
       "    </tr>\n",
       "    <tr>\n",
       "      <th>2</th>\n",
       "      <td>39.3</td>\n",
       "      <td>45.1</td>\n",
       "      <td>10.4</td>\n",
       "    </tr>\n",
       "    <tr>\n",
       "      <th>3</th>\n",
       "      <td>45.9</td>\n",
       "      <td>69.3</td>\n",
       "      <td>9.3</td>\n",
       "    </tr>\n",
       "    <tr>\n",
       "      <th>4</th>\n",
       "      <td>41.3</td>\n",
       "      <td>58.5</td>\n",
       "      <td>18.5</td>\n",
       "    </tr>\n",
       "    <tr>\n",
       "      <th>5</th>\n",
       "      <td>10.8</td>\n",
       "      <td>58.4</td>\n",
       "      <td>12.9</td>\n",
       "    </tr>\n",
       "    <tr>\n",
       "      <th>...</th>\n",
       "      <td>...</td>\n",
       "      <td>...</td>\n",
       "      <td>...</td>\n",
       "    </tr>\n",
       "    <tr>\n",
       "      <th>196</th>\n",
       "      <td>3.7</td>\n",
       "      <td>13.8</td>\n",
       "      <td>7.6</td>\n",
       "    </tr>\n",
       "    <tr>\n",
       "      <th>197</th>\n",
       "      <td>4.9</td>\n",
       "      <td>8.1</td>\n",
       "      <td>9.7</td>\n",
       "    </tr>\n",
       "    <tr>\n",
       "      <th>198</th>\n",
       "      <td>9.3</td>\n",
       "      <td>6.4</td>\n",
       "      <td>12.8</td>\n",
       "    </tr>\n",
       "    <tr>\n",
       "      <th>199</th>\n",
       "      <td>42.0</td>\n",
       "      <td>66.2</td>\n",
       "      <td>25.5</td>\n",
       "    </tr>\n",
       "    <tr>\n",
       "      <th>200</th>\n",
       "      <td>8.6</td>\n",
       "      <td>8.7</td>\n",
       "      <td>13.4</td>\n",
       "    </tr>\n",
       "  </tbody>\n",
       "</table>\n",
       "<p>200 rows × 3 columns</p>\n",
       "</div>"
      ],
      "text/plain": [
       "       radio  newspaper  sales\n",
       "Index                         \n",
       "1       37.8       69.2   22.1\n",
       "2       39.3       45.1   10.4\n",
       "3       45.9       69.3    9.3\n",
       "4       41.3       58.5   18.5\n",
       "5       10.8       58.4   12.9\n",
       "...      ...        ...    ...\n",
       "196      3.7       13.8    7.6\n",
       "197      4.9        8.1    9.7\n",
       "198      9.3        6.4   12.8\n",
       "199     42.0       66.2   25.5\n",
       "200      8.6        8.7   13.4\n",
       "\n",
       "[200 rows x 3 columns]"
      ]
     },
     "execution_count": 798,
     "metadata": {},
     "output_type": "execute_result"
    }
   ],
   "source": [
    "df"
   ]
  },
  {
   "cell_type": "code",
   "execution_count": 799,
   "id": "c11d69b0",
   "metadata": {},
   "outputs": [
    {
     "data": {
      "image/png": "[encoded data removed]",
      "text/plain": [
       "<Figure size 1584x504 with 1 Axes>"
      ]
     },
     "metadata": {
      "needs_background": "light"
     },
     "output_type": "display_data"
    }
   ],
   "source": [
    "#Checking correlation between radio and sales\n",
    "plt.figure(figsize=(22,7))\n",
    "plt.scatter(df.radio,df.sales)\n",
    "plt.show()"
   ]
  },
  {
   "cell_type": "code",
   "execution_count": 800,
   "id": "c8069b7a",
   "metadata": {},
   "outputs": [
    {
     "data": {
      "text/plain": [
       "radio        0.094175\n",
       "newspaper    0.894720\n",
       "sales        0.407571\n",
       "dtype: float64"
      ]
     },
     "execution_count": 800,
     "metadata": {},
     "output_type": "execute_result"
    }
   ],
   "source": [
    "#Removing skewness\n",
    "df.skew()"
   ]
  },
  {
   "cell_type": "markdown",
   "id": "70d6ec7f",
   "metadata": {},
   "source": [
    "Acceptable skewness (-0.65,+0.65)"
   ]
  },
  {
   "cell_type": "code",
   "execution_count": 801,
   "id": "2f8ac286",
   "metadata": {},
   "outputs": [],
   "source": [
    "#Applying box-cox\n",
    "from scipy.stats import boxcox\n",
    "df.newspaper = boxcox(df.newspaper)[0]"
   ]
  },
  {
   "cell_type": "code",
   "execution_count": 802,
   "id": "c7789379",
   "metadata": {},
   "outputs": [
    {
     "data": {
      "text/plain": [
       "radio        0.094175\n",
       "newspaper   -0.089651\n",
       "sales        0.407571\n",
       "dtype: float64"
      ]
     },
     "execution_count": 802,
     "metadata": {},
     "output_type": "execute_result"
    }
   ],
   "source": [
    "df.skew()"
   ]
  },
  {
   "cell_type": "code",
   "execution_count": 803,
   "id": "9ed3cd5d",
   "metadata": {},
   "outputs": [
    {
     "data": {
      "text/plain": [
       "radio        float64\n",
       "newspaper    float64\n",
       "sales        float64\n",
       "dtype: object"
      ]
     },
     "execution_count": 803,
     "metadata": {},
     "output_type": "execute_result"
    }
   ],
   "source": [
    "#Outlier check\n",
    "df.dtypes"
   ]
  },
  {
   "cell_type": "code",
   "execution_count": 804,
   "id": "d40e9811",
   "metadata": {},
   "outputs": [
    {
     "data": {
      "text/plain": [
       "<AxesSubplot:>"
      ]
     },
     "execution_count": 804,
     "metadata": {},
     "output_type": "execute_result"
    },
    {
     "data": {
      "image/png": "[encoded data removed]",
      "text/plain": [
       "<Figure size 432x288 with 1 Axes>"
      ]
     },
     "metadata": {
      "needs_background": "light"
     },
     "output_type": "display_data"
    }
   ],
   "source": [
    "#Radio and newspaper are the only continous data types left\n",
    "df['radio'].plot.box()"
   ]
  },
  {
   "cell_type": "code",
   "execution_count": 805,
   "id": "9e81b62e",
   "metadata": {},
   "outputs": [
    {
     "data": {
      "text/plain": [
       "<AxesSubplot:>"
      ]
     },
     "execution_count": 805,
     "metadata": {},
     "output_type": "execute_result"
    },
    {
     "data": {
      "image/png": "[encoded data removed]",
      "text/plain": [
       "<Figure size 432x288 with 1 Axes>"
      ]
     },
     "metadata": {
      "needs_background": "light"
     },
     "output_type": "display_data"
    }
   ],
   "source": [
    "df['newspaper'].plot.box()"
   ]
  },
  {
   "cell_type": "code",
   "execution_count": 806,
   "id": "1cfcaf1b",
   "metadata": {},
   "outputs": [
    {
     "data": {
      "text/plain": [
       "(200, 3)"
      ]
     },
     "execution_count": 806,
     "metadata": {},
     "output_type": "execute_result"
    }
   ],
   "source": [
    "#Outlier removal using z-score\n",
    "df.shape"
   ]
  },
  {
   "cell_type": "code",
   "execution_count": 807,
   "id": "624b2022",
   "metadata": {},
   "outputs": [
    {
     "data": {
      "text/plain": [
       "(array([], dtype=int64), array([], dtype=int64))"
      ]
     },
     "execution_count": 807,
     "metadata": {},
     "output_type": "execute_result"
    }
   ],
   "source": [
    "from scipy.stats import zscore\n",
    "\n",
    "z = np.abs(zscore(df))\n",
    "threshhold = 3\n",
    "np.where(z>3)"
   ]
  },
  {
   "cell_type": "code",
   "execution_count": 808,
   "id": "7b8ac187",
   "metadata": {},
   "outputs": [
    {
     "data": {
      "text/html": [
       "<div>\n",
       "<style scoped>\n",
       "    .dataframe tbody tr th:only-of-type {\n",
       "        vertical-align: middle;\n",
       "    }\n",
       "\n",
       "    .dataframe tbody tr th {\n",
       "        vertical-align: top;\n",
       "    }\n",
       "\n",
       "    .dataframe thead th {\n",
       "        text-align: right;\n",
       "    }\n",
       "</style>\n",
       "<table border=\"1\" class=\"dataframe\">\n",
       "  <thead>\n",
       "    <tr style=\"text-align: right;\">\n",
       "      <th></th>\n",
       "      <th>radio</th>\n",
       "      <th>newspaper</th>\n",
       "      <th>sales</th>\n",
       "    </tr>\n",
       "    <tr>\n",
       "      <th>Index</th>\n",
       "      <th></th>\n",
       "      <th></th>\n",
       "      <th></th>\n",
       "    </tr>\n",
       "  </thead>\n",
       "  <tbody>\n",
       "    <tr>\n",
       "      <th>1</th>\n",
       "      <td>37.8</td>\n",
       "      <td>11.719889</td>\n",
       "      <td>22.1</td>\n",
       "    </tr>\n",
       "    <tr>\n",
       "      <th>2</th>\n",
       "      <td>39.3</td>\n",
       "      <td>9.400769</td>\n",
       "      <td>10.4</td>\n",
       "    </tr>\n",
       "    <tr>\n",
       "      <th>3</th>\n",
       "      <td>45.9</td>\n",
       "      <td>11.728438</td>\n",
       "      <td>9.3</td>\n",
       "    </tr>\n",
       "    <tr>\n",
       "      <th>4</th>\n",
       "      <td>41.3</td>\n",
       "      <td>10.760018</td>\n",
       "      <td>18.5</td>\n",
       "    </tr>\n",
       "    <tr>\n",
       "      <th>5</th>\n",
       "      <td>10.8</td>\n",
       "      <td>10.750586</td>\n",
       "      <td>12.9</td>\n",
       "    </tr>\n",
       "    <tr>\n",
       "      <th>...</th>\n",
       "      <td>...</td>\n",
       "      <td>...</td>\n",
       "      <td>...</td>\n",
       "    </tr>\n",
       "    <tr>\n",
       "      <th>196</th>\n",
       "      <td>3.7</td>\n",
       "      <td>4.786082</td>\n",
       "      <td>7.6</td>\n",
       "    </tr>\n",
       "    <tr>\n",
       "      <th>197</th>\n",
       "      <td>4.9</td>\n",
       "      <td>3.349723</td>\n",
       "      <td>9.7</td>\n",
       "    </tr>\n",
       "    <tr>\n",
       "      <th>198</th>\n",
       "      <td>9.3</td>\n",
       "      <td>2.810135</td>\n",
       "      <td>12.8</td>\n",
       "    </tr>\n",
       "    <tr>\n",
       "      <th>199</th>\n",
       "      <td>42.0</td>\n",
       "      <td>11.460018</td>\n",
       "      <td>25.5</td>\n",
       "    </tr>\n",
       "    <tr>\n",
       "      <th>200</th>\n",
       "      <td>8.6</td>\n",
       "      <td>3.524235</td>\n",
       "      <td>13.4</td>\n",
       "    </tr>\n",
       "  </tbody>\n",
       "</table>\n",
       "<p>200 rows × 3 columns</p>\n",
       "</div>"
      ],
      "text/plain": [
       "       radio  newspaper  sales\n",
       "Index                         \n",
       "1       37.8  11.719889   22.1\n",
       "2       39.3   9.400769   10.4\n",
       "3       45.9  11.728438    9.3\n",
       "4       41.3  10.760018   18.5\n",
       "5       10.8  10.750586   12.9\n",
       "...      ...        ...    ...\n",
       "196      3.7   4.786082    7.6\n",
       "197      4.9   3.349723    9.7\n",
       "198      9.3   2.810135   12.8\n",
       "199     42.0  11.460018   25.5\n",
       "200      8.6   3.524235   13.4\n",
       "\n",
       "[200 rows x 3 columns]"
      ]
     },
     "execution_count": 808,
     "metadata": {},
     "output_type": "execute_result"
    }
   ],
   "source": [
    "df_new_z = df[(z<3).all(axis = 1)]\n",
    "df_new_z"
   ]
  },
  {
   "cell_type": "code",
   "execution_count": 809,
   "id": "bc52484e",
   "metadata": {},
   "outputs": [
    {
     "data": {
      "text/plain": [
       "(200, 3)"
      ]
     },
     "execution_count": 809,
     "metadata": {},
     "output_type": "execute_result"
    }
   ],
   "source": [
    "df_new_z.shape"
   ]
  },
  {
   "cell_type": "code",
   "execution_count": 810,
   "id": "77565b91",
   "metadata": {},
   "outputs": [
    {
     "data": {
      "text/plain": [
       "0.0"
      ]
     },
     "execution_count": 810,
     "metadata": {},
     "output_type": "execute_result"
    }
   ],
   "source": [
    "#Data Loss\n",
    "Data_loss = (200-200)/200*100\n",
    "Data_loss"
   ]
  },
  {
   "cell_type": "markdown",
   "id": "64204cd8",
   "metadata": {},
   "source": [
    "Hence no outliers"
   ]
  },
  {
   "cell_type": "markdown",
   "id": "77c1ed0d",
   "metadata": {},
   "source": [
    "Separating the columns into features and target:"
   ]
  },
  {
   "cell_type": "code",
   "execution_count": 811,
   "id": "132d0046",
   "metadata": {},
   "outputs": [],
   "source": [
    "feature = df.drop(\"sales\",axis=1)\n",
    "target = df[\"sales\"]"
   ]
  },
  {
   "cell_type": "code",
   "execution_count": 812,
   "id": "71fced54",
   "metadata": {},
   "outputs": [],
   "source": [
    "from sklearn.linear_model import LinearRegression\n",
    "lr = LinearRegression()\n",
    "\n",
    "\n",
    "from sklearn.metrics import r2_score\n",
    "from sklearn.model_selection import train_test_split\n"
   ]
  },
  {
   "cell_type": "code",
   "execution_count": 813,
   "id": "7e25a6d0",
   "metadata": {},
   "outputs": [],
   "source": [
    "import warnings\n",
    "warnings.filterwarnings('ignore')"
   ]
  },
  {
   "cell_type": "code",
   "execution_count": 814,
   "id": "5ab11f38",
   "metadata": {},
   "outputs": [
    {
     "name": "stdout",
     "output_type": "stream",
     "text": [
      "At random state 0 the training accuracy is : 0.3603392471629624\n",
      "At random state 0 the testing accuracy is : 0.21519720750658333\n",
      "\n",
      "\n",
      "At random state 1 the training accuracy is : 0.32191049847411957\n",
      "At random state 1 the testing accuracy is : 0.35407940125359316\n",
      "\n",
      "\n",
      "At random state 2 the training accuracy is : 0.3704161781825166\n",
      "At random state 2 the testing accuracy is : 0.04214654814107843\n",
      "\n",
      "\n",
      "At random state 3 the training accuracy is : 0.314634124467864\n",
      "At random state 3 the testing accuracy is : 0.41157245261485154\n",
      "\n",
      "\n",
      "At random state 4 the training accuracy is : 0.30457044371583564\n",
      "At random state 4 the testing accuracy is : 0.36850336888231294\n",
      "\n",
      "\n",
      "At random state 5 the training accuracy is : 0.30909236630802983\n",
      "At random state 5 the testing accuracy is : 0.41483329756858134\n",
      "\n",
      "\n",
      "At random state 6 the training accuracy is : 0.3393533797545121\n",
      "At random state 6 the testing accuracy is : 0.28999378792063435\n",
      "\n",
      "\n",
      "At random state 7 the training accuracy is : 0.32832336381550364\n",
      "At random state 7 the testing accuracy is : 0.316169758133769\n",
      "\n",
      "\n",
      "At random state 8 the training accuracy is : 0.33470806088781857\n",
      "At random state 8 the testing accuracy is : 0.28115665197524364\n",
      "\n",
      "\n",
      "At random state 9 the training accuracy is : 0.3331348063412094\n",
      "At random state 9 the testing accuracy is : 0.2910762182408222\n",
      "\n",
      "\n",
      "At random state 10 the training accuracy is : 0.38567334192108693\n",
      "At random state 10 the testing accuracy is : 0.19670912913477656\n",
      "\n",
      "\n",
      "At random state 11 the training accuracy is : 0.3707100855275224\n",
      "At random state 11 the testing accuracy is : 0.2059953324685121\n",
      "\n",
      "\n",
      "At random state 12 the training accuracy is : 0.33900598657595704\n",
      "At random state 12 the testing accuracy is : 0.304561557155409\n",
      "\n",
      "\n",
      "At random state 13 the training accuracy is : 0.29527120953306496\n",
      "At random state 13 the testing accuracy is : 0.4263214478032593\n",
      "\n",
      "\n",
      "At random state 14 the training accuracy is : 0.35647727345823965\n",
      "At random state 14 the testing accuracy is : 0.2391063900624133\n",
      "\n",
      "\n",
      "At random state 15 the training accuracy is : 0.3158360564433842\n",
      "At random state 15 the testing accuracy is : 0.3812314168500507\n",
      "\n",
      "\n",
      "At random state 16 the training accuracy is : 0.3193580152910185\n",
      "At random state 16 the testing accuracy is : 0.39684286308830397\n",
      "\n",
      "\n",
      "At random state 17 the training accuracy is : 0.3888069898356714\n",
      "At random state 17 the testing accuracy is : 0.06569307917575817\n",
      "\n",
      "\n",
      "At random state 18 the training accuracy is : 0.3189819480916999\n",
      "At random state 18 the testing accuracy is : 0.36667310796729236\n",
      "\n",
      "\n",
      "At random state 19 the training accuracy is : 0.33011400908947464\n",
      "At random state 19 the testing accuracy is : 0.2904805402842713\n",
      "\n",
      "\n",
      "At random state 20 the training accuracy is : 0.34722762217507563\n",
      "At random state 20 the testing accuracy is : 0.2906585392213028\n",
      "\n",
      "\n",
      "At random state 21 the training accuracy is : 0.2992972917506177\n",
      "At random state 21 the testing accuracy is : 0.4102769216957116\n",
      "\n",
      "\n",
      "At random state 22 the training accuracy is : 0.346102223013544\n",
      "At random state 22 the testing accuracy is : 0.2807456087959388\n",
      "\n",
      "\n",
      "At random state 23 the training accuracy is : 0.29475785793116915\n",
      "At random state 23 the testing accuracy is : 0.4177414786972833\n",
      "\n",
      "\n",
      "At random state 24 the training accuracy is : 0.3333522920567681\n",
      "At random state 24 the testing accuracy is : 0.30014394230901464\n",
      "\n",
      "\n",
      "At random state 25 the training accuracy is : 0.3455680208423729\n",
      "At random state 25 the testing accuracy is : 0.2369091411169183\n",
      "\n",
      "\n",
      "At random state 26 the training accuracy is : 0.3594136316686063\n",
      "At random state 26 the testing accuracy is : 0.15623735532978134\n",
      "\n",
      "\n",
      "At random state 27 the training accuracy is : 0.33003735469367446\n",
      "At random state 27 the testing accuracy is : 0.3418242384977407\n",
      "\n",
      "\n",
      "At random state 28 the training accuracy is : 0.3380303037695873\n",
      "At random state 28 the testing accuracy is : 0.29962170377989583\n",
      "\n",
      "\n",
      "At random state 29 the training accuracy is : 0.34797063960433217\n",
      "At random state 29 the testing accuracy is : 0.2661331916501892\n",
      "\n",
      "\n",
      "At random state 30 the training accuracy is : 0.34617315741939036\n",
      "At random state 30 the testing accuracy is : 0.26948256575460683\n",
      "\n",
      "\n",
      "At random state 31 the training accuracy is : 0.3158160085017033\n",
      "At random state 31 the testing accuracy is : 0.33014140601300834\n",
      "\n",
      "\n",
      "At random state 32 the training accuracy is : 0.3931327602155331\n",
      "At random state 32 the testing accuracy is : -0.07935412440250778\n",
      "\n",
      "\n",
      "At random state 33 the training accuracy is : 0.32134255665501843\n",
      "At random state 33 the testing accuracy is : 0.36333143308779325\n",
      "\n",
      "\n",
      "At random state 34 the training accuracy is : 0.30718488577311975\n",
      "At random state 34 the testing accuracy is : 0.41429746011805557\n",
      "\n",
      "\n",
      "At random state 35 the training accuracy is : 0.38807113051606035\n",
      "At random state 35 the testing accuracy is : -0.03207407382486149\n",
      "\n",
      "\n",
      "At random state 36 the training accuracy is : 0.3025324915287161\n",
      "At random state 36 the testing accuracy is : 0.43518561888670504\n",
      "\n",
      "\n",
      "At random state 37 the training accuracy is : 0.3531363630573592\n",
      "At random state 37 the testing accuracy is : 0.21020380574096964\n",
      "\n",
      "\n",
      "At random state 38 the training accuracy is : 0.31873247870091825\n",
      "At random state 38 the testing accuracy is : 0.41386245265205857\n",
      "\n",
      "\n",
      "At random state 39 the training accuracy is : 0.3327595651444014\n",
      "At random state 39 the testing accuracy is : 0.2839377875805137\n",
      "\n",
      "\n",
      "At random state 40 the training accuracy is : 0.4164194655445086\n",
      "At random state 40 the testing accuracy is : -0.02186622950653616\n",
      "\n",
      "\n",
      "At random state 41 the training accuracy is : 0.3230150449231679\n",
      "At random state 41 the testing accuracy is : 0.3516099499343365\n",
      "\n",
      "\n",
      "At random state 42 the training accuracy is : 0.35101841994136895\n",
      "At random state 42 the testing accuracy is : 0.2602175166125592\n",
      "\n",
      "\n",
      "At random state 43 the training accuracy is : 0.3248588144964595\n",
      "At random state 43 the testing accuracy is : 0.3570080116936488\n",
      "\n",
      "\n",
      "At random state 44 the training accuracy is : 0.3706622563017281\n",
      "At random state 44 the testing accuracy is : 0.03971609488069172\n",
      "\n",
      "\n",
      "At random state 45 the training accuracy is : 0.3162654305907855\n",
      "At random state 45 the testing accuracy is : 0.394964557719105\n",
      "\n",
      "\n",
      "At random state 46 the training accuracy is : 0.3584016847838153\n",
      "At random state 46 the testing accuracy is : 0.12853834417779164\n",
      "\n",
      "\n",
      "At random state 47 the training accuracy is : 0.3306591191386924\n",
      "At random state 47 the testing accuracy is : 0.2952427425794827\n",
      "\n",
      "\n",
      "At random state 48 the training accuracy is : 0.3152196942180223\n",
      "At random state 48 the testing accuracy is : 0.3352072459632417\n",
      "\n",
      "\n",
      "At random state 49 the training accuracy is : 0.33378529253125433\n",
      "At random state 49 the testing accuracy is : 0.27782455657927585\n",
      "\n",
      "\n",
      "At random state 50 the training accuracy is : 0.33684714521307535\n",
      "At random state 50 the testing accuracy is : 0.23608614527543892\n",
      "\n",
      "\n",
      "At random state 51 the training accuracy is : 0.31171671573690896\n",
      "At random state 51 the testing accuracy is : 0.3971790424039826\n",
      "\n",
      "\n",
      "At random state 52 the training accuracy is : 0.3287780426453333\n",
      "At random state 52 the testing accuracy is : 0.32806616772085395\n",
      "\n",
      "\n",
      "At random state 53 the training accuracy is : 0.33440041068576287\n",
      "At random state 53 the testing accuracy is : 0.2603835235791202\n",
      "\n",
      "\n",
      "At random state 54 the training accuracy is : 0.3475749863578821\n",
      "At random state 54 the testing accuracy is : 0.2640404756024699\n",
      "\n",
      "\n",
      "At random state 55 the training accuracy is : 0.38406087600881444\n",
      "At random state 55 the testing accuracy is : 0.06901887345110602\n",
      "\n",
      "\n",
      "At random state 56 the training accuracy is : 0.3616869593011499\n",
      "At random state 56 the testing accuracy is : 0.19290347156361265\n",
      "\n",
      "\n",
      "At random state 57 the training accuracy is : 0.3057551007777526\n",
      "At random state 57 the testing accuracy is : 0.406930992450223\n",
      "\n",
      "\n",
      "At random state 58 the training accuracy is : 0.35203702516758495\n",
      "At random state 58 the testing accuracy is : 0.25427578834624665\n",
      "\n",
      "\n",
      "At random state 59 the training accuracy is : 0.3091020545874461\n",
      "At random state 59 the testing accuracy is : 0.40168742128097457\n",
      "\n",
      "\n",
      "At random state 60 the training accuracy is : 0.3407068584592411\n",
      "At random state 60 the testing accuracy is : 0.290382395928522\n",
      "\n",
      "\n",
      "At random state 61 the training accuracy is : 0.3498582346110517\n",
      "At random state 61 the testing accuracy is : 0.20131188770761943\n",
      "\n",
      "\n",
      "At random state 62 the training accuracy is : 0.3654462592761528\n",
      "At random state 62 the testing accuracy is : 0.20759017667552015\n",
      "\n",
      "\n",
      "At random state 63 the training accuracy is : 0.34456416511962706\n",
      "At random state 63 the testing accuracy is : 0.23330405453950753\n",
      "\n",
      "\n",
      "At random state 64 the training accuracy is : 0.29831031343604064\n",
      "At random state 64 the testing accuracy is : 0.4624081702452556\n",
      "\n",
      "\n",
      "At random state 65 the training accuracy is : 0.3625834539928089\n",
      "At random state 65 the testing accuracy is : 0.1526864741406242\n",
      "\n",
      "\n",
      "At random state 66 the training accuracy is : 0.32474686931939145\n",
      "At random state 66 the testing accuracy is : 0.34586972196826193\n",
      "\n",
      "\n",
      "At random state 67 the training accuracy is : 0.3362941157680196\n",
      "At random state 67 the testing accuracy is : 0.29168140255156827\n",
      "\n",
      "\n",
      "At random state 68 the training accuracy is : 0.3482964963858851\n",
      "At random state 68 the testing accuracy is : 0.20342852890741792\n",
      "\n",
      "\n",
      "At random state 69 the training accuracy is : 0.2898429485490932\n",
      "At random state 69 the testing accuracy is : 0.4204594730800354\n",
      "\n",
      "\n",
      "At random state 70 the training accuracy is : 0.2977922684597196\n",
      "At random state 70 the testing accuracy is : 0.37956504465336416\n",
      "\n",
      "\n",
      "At random state 71 the training accuracy is : 0.3511676175098467\n",
      "At random state 71 the testing accuracy is : 0.21126978644108485\n",
      "\n",
      "\n",
      "At random state 72 the training accuracy is : 0.35953095011987257\n",
      "At random state 72 the testing accuracy is : 0.22469480170628786\n",
      "\n",
      "\n",
      "At random state 73 the training accuracy is : 0.3584191263238945\n",
      "At random state 73 the testing accuracy is : 0.18406104711579263\n",
      "\n",
      "\n",
      "At random state 74 the training accuracy is : 0.32455168787825883\n",
      "At random state 74 the testing accuracy is : 0.28004490970289075\n",
      "\n",
      "\n",
      "At random state 75 the training accuracy is : 0.34090356626032525\n",
      "At random state 75 the testing accuracy is : 0.3000184821673586\n",
      "\n",
      "\n",
      "At random state 76 the training accuracy is : 0.36805904220431673\n",
      "At random state 76 the testing accuracy is : -0.2380344815152977\n",
      "\n",
      "\n",
      "At random state 77 the training accuracy is : 0.2823851263276941\n",
      "At random state 77 the testing accuracy is : 0.5061437541306089\n",
      "\n",
      "\n",
      "At random state 78 the training accuracy is : 0.3574029907725683\n",
      "At random state 78 the testing accuracy is : 0.19854685777934433\n",
      "\n",
      "\n"
     ]
    },
    {
     "name": "stdout",
     "output_type": "stream",
     "text": [
      "At random state 79 the training accuracy is : 0.2911909733507415\n",
      "At random state 79 the testing accuracy is : 0.38771522064532205\n",
      "\n",
      "\n",
      "At random state 80 the training accuracy is : 0.40154234276354683\n",
      "At random state 80 the testing accuracy is : 0.0072744336960298694\n",
      "\n",
      "\n",
      "At random state 81 the training accuracy is : 0.34471148145001396\n",
      "At random state 81 the testing accuracy is : 0.23535104528658923\n",
      "\n",
      "\n",
      "At random state 82 the training accuracy is : 0.32271469588870794\n",
      "At random state 82 the testing accuracy is : 0.37162924657475294\n",
      "\n",
      "\n",
      "At random state 83 the training accuracy is : 0.3147725532113693\n",
      "At random state 83 the testing accuracy is : 0.3725821215920865\n",
      "\n",
      "\n",
      "At random state 84 the training accuracy is : 0.33083593402859846\n",
      "At random state 84 the testing accuracy is : 0.3345029095735963\n",
      "\n",
      "\n",
      "At random state 85 the training accuracy is : 0.35461731581309597\n",
      "At random state 85 the testing accuracy is : 0.2319658905785491\n",
      "\n",
      "\n",
      "At random state 86 the training accuracy is : 0.33549579867217205\n",
      "At random state 86 the testing accuracy is : 0.30605382283462446\n",
      "\n",
      "\n",
      "At random state 87 the training accuracy is : 0.38380504830192375\n",
      "At random state 87 the testing accuracy is : -0.29138808252349224\n",
      "\n",
      "\n",
      "At random state 88 the training accuracy is : 0.3666551235631502\n",
      "At random state 88 the testing accuracy is : 0.18720378412837113\n",
      "\n",
      "\n",
      "At random state 89 the training accuracy is : 0.33478391537090624\n",
      "At random state 89 the testing accuracy is : 0.2922217873425623\n",
      "\n",
      "\n",
      "At random state 90 the training accuracy is : 0.34235425101492345\n",
      "At random state 90 the testing accuracy is : 0.2127651646332609\n",
      "\n",
      "\n",
      "At random state 91 the training accuracy is : 0.29284555101107135\n",
      "At random state 91 the testing accuracy is : 0.26466788501028804\n",
      "\n",
      "\n",
      "At random state 92 the training accuracy is : 0.28261072319619507\n",
      "At random state 92 the testing accuracy is : 0.4583713123961577\n",
      "\n",
      "\n",
      "At random state 93 the training accuracy is : 0.3118639073836037\n",
      "At random state 93 the testing accuracy is : 0.4018076977014515\n",
      "\n",
      "\n",
      "At random state 94 the training accuracy is : 0.33103909183804114\n",
      "At random state 94 the testing accuracy is : 0.32597021685227723\n",
      "\n",
      "\n",
      "At random state 95 the training accuracy is : 0.29312527970169366\n",
      "At random state 95 the testing accuracy is : 0.44211635198328736\n",
      "\n",
      "\n",
      "At random state 96 the training accuracy is : 0.33214262122300175\n",
      "At random state 96 the testing accuracy is : 0.26143817145878256\n",
      "\n",
      "\n",
      "At random state 97 the training accuracy is : 0.3616790798066156\n",
      "At random state 97 the testing accuracy is : 0.21706431384612046\n",
      "\n",
      "\n",
      "At random state 98 the training accuracy is : 0.31576472025702507\n",
      "At random state 98 the testing accuracy is : 0.37423487585622617\n",
      "\n",
      "\n",
      "At random state 99 the training accuracy is : 0.32116127429484187\n",
      "At random state 99 the testing accuracy is : 0.34266674941447983\n",
      "\n",
      "\n"
     ]
    }
   ],
   "source": [
    "for i in range(0,100):\n",
    "    features_train,features_test,target_train,target_test = train_test_split(feature,target,test_size = 0.2,random_state = i)\n",
    "    lr.fit(features_train,target_train)\n",
    "    pred_train = lr.predict(features_train)\n",
    "    pred_test = lr.predict(features_test)\n",
    "    print(\"At random state \" + str(i) + \" the training accuracy is : \" + str(r2_score(target_train,pred_train)))\n",
    "    print(\"At random state \" + str(i) + \" the testing accuracy is : \" + str(r2_score(target_test,pred_test)))\n",
    "    print(\"\\n\")"
   ]
  },
  {
   "cell_type": "code",
   "execution_count": 815,
   "id": "5ff17220",
   "metadata": {},
   "outputs": [],
   "source": [
    "features_train,features_test,target_train,target_test = train_test_split(feature,target,test_size = 0.2,random_state = 6)"
   ]
  },
  {
   "cell_type": "code",
   "execution_count": 816,
   "id": "7600bf75",
   "metadata": {},
   "outputs": [
    {
     "data": {
      "text/plain": [
       "LinearRegression()"
      ]
     },
     "execution_count": 816,
     "metadata": {},
     "output_type": "execute_result"
    }
   ],
   "source": [
    "lr.fit(features_train,target_train)"
   ]
  },
  {
   "cell_type": "code",
   "execution_count": 817,
   "id": "79e41e0b",
   "metadata": {},
   "outputs": [],
   "source": [
    "pred_test = lr.predict(features_test)"
   ]
  },
  {
   "cell_type": "code",
   "execution_count": 818,
   "id": "94d52111",
   "metadata": {},
   "outputs": [
    {
     "name": "stdout",
     "output_type": "stream",
     "text": [
      "0.28999378792063435\n"
     ]
    }
   ],
   "source": [
    "print(r2_score(target_test,pred_test))"
   ]
  },
  {
   "cell_type": "markdown",
   "id": "722f1b8c",
   "metadata": {},
   "source": [
    "Cross Validation of model"
   ]
  },
  {
   "cell_type": "code",
   "execution_count": 819,
   "id": "7804be1c",
   "metadata": {},
   "outputs": [],
   "source": [
    "Train_accuracy = r2_score(target_train,pred_train)\n",
    "Test_accuracy = r2_score(target_test,pred_test)"
   ]
  },
  {
   "cell_type": "code",
   "execution_count": 820,
   "id": "ac83fc67",
   "metadata": {},
   "outputs": [
    {
     "name": "stdout",
     "output_type": "stream",
     "text": [
      "At cross fold 2 the cv score is 0.2817619868152846 and accuracy score for training is -0.3501312838104389 and accuracy score for testing is 0.28999378792063435\n",
      "\n",
      "\n",
      "At cross fold 3 the cv score is 0.3012351512964201 and accuracy score for training is -0.3501312838104389 and accuracy score for testing is 0.28999378792063435\n",
      "\n",
      "\n",
      "At cross fold 4 the cv score is 0.2910790887892109 and accuracy score for training is -0.3501312838104389 and accuracy score for testing is 0.28999378792063435\n",
      "\n",
      "\n",
      "At cross fold 5 the cv score is 0.28940793749620564 and accuracy score for training is -0.3501312838104389 and accuracy score for testing is 0.28999378792063435\n",
      "\n",
      "\n",
      "At cross fold 6 the cv score is 0.265611946957301 and accuracy score for training is -0.3501312838104389 and accuracy score for testing is 0.28999378792063435\n",
      "\n",
      "\n",
      "At cross fold 7 the cv score is 0.2546224095839363 and accuracy score for training is -0.3501312838104389 and accuracy score for testing is 0.28999378792063435\n",
      "\n",
      "\n",
      "At cross fold 8 the cv score is 0.2397394593745925 and accuracy score for training is -0.3501312838104389 and accuracy score for testing is 0.28999378792063435\n",
      "\n",
      "\n",
      "At cross fold 9 the cv score is 0.23806567242863247 and accuracy score for training is -0.3501312838104389 and accuracy score for testing is 0.28999378792063435\n",
      "\n",
      "\n"
     ]
    }
   ],
   "source": [
    "from sklearn.model_selection import cross_val_score\n",
    "\n",
    "for j in range(2,10):\n",
    "    cv_score = cross_val_score(lr,feature,target,cv=j)\n",
    "    cv_mean = cv_score.mean()\n",
    "    print(\"At cross fold \" + str(j) + \" the cv score is \" + str(cv_mean) + \" and accuracy score for training is \" + str(Train_accuracy) + \" and accuracy score for testing is \" + str(Test_accuracy))\n",
    "    print(\"\\n\")"
   ]
  },
  {
   "cell_type": "code",
   "execution_count": 821,
   "id": "a69328e3",
   "metadata": {},
   "outputs": [
    {
     "data": {
      "image/png": "[encoded data removed]",
      "text/plain": [
       "<Figure size 576x432 with 1 Axes>"
      ]
     },
     "metadata": {
      "needs_background": "light"
     },
     "output_type": "display_data"
    }
   ],
   "source": [
    "plt.figure(figsize=(8,6))\n",
    "plt.scatter(x=target_test,y=pred_test, color='r')\n",
    "plt.plot(target_test,target_test,color='b')\n",
    "plt.xlabel('Actual Sales')\n",
    "plt.ylabel('Predicted Sales')\n",
    "plt.title('Linear Regression')\n",
    "plt.show()"
   ]
  },
  {
   "cell_type": "markdown",
   "id": "6dbb259a",
   "metadata": {},
   "source": [
    "linear Regression gives not too good result. For better result we need hundreds of thousands of data points"
   ]
  },
  {
   "cell_type": "markdown",
   "id": "2dfb4c57",
   "metadata": {},
   "source": [
    " "
   ]
  },
  {
   "cell_type": "markdown",
   "id": "df3eeb47",
   "metadata": {},
   "source": [
    "Regularization:"
   ]
  },
  {
   "cell_type": "code",
   "execution_count": 822,
   "id": "03a1ed0a",
   "metadata": {},
   "outputs": [],
   "source": [
    "from sklearn.model_selection import GridSearchCV\n",
    "from sklearn.model_selection import cross_val_score\n",
    "import warnings\n",
    "warnings.filterwarnings('ignore')"
   ]
  },
  {
   "cell_type": "code",
   "execution_count": 823,
   "id": "a9dc9393",
   "metadata": {},
   "outputs": [
    {
     "name": "stdout",
     "output_type": "stream",
     "text": [
      "{'alpha': 10, 'random_state': 0}\n"
     ]
    }
   ],
   "source": [
    "from sklearn.linear_model import Lasso\n",
    "parameters = {'alpha':[0.0001,0.001,0.01,0.1,1,10],'random_state':list(range(0,10))}\n",
    "ls=Lasso()\n",
    "clf = GridSearchCV(ls,parameters)\n",
    "clf.fit(features_train,target_train)\n",
    "\n",
    "print(clf.best_params_)"
   ]
  },
  {
   "cell_type": "code",
   "execution_count": 824,
   "id": "c3208da4",
   "metadata": {},
   "outputs": [
    {
     "data": {
      "text/plain": [
       "0.3141986576346659"
      ]
     },
     "execution_count": 824,
     "metadata": {},
     "output_type": "execute_result"
    }
   ],
   "source": [
    "ls = Lasso(alpha = 1, random_state=0)\n",
    "ls.fit(features_train,target_train)\n",
    "ls.score(features_train,target_train)\n",
    "pred_ls = ls.predict(features_test)\n",
    "\n",
    "lss = r2_score(target_test,pred_ls)\n",
    "lss"
   ]
  },
  {
   "cell_type": "code",
   "execution_count": 825,
   "id": "b1b794b5",
   "metadata": {},
   "outputs": [
    {
     "data": {
      "text/plain": [
       "0.31117339160287605"
      ]
     },
     "execution_count": 825,
     "metadata": {},
     "output_type": "execute_result"
    }
   ],
   "source": [
    "cv_score = cross_val_score(ls,feature,target,cv=2)\n",
    "cv_mean =cv_score.mean()\n",
    "cv_mean"
   ]
  },
  {
   "cell_type": "markdown",
   "id": "cfb37a74",
   "metadata": {},
   "source": [
    "Ensemble technique:"
   ]
  },
  {
   "cell_type": "code",
   "execution_count": 826,
   "id": "a21d383f",
   "metadata": {},
   "outputs": [
    {
     "name": "stdout",
     "output_type": "stream",
     "text": [
      "{'criterion': 'mae', 'max_features': 'log2'}\n"
     ]
    }
   ],
   "source": [
    "from sklearn.model_selection import GridSearchCV\n",
    "from sklearn.ensemble import RandomForestRegressor\n",
    "\n",
    "parameters = {'criterion':['mse','mae'], 'max_features': [\"auto\",\"sqrt\",\"log2\"]}\n",
    "rf = RandomForestRegressor()\n",
    "clf = GridSearchCV(rf,parameters)\n",
    "clf.fit(features_train,target_train)\n",
    "\n",
    "print(clf.best_params_)"
   ]
  },
  {
   "cell_type": "code",
   "execution_count": 827,
   "id": "91ed6ac5",
   "metadata": {},
   "outputs": [
    {
     "name": "stdout",
     "output_type": "stream",
     "text": [
      "R2 score:  36.67387482119789\n",
      "Cross Validation score:  31.117339160287607\n"
     ]
    }
   ],
   "source": [
    "rf = RandomForestRegressor(criterion = \"mae\", max_features = \"log2\")\n",
    "rf.fit(features_train,target_train)\n",
    "rf.score(features_train,target_train)\n",
    "pred_decision = rf.predict(features_test)\n",
    "\n",
    "rfs = r2_score(target_test,pred_decision)\n",
    "print('R2 score: ', rfs*100)\n",
    "\n",
    "rfscore = cross_val_score(ls,feature,target,cv=2)\n",
    "rfc =rfscore.mean()\n",
    "rfc\n",
    "print('Cross Validation score: ', rfc*100)"
   ]
  },
  {
   "cell_type": "markdown",
   "id": "88082184",
   "metadata": {},
   "source": [
    "Conclusion : Reason why we are getting so low scores are due to lack of sufficient data"
   ]
  }
 ],
 "metadata": {
  "kernelspec": {
   "display_name": "Python 3 (ipykernel)",
   "language": "python",
   "name": "python3"
  },
  "language_info": {
   "codemirror_mode": {
    "name": "ipython",
    "version": 3
   },
   "file_extension": ".py",
   "mimetype": "text/x-python",
   "name": "python",
   "nbconvert_exporter": "python",
   "pygments_lexer": "ipython3",
   "version": "3.7.11"
  }
 },
 "nbformat": 4,
 "nbformat_minor": 5
}
