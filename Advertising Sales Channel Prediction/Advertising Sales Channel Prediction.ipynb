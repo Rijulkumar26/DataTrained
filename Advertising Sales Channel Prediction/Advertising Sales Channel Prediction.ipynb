{
 "cells": [
  {
   "cell_type": "code",
   "execution_count": 626,
   "id": "80e038c9",
   "metadata": {},
   "outputs": [],
   "source": [
    "import numpy as np\n",
    "import pandas as pd\n",
    "import seaborn as sns\n",
    "import matplotlib.pyplot as plt\n",
    "\n",
    "import warnings\n",
    "warnings.filterwarnings('ignore')"
   ]
  },
  {
   "cell_type": "code",
   "execution_count": 627,
   "id": "d584d91d",
   "metadata": {},
   "outputs": [],
   "source": [
    "df = pd.read_csv('Advertising.csv')"
   ]
  },
  {
   "cell_type": "code",
   "execution_count": 628,
   "id": "0001bcb5",
   "metadata": {},
   "outputs": [
    {
     "data": {
      "text/html": [
       "<div>\n",
       "<style scoped>\n",
       "    .dataframe tbody tr th:only-of-type {\n",
       "        vertical-align: middle;\n",
       "    }\n",
       "\n",
       "    .dataframe tbody tr th {\n",
       "        vertical-align: top;\n",
       "    }\n",
       "\n",
       "    .dataframe thead th {\n",
       "        text-align: right;\n",
       "    }\n",
       "</style>\n",
       "<table border=\"1\" class=\"dataframe\">\n",
       "  <thead>\n",
       "    <tr style=\"text-align: right;\">\n",
       "      <th></th>\n",
       "      <th>Unnamed: 0</th>\n",
       "      <th>TV</th>\n",
       "      <th>radio</th>\n",
       "      <th>newspaper</th>\n",
       "      <th>sales</th>\n",
       "    </tr>\n",
       "  </thead>\n",
       "  <tbody>\n",
       "    <tr>\n",
       "      <th>0</th>\n",
       "      <td>1</td>\n",
       "      <td>230.1</td>\n",
       "      <td>37.8</td>\n",
       "      <td>69.2</td>\n",
       "      <td>22.1</td>\n",
       "    </tr>\n",
       "    <tr>\n",
       "      <th>1</th>\n",
       "      <td>2</td>\n",
       "      <td>44.5</td>\n",
       "      <td>39.3</td>\n",
       "      <td>45.1</td>\n",
       "      <td>10.4</td>\n",
       "    </tr>\n",
       "    <tr>\n",
       "      <th>2</th>\n",
       "      <td>3</td>\n",
       "      <td>17.2</td>\n",
       "      <td>45.9</td>\n",
       "      <td>69.3</td>\n",
       "      <td>9.3</td>\n",
       "    </tr>\n",
       "    <tr>\n",
       "      <th>3</th>\n",
       "      <td>4</td>\n",
       "      <td>151.5</td>\n",
       "      <td>41.3</td>\n",
       "      <td>58.5</td>\n",
       "      <td>18.5</td>\n",
       "    </tr>\n",
       "    <tr>\n",
       "      <th>4</th>\n",
       "      <td>5</td>\n",
       "      <td>180.8</td>\n",
       "      <td>10.8</td>\n",
       "      <td>58.4</td>\n",
       "      <td>12.9</td>\n",
       "    </tr>\n",
       "    <tr>\n",
       "      <th>...</th>\n",
       "      <td>...</td>\n",
       "      <td>...</td>\n",
       "      <td>...</td>\n",
       "      <td>...</td>\n",
       "      <td>...</td>\n",
       "    </tr>\n",
       "    <tr>\n",
       "      <th>195</th>\n",
       "      <td>196</td>\n",
       "      <td>38.2</td>\n",
       "      <td>3.7</td>\n",
       "      <td>13.8</td>\n",
       "      <td>7.6</td>\n",
       "    </tr>\n",
       "    <tr>\n",
       "      <th>196</th>\n",
       "      <td>197</td>\n",
       "      <td>94.2</td>\n",
       "      <td>4.9</td>\n",
       "      <td>8.1</td>\n",
       "      <td>9.7</td>\n",
       "    </tr>\n",
       "    <tr>\n",
       "      <th>197</th>\n",
       "      <td>198</td>\n",
       "      <td>177.0</td>\n",
       "      <td>9.3</td>\n",
       "      <td>6.4</td>\n",
       "      <td>12.8</td>\n",
       "    </tr>\n",
       "    <tr>\n",
       "      <th>198</th>\n",
       "      <td>199</td>\n",
       "      <td>283.6</td>\n",
       "      <td>42.0</td>\n",
       "      <td>66.2</td>\n",
       "      <td>25.5</td>\n",
       "    </tr>\n",
       "    <tr>\n",
       "      <th>199</th>\n",
       "      <td>200</td>\n",
       "      <td>232.1</td>\n",
       "      <td>8.6</td>\n",
       "      <td>8.7</td>\n",
       "      <td>13.4</td>\n",
       "    </tr>\n",
       "  </tbody>\n",
       "</table>\n",
       "<p>200 rows × 5 columns</p>\n",
       "</div>"
      ],
      "text/plain": [
       "     Unnamed: 0     TV  radio  newspaper  sales\n",
       "0             1  230.1   37.8       69.2   22.1\n",
       "1             2   44.5   39.3       45.1   10.4\n",
       "2             3   17.2   45.9       69.3    9.3\n",
       "3             4  151.5   41.3       58.5   18.5\n",
       "4             5  180.8   10.8       58.4   12.9\n",
       "..          ...    ...    ...        ...    ...\n",
       "195         196   38.2    3.7       13.8    7.6\n",
       "196         197   94.2    4.9        8.1    9.7\n",
       "197         198  177.0    9.3        6.4   12.8\n",
       "198         199  283.6   42.0       66.2   25.5\n",
       "199         200  232.1    8.6        8.7   13.4\n",
       "\n",
       "[200 rows x 5 columns]"
      ]
     },
     "execution_count": 628,
     "metadata": {},
     "output_type": "execute_result"
    }
   ],
   "source": [
    "df"
   ]
  },
  {
   "cell_type": "code",
   "execution_count": 629,
   "id": "43a668c3",
   "metadata": {},
   "outputs": [],
   "source": [
    "df.rename(columns = {'Unnamed: 0':'Index'},inplace=True)"
   ]
  },
  {
   "cell_type": "code",
   "execution_count": 630,
   "id": "762f36d9",
   "metadata": {},
   "outputs": [],
   "source": [
    "df.set_index('Index',inplace=True)"
   ]
  },
  {
   "cell_type": "code",
   "execution_count": 631,
   "id": "8d3962a4",
   "metadata": {},
   "outputs": [
    {
     "data": {
      "text/html": [
       "<div>\n",
       "<style scoped>\n",
       "    .dataframe tbody tr th:only-of-type {\n",
       "        vertical-align: middle;\n",
       "    }\n",
       "\n",
       "    .dataframe tbody tr th {\n",
       "        vertical-align: top;\n",
       "    }\n",
       "\n",
       "    .dataframe thead th {\n",
       "        text-align: right;\n",
       "    }\n",
       "</style>\n",
       "<table border=\"1\" class=\"dataframe\">\n",
       "  <thead>\n",
       "    <tr style=\"text-align: right;\">\n",
       "      <th></th>\n",
       "      <th>TV</th>\n",
       "      <th>radio</th>\n",
       "      <th>newspaper</th>\n",
       "      <th>sales</th>\n",
       "    </tr>\n",
       "    <tr>\n",
       "      <th>Index</th>\n",
       "      <th></th>\n",
       "      <th></th>\n",
       "      <th></th>\n",
       "      <th></th>\n",
       "    </tr>\n",
       "  </thead>\n",
       "  <tbody>\n",
       "    <tr>\n",
       "      <th>1</th>\n",
       "      <td>230.1</td>\n",
       "      <td>37.8</td>\n",
       "      <td>69.2</td>\n",
       "      <td>22.1</td>\n",
       "    </tr>\n",
       "    <tr>\n",
       "      <th>2</th>\n",
       "      <td>44.5</td>\n",
       "      <td>39.3</td>\n",
       "      <td>45.1</td>\n",
       "      <td>10.4</td>\n",
       "    </tr>\n",
       "    <tr>\n",
       "      <th>3</th>\n",
       "      <td>17.2</td>\n",
       "      <td>45.9</td>\n",
       "      <td>69.3</td>\n",
       "      <td>9.3</td>\n",
       "    </tr>\n",
       "    <tr>\n",
       "      <th>4</th>\n",
       "      <td>151.5</td>\n",
       "      <td>41.3</td>\n",
       "      <td>58.5</td>\n",
       "      <td>18.5</td>\n",
       "    </tr>\n",
       "    <tr>\n",
       "      <th>5</th>\n",
       "      <td>180.8</td>\n",
       "      <td>10.8</td>\n",
       "      <td>58.4</td>\n",
       "      <td>12.9</td>\n",
       "    </tr>\n",
       "    <tr>\n",
       "      <th>...</th>\n",
       "      <td>...</td>\n",
       "      <td>...</td>\n",
       "      <td>...</td>\n",
       "      <td>...</td>\n",
       "    </tr>\n",
       "    <tr>\n",
       "      <th>196</th>\n",
       "      <td>38.2</td>\n",
       "      <td>3.7</td>\n",
       "      <td>13.8</td>\n",
       "      <td>7.6</td>\n",
       "    </tr>\n",
       "    <tr>\n",
       "      <th>197</th>\n",
       "      <td>94.2</td>\n",
       "      <td>4.9</td>\n",
       "      <td>8.1</td>\n",
       "      <td>9.7</td>\n",
       "    </tr>\n",
       "    <tr>\n",
       "      <th>198</th>\n",
       "      <td>177.0</td>\n",
       "      <td>9.3</td>\n",
       "      <td>6.4</td>\n",
       "      <td>12.8</td>\n",
       "    </tr>\n",
       "    <tr>\n",
       "      <th>199</th>\n",
       "      <td>283.6</td>\n",
       "      <td>42.0</td>\n",
       "      <td>66.2</td>\n",
       "      <td>25.5</td>\n",
       "    </tr>\n",
       "    <tr>\n",
       "      <th>200</th>\n",
       "      <td>232.1</td>\n",
       "      <td>8.6</td>\n",
       "      <td>8.7</td>\n",
       "      <td>13.4</td>\n",
       "    </tr>\n",
       "  </tbody>\n",
       "</table>\n",
       "<p>200 rows × 4 columns</p>\n",
       "</div>"
      ],
      "text/plain": [
       "          TV  radio  newspaper  sales\n",
       "Index                                \n",
       "1      230.1   37.8       69.2   22.1\n",
       "2       44.5   39.3       45.1   10.4\n",
       "3       17.2   45.9       69.3    9.3\n",
       "4      151.5   41.3       58.5   18.5\n",
       "5      180.8   10.8       58.4   12.9\n",
       "...      ...    ...        ...    ...\n",
       "196     38.2    3.7       13.8    7.6\n",
       "197     94.2    4.9        8.1    9.7\n",
       "198    177.0    9.3        6.4   12.8\n",
       "199    283.6   42.0       66.2   25.5\n",
       "200    232.1    8.6        8.7   13.4\n",
       "\n",
       "[200 rows x 4 columns]"
      ]
     },
     "execution_count": 631,
     "metadata": {},
     "output_type": "execute_result"
    }
   ],
   "source": [
    "df"
   ]
  },
  {
   "cell_type": "code",
   "execution_count": 632,
   "id": "2487b8b3",
   "metadata": {},
   "outputs": [
    {
     "data": {
      "text/html": [
       "<div>\n",
       "<style scoped>\n",
       "    .dataframe tbody tr th:only-of-type {\n",
       "        vertical-align: middle;\n",
       "    }\n",
       "\n",
       "    .dataframe tbody tr th {\n",
       "        vertical-align: top;\n",
       "    }\n",
       "\n",
       "    .dataframe thead th {\n",
       "        text-align: right;\n",
       "    }\n",
       "</style>\n",
       "<table border=\"1\" class=\"dataframe\">\n",
       "  <thead>\n",
       "    <tr style=\"text-align: right;\">\n",
       "      <th></th>\n",
       "      <th>TV</th>\n",
       "      <th>radio</th>\n",
       "      <th>newspaper</th>\n",
       "      <th>sales</th>\n",
       "    </tr>\n",
       "  </thead>\n",
       "  <tbody>\n",
       "    <tr>\n",
       "      <th>count</th>\n",
       "      <td>200.000000</td>\n",
       "      <td>200.000000</td>\n",
       "      <td>200.000000</td>\n",
       "      <td>200.000000</td>\n",
       "    </tr>\n",
       "    <tr>\n",
       "      <th>mean</th>\n",
       "      <td>147.042500</td>\n",
       "      <td>23.264000</td>\n",
       "      <td>30.554000</td>\n",
       "      <td>14.022500</td>\n",
       "    </tr>\n",
       "    <tr>\n",
       "      <th>std</th>\n",
       "      <td>85.854236</td>\n",
       "      <td>14.846809</td>\n",
       "      <td>21.778621</td>\n",
       "      <td>5.217457</td>\n",
       "    </tr>\n",
       "    <tr>\n",
       "      <th>min</th>\n",
       "      <td>0.700000</td>\n",
       "      <td>0.000000</td>\n",
       "      <td>0.300000</td>\n",
       "      <td>1.600000</td>\n",
       "    </tr>\n",
       "    <tr>\n",
       "      <th>25%</th>\n",
       "      <td>74.375000</td>\n",
       "      <td>9.975000</td>\n",
       "      <td>12.750000</td>\n",
       "      <td>10.375000</td>\n",
       "    </tr>\n",
       "    <tr>\n",
       "      <th>50%</th>\n",
       "      <td>149.750000</td>\n",
       "      <td>22.900000</td>\n",
       "      <td>25.750000</td>\n",
       "      <td>12.900000</td>\n",
       "    </tr>\n",
       "    <tr>\n",
       "      <th>75%</th>\n",
       "      <td>218.825000</td>\n",
       "      <td>36.525000</td>\n",
       "      <td>45.100000</td>\n",
       "      <td>17.400000</td>\n",
       "    </tr>\n",
       "    <tr>\n",
       "      <th>max</th>\n",
       "      <td>296.400000</td>\n",
       "      <td>49.600000</td>\n",
       "      <td>114.000000</td>\n",
       "      <td>27.000000</td>\n",
       "    </tr>\n",
       "  </tbody>\n",
       "</table>\n",
       "</div>"
      ],
      "text/plain": [
       "               TV       radio   newspaper       sales\n",
       "count  200.000000  200.000000  200.000000  200.000000\n",
       "mean   147.042500   23.264000   30.554000   14.022500\n",
       "std     85.854236   14.846809   21.778621    5.217457\n",
       "min      0.700000    0.000000    0.300000    1.600000\n",
       "25%     74.375000    9.975000   12.750000   10.375000\n",
       "50%    149.750000   22.900000   25.750000   12.900000\n",
       "75%    218.825000   36.525000   45.100000   17.400000\n",
       "max    296.400000   49.600000  114.000000   27.000000"
      ]
     },
     "execution_count": 632,
     "metadata": {},
     "output_type": "execute_result"
    }
   ],
   "source": [
    "#Statistical summary\n",
    "df.describe()"
   ]
  },
  {
   "cell_type": "code",
   "execution_count": 633,
   "id": "53d94616",
   "metadata": {},
   "outputs": [
    {
     "data": {
      "text/plain": [
       "(200, 4)"
      ]
     },
     "execution_count": 633,
     "metadata": {},
     "output_type": "execute_result"
    }
   ],
   "source": [
    "df.shape"
   ]
  },
  {
   "cell_type": "code",
   "execution_count": 634,
   "id": "171ea71c",
   "metadata": {},
   "outputs": [
    {
     "data": {
      "text/plain": [
       "TV           float64\n",
       "radio        float64\n",
       "newspaper    float64\n",
       "sales        float64\n",
       "dtype: object"
      ]
     },
     "execution_count": 634,
     "metadata": {},
     "output_type": "execute_result"
    }
   ],
   "source": [
    "#Column Data type\n",
    "df.dtypes"
   ]
  },
  {
   "cell_type": "code",
   "execution_count": 635,
   "id": "97db0405",
   "metadata": {
    "scrolled": true
   },
   "outputs": [
    {
     "data": {
      "image/png": "[encoded data removed]",
      "text/plain": [
       "<Figure size 432x288 with 2 Axes>"
      ]
     },
     "metadata": {
      "needs_background": "light"
     },
     "output_type": "display_data"
    }
   ],
   "source": [
    "#Checking null values using heatmap\n",
    "sns.heatmap(df.isnull())\n",
    "plt.show()"
   ]
  },
  {
   "cell_type": "code",
   "execution_count": 636,
   "id": "0ece00fc",
   "metadata": {},
   "outputs": [
    {
     "data": {
      "text/plain": [
       "0"
      ]
     },
     "execution_count": 636,
     "metadata": {},
     "output_type": "execute_result"
    }
   ],
   "source": [
    "#Total number of null values in complete dataset\n",
    "df.isnull().sum().sum()"
   ]
  },
  {
   "cell_type": "code",
   "execution_count": 637,
   "id": "223a9ccf",
   "metadata": {},
   "outputs": [
    {
     "data": {
      "text/plain": [
       "TV           0\n",
       "radio        0\n",
       "newspaper    0\n",
       "sales        0\n",
       "dtype: int64"
      ]
     },
     "execution_count": 637,
     "metadata": {},
     "output_type": "execute_result"
    }
   ],
   "source": [
    "#number of null values in each column\n",
    "df.isnull().sum()"
   ]
  },
  {
   "cell_type": "code",
   "execution_count": 638,
   "id": "f3f06360",
   "metadata": {},
   "outputs": [],
   "source": [
    "#Making dataframe of Continous data\n",
    "df_visualisation_continous = df[['TV','radio','newspaper','sales']].copy()"
   ]
  },
  {
   "cell_type": "code",
   "execution_count": 639,
   "id": "ca790635",
   "metadata": {},
   "outputs": [
    {
     "data": {
      "text/plain": [
       "<AxesSubplot:xlabel='TV', ylabel='Density'>"
      ]
     },
     "execution_count": 639,
     "metadata": {},
     "output_type": "execute_result"
    },
    {
     "data": {
      "image/png": "[encoded data removed]",
      "text/plain": [
       "<Figure size 432x288 with 1 Axes>"
      ]
     },
     "metadata": {
      "needs_background": "light"
     },
     "output_type": "display_data"
    }
   ],
   "source": [
    "#Visualisation of TV data\n",
    "sns.distplot(df_visualisation_continous['TV'])"
   ]
  },
  {
   "cell_type": "code",
   "execution_count": 640,
   "id": "dbbf9380",
   "metadata": {},
   "outputs": [
    {
     "data": {
      "text/plain": [
       "<AxesSubplot:xlabel='radio', ylabel='Density'>"
      ]
     },
     "execution_count": 640,
     "metadata": {},
     "output_type": "execute_result"
    },
    {
     "data": {
      "image/png": "[encoded data removed]",
      "text/plain": [
       "<Figure size 432x288 with 1 Axes>"
      ]
     },
     "metadata": {
      "needs_background": "light"
     },
     "output_type": "display_data"
    }
   ],
   "source": [
    "#Visualisation of Radio data\n",
    "sns.distplot(df_visualisation_continous['radio'])"
   ]
  },
  {
   "cell_type": "code",
   "execution_count": 641,
   "id": "ace01cdd",
   "metadata": {},
   "outputs": [
    {
     "data": {
      "text/plain": [
       "<AxesSubplot:xlabel='newspaper', ylabel='Density'>"
      ]
     },
     "execution_count": 641,
     "metadata": {},
     "output_type": "execute_result"
    },
    {
     "data": {
      "image/png": "[encoded data removed]",
      "text/plain": [
       "<Figure size 432x288 with 1 Axes>"
      ]
     },
     "metadata": {
      "needs_background": "light"
     },
     "output_type": "display_data"
    }
   ],
   "source": [
    "#Visualisation of Newspaper data\n",
    "sns.distplot(df_visualisation_continous['newspaper'])"
   ]
  },
  {
   "cell_type": "code",
   "execution_count": 642,
   "id": "d9f946bd",
   "metadata": {},
   "outputs": [
    {
     "data": {
      "text/plain": [
       "<AxesSubplot:xlabel='sales', ylabel='Density'>"
      ]
     },
     "execution_count": 642,
     "metadata": {},
     "output_type": "execute_result"
    },
    {
     "data": {
      "image/png": "[encoded data removed]",
      "text/plain": [
       "<Figure size 432x288 with 1 Axes>"
      ]
     },
     "metadata": {
      "needs_background": "light"
     },
     "output_type": "display_data"
    }
   ],
   "source": [
    "#Visualisation of sales data\n",
    "sns.distplot(df_visualisation_continous['sales'])"
   ]
  },
  {
   "cell_type": "markdown",
   "id": "d3f7eb6a",
   "metadata": {},
   "source": [
    "Visualisation is completed"
   ]
  },
  {
   "cell_type": "markdown",
   "id": "d5c960a7",
   "metadata": {},
   "source": [
    "No use of Encoding of Dataframe(Converting String to numeric) because already all are numeric"
   ]
  },
  {
   "cell_type": "code",
   "execution_count": 643,
   "id": "805dbb99",
   "metadata": {
    "scrolled": true
   },
   "outputs": [
    {
     "data": {
      "text/plain": [
       "<AxesSubplot:>"
      ]
     },
     "execution_count": 643,
     "metadata": {},
     "output_type": "execute_result"
    },
    {
     "data": {
      "image/png": "[encoded data removed]",
      "text/plain": [
       "<Figure size 1584x504 with 2 Axes>"
      ]
     },
     "metadata": {
      "needs_background": "light"
     },
     "output_type": "display_data"
    }
   ],
   "source": [
    "plt.figure(figsize = (22,7))\n",
    "sns.heatmap(df.describe(),annot = True, linewidths=0.1)"
   ]
  },
  {
   "cell_type": "code",
   "execution_count": 644,
   "id": "c84d7d6d",
   "metadata": {},
   "outputs": [
    {
     "data": {
      "text/html": [
       "<div>\n",
       "<style scoped>\n",
       "    .dataframe tbody tr th:only-of-type {\n",
       "        vertical-align: middle;\n",
       "    }\n",
       "\n",
       "    .dataframe tbody tr th {\n",
       "        vertical-align: top;\n",
       "    }\n",
       "\n",
       "    .dataframe thead th {\n",
       "        text-align: right;\n",
       "    }\n",
       "</style>\n",
       "<table border=\"1\" class=\"dataframe\">\n",
       "  <thead>\n",
       "    <tr style=\"text-align: right;\">\n",
       "      <th></th>\n",
       "      <th>TV</th>\n",
       "      <th>radio</th>\n",
       "      <th>newspaper</th>\n",
       "      <th>sales</th>\n",
       "    </tr>\n",
       "  </thead>\n",
       "  <tbody>\n",
       "    <tr>\n",
       "      <th>TV</th>\n",
       "      <td>1.000000</td>\n",
       "      <td>0.054809</td>\n",
       "      <td>0.056648</td>\n",
       "      <td>0.782224</td>\n",
       "    </tr>\n",
       "    <tr>\n",
       "      <th>radio</th>\n",
       "      <td>0.054809</td>\n",
       "      <td>1.000000</td>\n",
       "      <td>0.354104</td>\n",
       "      <td>0.576223</td>\n",
       "    </tr>\n",
       "    <tr>\n",
       "      <th>newspaper</th>\n",
       "      <td>0.056648</td>\n",
       "      <td>0.354104</td>\n",
       "      <td>1.000000</td>\n",
       "      <td>0.228299</td>\n",
       "    </tr>\n",
       "    <tr>\n",
       "      <th>sales</th>\n",
       "      <td>0.782224</td>\n",
       "      <td>0.576223</td>\n",
       "      <td>0.228299</td>\n",
       "      <td>1.000000</td>\n",
       "    </tr>\n",
       "  </tbody>\n",
       "</table>\n",
       "</div>"
      ],
      "text/plain": [
       "                 TV     radio  newspaper     sales\n",
       "TV         1.000000  0.054809   0.056648  0.782224\n",
       "radio      0.054809  1.000000   0.354104  0.576223\n",
       "newspaper  0.056648  0.354104   1.000000  0.228299\n",
       "sales      0.782224  0.576223   0.228299  1.000000"
      ]
     },
     "execution_count": 644,
     "metadata": {},
     "output_type": "execute_result"
    }
   ],
   "source": [
    "#Correlation of Columns with target column\n",
    "df.corr()"
   ]
  },
  {
   "cell_type": "code",
   "execution_count": 645,
   "id": "345c070d",
   "metadata": {},
   "outputs": [
    {
     "data": {
      "text/plain": [
       "<AxesSubplot:>"
      ]
     },
     "execution_count": 645,
     "metadata": {},
     "output_type": "execute_result"
    },
    {
     "data": {
      "image/png": "[encoded data removed]",
      "text/plain": [
       "<Figure size 1584x504 with 2 Axes>"
      ]
     },
     "metadata": {
      "needs_background": "light"
     },
     "output_type": "display_data"
    }
   ],
   "source": [
    "#Correlation of Columns with target column using heatmap\n",
    "plt.figure(figsize = (22,7))\n",
    "sns.heatmap(df.corr(),annot = True, linewidths=0.1)"
   ]
  },
  {
   "cell_type": "code",
   "execution_count": 573,
   "id": "03cadf80",
   "metadata": {},
   "outputs": [],
   "source": [
    "#Checking columns which appear to be highly correlated with target columns"
   ]
  },
  {
   "cell_type": "code",
   "execution_count": 646,
   "id": "26a9f4ab",
   "metadata": {},
   "outputs": [
    {
     "data": {
      "image/png": "[encoded data removed]",
      "text/plain": [
       "<Figure size 1584x504 with 1 Axes>"
      ]
     },
     "metadata": {
      "needs_background": "light"
     },
     "output_type": "display_data"
    }
   ],
   "source": [
    "plt.figure(figsize=(22,7))\n",
    "df.corr()['sales'].sort_values(ascending = False).drop(['sales']).plot(kind='bar',fontsize=14)\n",
    "plt.xlabel('Feature',fontsize=14)\n",
    "plt.ylabel('Column with target names',fontsize=14)\n",
    "plt.title('Correlation',fontsize=20)\n",
    "plt.show()"
   ]
  },
  {
   "cell_type": "code",
   "execution_count": 648,
   "id": "8c21ab1c",
   "metadata": {},
   "outputs": [
    {
     "data": {
      "image/png": "[encoded data removed]",
      "text/plain": [
       "<Figure size 1584x504 with 1 Axes>"
      ]
     },
     "metadata": {
      "needs_background": "light"
     },
     "output_type": "display_data"
    }
   ],
   "source": [
    "#Checking correlation between TV and sales\n",
    "plt.figure(figsize=(22,7))\n",
    "plt.scatter(df.TV,df.sales)\n",
    "plt.show()"
   ]
  },
  {
   "cell_type": "code",
   "execution_count": 650,
   "id": "476e172a",
   "metadata": {},
   "outputs": [
    {
     "name": "stdout",
     "output_type": "stream",
     "text": [
      "[[7370.94989322  350.39019472]\n",
      " [ 350.39019472   27.22185302]]\n"
     ]
    }
   ],
   "source": [
    "# calculate covariance matrix between TV and sales\n",
    "covariance = np.cov(df.TV, df.sales)\n",
    "print(covariance)"
   ]
  },
  {
   "cell_type": "markdown",
   "id": "a91a07b0",
   "metadata": {},
   "source": [
    "The covariance between the two variables is 350.39 . We can see that variables change in the same direction."
   ]
  },
  {
   "cell_type": "code",
   "execution_count": 651,
   "id": "6af1f7cb",
   "metadata": {},
   "outputs": [
    {
     "data": {
      "text/plain": [
       "0.7822244248616064"
      ]
     },
     "execution_count": 651,
     "metadata": {},
     "output_type": "execute_result"
    }
   ],
   "source": [
    "#Using pearson's correlation\n",
    "from scipy.stats import pearsonr\n",
    "corr, _ = pearsonr(df.TV, df.sales)\n",
    "corr"
   ]
  },
  {
   "cell_type": "code",
   "execution_count": 652,
   "id": "342f8766",
   "metadata": {},
   "outputs": [],
   "source": [
    "#We need to drop TV as it is highly correlated to target data and also has dual nodes in distribution plot\n",
    "df = df.drop(\"TV\", axis=1)"
   ]
  },
  {
   "cell_type": "code",
   "execution_count": 654,
   "id": "a3014b30",
   "metadata": {},
   "outputs": [
    {
     "data": {
      "text/html": [
       "<div>\n",
       "<style scoped>\n",
       "    .dataframe tbody tr th:only-of-type {\n",
       "        vertical-align: middle;\n",
       "    }\n",
       "\n",
       "    .dataframe tbody tr th {\n",
       "        vertical-align: top;\n",
       "    }\n",
       "\n",
       "    .dataframe thead th {\n",
       "        text-align: right;\n",
       "    }\n",
       "</style>\n",
       "<table border=\"1\" class=\"dataframe\">\n",
       "  <thead>\n",
       "    <tr style=\"text-align: right;\">\n",
       "      <th></th>\n",
       "      <th>radio</th>\n",
       "      <th>newspaper</th>\n",
       "      <th>sales</th>\n",
       "    </tr>\n",
       "    <tr>\n",
       "      <th>Index</th>\n",
       "      <th></th>\n",
       "      <th></th>\n",
       "      <th></th>\n",
       "    </tr>\n",
       "  </thead>\n",
       "  <tbody>\n",
       "    <tr>\n",
       "      <th>1</th>\n",
       "      <td>37.8</td>\n",
       "      <td>69.2</td>\n",
       "      <td>22.1</td>\n",
       "    </tr>\n",
       "    <tr>\n",
       "      <th>2</th>\n",
       "      <td>39.3</td>\n",
       "      <td>45.1</td>\n",
       "      <td>10.4</td>\n",
       "    </tr>\n",
       "    <tr>\n",
       "      <th>3</th>\n",
       "      <td>45.9</td>\n",
       "      <td>69.3</td>\n",
       "      <td>9.3</td>\n",
       "    </tr>\n",
       "    <tr>\n",
       "      <th>4</th>\n",
       "      <td>41.3</td>\n",
       "      <td>58.5</td>\n",
       "      <td>18.5</td>\n",
       "    </tr>\n",
       "    <tr>\n",
       "      <th>5</th>\n",
       "      <td>10.8</td>\n",
       "      <td>58.4</td>\n",
       "      <td>12.9</td>\n",
       "    </tr>\n",
       "    <tr>\n",
       "      <th>...</th>\n",
       "      <td>...</td>\n",
       "      <td>...</td>\n",
       "      <td>...</td>\n",
       "    </tr>\n",
       "    <tr>\n",
       "      <th>196</th>\n",
       "      <td>3.7</td>\n",
       "      <td>13.8</td>\n",
       "      <td>7.6</td>\n",
       "    </tr>\n",
       "    <tr>\n",
       "      <th>197</th>\n",
       "      <td>4.9</td>\n",
       "      <td>8.1</td>\n",
       "      <td>9.7</td>\n",
       "    </tr>\n",
       "    <tr>\n",
       "      <th>198</th>\n",
       "      <td>9.3</td>\n",
       "      <td>6.4</td>\n",
       "      <td>12.8</td>\n",
       "    </tr>\n",
       "    <tr>\n",
       "      <th>199</th>\n",
       "      <td>42.0</td>\n",
       "      <td>66.2</td>\n",
       "      <td>25.5</td>\n",
       "    </tr>\n",
       "    <tr>\n",
       "      <th>200</th>\n",
       "      <td>8.6</td>\n",
       "      <td>8.7</td>\n",
       "      <td>13.4</td>\n",
       "    </tr>\n",
       "  </tbody>\n",
       "</table>\n",
       "<p>200 rows × 3 columns</p>\n",
       "</div>"
      ],
      "text/plain": [
       "       radio  newspaper  sales\n",
       "Index                         \n",
       "1       37.8       69.2   22.1\n",
       "2       39.3       45.1   10.4\n",
       "3       45.9       69.3    9.3\n",
       "4       41.3       58.5   18.5\n",
       "5       10.8       58.4   12.9\n",
       "...      ...        ...    ...\n",
       "196      3.7       13.8    7.6\n",
       "197      4.9        8.1    9.7\n",
       "198      9.3        6.4   12.8\n",
       "199     42.0       66.2   25.5\n",
       "200      8.6        8.7   13.4\n",
       "\n",
       "[200 rows x 3 columns]"
      ]
     },
     "execution_count": 654,
     "metadata": {},
     "output_type": "execute_result"
    }
   ],
   "source": [
    "df"
   ]
  },
  {
   "cell_type": "code",
   "execution_count": 655,
   "id": "c11d69b0",
   "metadata": {},
   "outputs": [
    {
     "data": {
      "image/png": "[encoded data removed]",
      "text/plain": [
       "<Figure size 1584x504 with 1 Axes>"
      ]
     },
     "metadata": {
      "needs_background": "light"
     },
     "output_type": "display_data"
    }
   ],
   "source": [
    "#Checking correlation between radio and sales\n",
    "plt.figure(figsize=(22,7))\n",
    "plt.scatter(df.radio,df.sales)\n",
    "plt.show()"
   ]
  },
  {
   "cell_type": "code",
   "execution_count": 656,
   "id": "c8069b7a",
   "metadata": {},
   "outputs": [
    {
     "data": {
      "text/plain": [
       "radio        0.094175\n",
       "newspaper    0.894720\n",
       "sales        0.407571\n",
       "dtype: float64"
      ]
     },
     "execution_count": 656,
     "metadata": {},
     "output_type": "execute_result"
    }
   ],
   "source": [
    "#Removing skewness\n",
    "df.skew()"
   ]
  },
  {
   "cell_type": "markdown",
   "id": "70d6ec7f",
   "metadata": {},
   "source": [
    "Acceptable skewness (-0.65,+0.65)"
   ]
  },
  {
   "cell_type": "code",
   "execution_count": 657,
   "id": "9ed3cd5d",
   "metadata": {},
   "outputs": [
    {
     "data": {
      "text/plain": [
       "radio        float64\n",
       "newspaper    float64\n",
       "sales        float64\n",
       "dtype: object"
      ]
     },
     "execution_count": 657,
     "metadata": {},
     "output_type": "execute_result"
    }
   ],
   "source": [
    "#Outlier check\n",
    "df.dtypes"
   ]
  },
  {
   "cell_type": "code",
   "execution_count": 659,
   "id": "d40e9811",
   "metadata": {},
   "outputs": [
    {
     "data": {
      "text/plain": [
       "<AxesSubplot:>"
      ]
     },
     "execution_count": 659,
     "metadata": {},
     "output_type": "execute_result"
    },
    {
     "data": {
      "image/png": "[encoded data removed]",
      "text/plain": [
       "<Figure size 432x288 with 1 Axes>"
      ]
     },
     "metadata": {
      "needs_background": "light"
     },
     "output_type": "display_data"
    }
   ],
   "source": [
    "#Age and fare were the only continous data types\n",
    "df['radio'].plot.box()"
   ]
  },
  {
   "cell_type": "code",
   "execution_count": 660,
   "id": "9e81b62e",
   "metadata": {},
   "outputs": [
    {
     "data": {
      "text/plain": [
       "<AxesSubplot:>"
      ]
     },
     "execution_count": 660,
     "metadata": {},
     "output_type": "execute_result"
    },
    {
     "data": {
      "image/png": "[encoded data removed]",
      "text/plain": [
       "<Figure size 432x288 with 1 Axes>"
      ]
     },
     "metadata": {
      "needs_background": "light"
     },
     "output_type": "display_data"
    }
   ],
   "source": [
    "df['newspaper'].plot.box()"
   ]
  },
  {
   "cell_type": "code",
   "execution_count": 661,
   "id": "1cfcaf1b",
   "metadata": {},
   "outputs": [
    {
     "data": {
      "text/plain": [
       "(200, 3)"
      ]
     },
     "execution_count": 661,
     "metadata": {},
     "output_type": "execute_result"
    }
   ],
   "source": [
    "#Outlier removal using z-score\n",
    "df.shape"
   ]
  },
  {
   "cell_type": "code",
   "execution_count": 662,
   "id": "624b2022",
   "metadata": {},
   "outputs": [
    {
     "data": {
      "text/plain": [
       "(array([ 16, 101]), array([1, 1]))"
      ]
     },
     "execution_count": 662,
     "metadata": {},
     "output_type": "execute_result"
    }
   ],
   "source": [
    "from scipy.stats import zscore\n",
    "\n",
    "z = np.abs(zscore(df))\n",
    "threshhold = 3\n",
    "np.where(z>3)"
   ]
  },
  {
   "cell_type": "code",
   "execution_count": 663,
   "id": "7b8ac187",
   "metadata": {},
   "outputs": [
    {
     "data": {
      "text/html": [
       "<div>\n",
       "<style scoped>\n",
       "    .dataframe tbody tr th:only-of-type {\n",
       "        vertical-align: middle;\n",
       "    }\n",
       "\n",
       "    .dataframe tbody tr th {\n",
       "        vertical-align: top;\n",
       "    }\n",
       "\n",
       "    .dataframe thead th {\n",
       "        text-align: right;\n",
       "    }\n",
       "</style>\n",
       "<table border=\"1\" class=\"dataframe\">\n",
       "  <thead>\n",
       "    <tr style=\"text-align: right;\">\n",
       "      <th></th>\n",
       "      <th>radio</th>\n",
       "      <th>newspaper</th>\n",
       "      <th>sales</th>\n",
       "    </tr>\n",
       "    <tr>\n",
       "      <th>Index</th>\n",
       "      <th></th>\n",
       "      <th></th>\n",
       "      <th></th>\n",
       "    </tr>\n",
       "  </thead>\n",
       "  <tbody>\n",
       "    <tr>\n",
       "      <th>1</th>\n",
       "      <td>37.8</td>\n",
       "      <td>69.2</td>\n",
       "      <td>22.1</td>\n",
       "    </tr>\n",
       "    <tr>\n",
       "      <th>2</th>\n",
       "      <td>39.3</td>\n",
       "      <td>45.1</td>\n",
       "      <td>10.4</td>\n",
       "    </tr>\n",
       "    <tr>\n",
       "      <th>3</th>\n",
       "      <td>45.9</td>\n",
       "      <td>69.3</td>\n",
       "      <td>9.3</td>\n",
       "    </tr>\n",
       "    <tr>\n",
       "      <th>4</th>\n",
       "      <td>41.3</td>\n",
       "      <td>58.5</td>\n",
       "      <td>18.5</td>\n",
       "    </tr>\n",
       "    <tr>\n",
       "      <th>5</th>\n",
       "      <td>10.8</td>\n",
       "      <td>58.4</td>\n",
       "      <td>12.9</td>\n",
       "    </tr>\n",
       "    <tr>\n",
       "      <th>...</th>\n",
       "      <td>...</td>\n",
       "      <td>...</td>\n",
       "      <td>...</td>\n",
       "    </tr>\n",
       "    <tr>\n",
       "      <th>196</th>\n",
       "      <td>3.7</td>\n",
       "      <td>13.8</td>\n",
       "      <td>7.6</td>\n",
       "    </tr>\n",
       "    <tr>\n",
       "      <th>197</th>\n",
       "      <td>4.9</td>\n",
       "      <td>8.1</td>\n",
       "      <td>9.7</td>\n",
       "    </tr>\n",
       "    <tr>\n",
       "      <th>198</th>\n",
       "      <td>9.3</td>\n",
       "      <td>6.4</td>\n",
       "      <td>12.8</td>\n",
       "    </tr>\n",
       "    <tr>\n",
       "      <th>199</th>\n",
       "      <td>42.0</td>\n",
       "      <td>66.2</td>\n",
       "      <td>25.5</td>\n",
       "    </tr>\n",
       "    <tr>\n",
       "      <th>200</th>\n",
       "      <td>8.6</td>\n",
       "      <td>8.7</td>\n",
       "      <td>13.4</td>\n",
       "    </tr>\n",
       "  </tbody>\n",
       "</table>\n",
       "<p>198 rows × 3 columns</p>\n",
       "</div>"
      ],
      "text/plain": [
       "       radio  newspaper  sales\n",
       "Index                         \n",
       "1       37.8       69.2   22.1\n",
       "2       39.3       45.1   10.4\n",
       "3       45.9       69.3    9.3\n",
       "4       41.3       58.5   18.5\n",
       "5       10.8       58.4   12.9\n",
       "...      ...        ...    ...\n",
       "196      3.7       13.8    7.6\n",
       "197      4.9        8.1    9.7\n",
       "198      9.3        6.4   12.8\n",
       "199     42.0       66.2   25.5\n",
       "200      8.6        8.7   13.4\n",
       "\n",
       "[198 rows x 3 columns]"
      ]
     },
     "execution_count": 663,
     "metadata": {},
     "output_type": "execute_result"
    }
   ],
   "source": [
    "df_new_z = df[(z<3).all(axis = 1)]\n",
    "df_new_z"
   ]
  },
  {
   "cell_type": "code",
   "execution_count": 664,
   "id": "bc52484e",
   "metadata": {},
   "outputs": [
    {
     "data": {
      "text/plain": [
       "(198, 3)"
      ]
     },
     "execution_count": 664,
     "metadata": {},
     "output_type": "execute_result"
    }
   ],
   "source": [
    "df_new_z.shape"
   ]
  },
  {
   "cell_type": "code",
   "execution_count": 665,
   "id": "77565b91",
   "metadata": {},
   "outputs": [
    {
     "data": {
      "text/plain": [
       "1.0"
      ]
     },
     "execution_count": 665,
     "metadata": {},
     "output_type": "execute_result"
    }
   ],
   "source": [
    "#Data Loss\n",
    "Data_loss = (200-198)/200*100\n",
    "Data_loss"
   ]
  },
  {
   "cell_type": "markdown",
   "id": "77c1ed0d",
   "metadata": {},
   "source": [
    "Separating the columns into features and target"
   ]
  },
  {
   "cell_type": "code",
   "execution_count": 666,
   "id": "132d0046",
   "metadata": {},
   "outputs": [],
   "source": [
    "feature = df_new_z.drop(\"sales\",axis=1)\n",
    "target = df_new_z[\"sales\"]"
   ]
  },
  {
   "cell_type": "code",
   "execution_count": 711,
   "id": "71fced54",
   "metadata": {},
   "outputs": [],
   "source": [
    "from sklearn.linear_model import LinearRegression\n",
    "lr = LinearRegression()\n",
    "\n",
    "\n",
    "from sklearn.metrics import r2_score\n",
    "from sklearn.model_selection import train_test_split\n"
   ]
  },
  {
   "cell_type": "code",
   "execution_count": 712,
   "id": "7e25a6d0",
   "metadata": {},
   "outputs": [],
   "source": [
    "import warnings\n",
    "warnings.filterwarnings('ignore')"
   ]
  },
  {
   "cell_type": "code",
   "execution_count": 713,
   "id": "5ab11f38",
   "metadata": {},
   "outputs": [
    {
     "name": "stdout",
     "output_type": "stream",
     "text": [
      "At random state 0 the training accuracy is : 0.33044204575133107\n",
      "At random state 0 the testing accuracy is : 0.33531898299357776\n",
      "\n",
      "\n",
      "At random state 1 the training accuracy is : 0.30181294050538054\n",
      "At random state 1 the testing accuracy is : 0.417295196950614\n",
      "\n",
      "\n",
      "At random state 2 the training accuracy is : 0.35410235800600076\n",
      "At random state 2 the testing accuracy is : 0.23721909535001207\n",
      "\n",
      "\n",
      "At random state 3 the training accuracy is : 0.32541460402182387\n",
      "At random state 3 the testing accuracy is : 0.34997756103220445\n",
      "\n",
      "\n",
      "At random state 4 the training accuracy is : 0.35086624907057273\n",
      "At random state 4 the testing accuracy is : 0.1995813159391805\n",
      "\n",
      "\n",
      "At random state 5 the training accuracy is : 0.3555860304783759\n",
      "At random state 5 the testing accuracy is : 0.13382799418676683\n",
      "\n",
      "\n",
      "At random state 6 the training accuracy is : 0.33029623118924156\n",
      "At random state 6 the testing accuracy is : 0.3213276051487173\n",
      "\n",
      "\n",
      "At random state 7 the training accuracy is : 0.3348066079796068\n",
      "At random state 7 the testing accuracy is : 0.31860713628716664\n",
      "\n",
      "\n",
      "At random state 8 the training accuracy is : 0.3406258468192318\n",
      "At random state 8 the testing accuracy is : 0.2801441804642104\n",
      "\n",
      "\n",
      "At random state 9 the training accuracy is : 0.31552901770879094\n",
      "At random state 9 the testing accuracy is : 0.3980268540848285\n",
      "\n",
      "\n",
      "At random state 10 the training accuracy is : 0.4133496431692222\n",
      "At random state 10 the testing accuracy is : -0.01280356156434026\n",
      "\n",
      "\n",
      "At random state 11 the training accuracy is : 0.3153700005301022\n",
      "At random state 11 the testing accuracy is : 0.3439782181011022\n",
      "\n",
      "\n",
      "At random state 12 the training accuracy is : 0.3624857389824583\n",
      "At random state 12 the testing accuracy is : 0.18456390114597154\n",
      "\n",
      "\n",
      "At random state 13 the training accuracy is : 0.30712959039226506\n",
      "At random state 13 the testing accuracy is : 0.4369244609691736\n",
      "\n",
      "\n",
      "At random state 14 the training accuracy is : 0.2887109566045497\n",
      "At random state 14 the testing accuracy is : 0.3947946857260842\n",
      "\n",
      "\n",
      "At random state 15 the training accuracy is : 0.3645649274804903\n",
      "At random state 15 the testing accuracy is : 0.17779026407008292\n",
      "\n",
      "\n",
      "At random state 16 the training accuracy is : 0.3310008863682634\n",
      "At random state 16 the testing accuracy is : 0.33147540924110863\n",
      "\n",
      "\n",
      "At random state 17 the training accuracy is : 0.2923213149611953\n",
      "At random state 17 the testing accuracy is : 0.4674250481741785\n",
      "\n",
      "\n",
      "At random state 18 the training accuracy is : 0.3813350265392813\n",
      "At random state 18 the testing accuracy is : 0.13801127967541404\n",
      "\n",
      "\n",
      "At random state 19 the training accuracy is : 0.3206377164634271\n",
      "At random state 19 the testing accuracy is : 0.31721468862433155\n",
      "\n",
      "\n",
      "At random state 20 the training accuracy is : 0.30650193929356606\n",
      "At random state 20 the testing accuracy is : 0.37307662345323167\n",
      "\n",
      "\n",
      "At random state 21 the training accuracy is : 0.3095776877356302\n",
      "At random state 21 the testing accuracy is : 0.3816282048573709\n",
      "\n",
      "\n",
      "At random state 22 the training accuracy is : 0.32303882508348536\n",
      "At random state 22 the testing accuracy is : 0.3639928748073624\n",
      "\n",
      "\n",
      "At random state 23 the training accuracy is : 0.2910980322338713\n",
      "At random state 23 the testing accuracy is : 0.44425781751390914\n",
      "\n",
      "\n",
      "At random state 24 the training accuracy is : 0.28848445573550474\n",
      "At random state 24 the testing accuracy is : 0.4380738558115175\n",
      "\n",
      "\n",
      "At random state 25 the training accuracy is : 0.3357384360230734\n",
      "At random state 25 the testing accuracy is : 0.3214593841960848\n",
      "\n",
      "\n",
      "At random state 26 the training accuracy is : 0.37440312243250295\n",
      "At random state 26 the testing accuracy is : 0.01400456937594674\n",
      "\n",
      "\n",
      "At random state 27 the training accuracy is : 0.3673564728760246\n",
      "At random state 27 the testing accuracy is : 0.11623850331505992\n",
      "\n",
      "\n",
      "At random state 28 the training accuracy is : 0.315784842913977\n",
      "At random state 28 the testing accuracy is : 0.3723168248113272\n",
      "\n",
      "\n",
      "At random state 29 the training accuracy is : 0.3825578556048761\n",
      "At random state 29 the testing accuracy is : 0.1505087427967866\n",
      "\n",
      "\n",
      "At random state 30 the training accuracy is : 0.36215915081228134\n",
      "At random state 30 the testing accuracy is : 0.20180918779234247\n",
      "\n",
      "\n",
      "At random state 31 the training accuracy is : 0.3309337910724752\n",
      "At random state 31 the testing accuracy is : 0.3085727541248243\n",
      "\n",
      "\n",
      "At random state 32 the training accuracy is : 0.32212952468250244\n",
      "At random state 32 the testing accuracy is : 0.3445725897866262\n",
      "\n",
      "\n",
      "At random state 33 the training accuracy is : 0.2684192934578318\n",
      "At random state 33 the testing accuracy is : 0.5281156107859404\n",
      "\n",
      "\n",
      "At random state 34 the training accuracy is : 0.33768598687146467\n",
      "At random state 34 the testing accuracy is : 0.27044019798081065\n",
      "\n",
      "\n",
      "At random state 35 the training accuracy is : 0.33936224183872876\n",
      "At random state 35 the testing accuracy is : 0.2599177307431828\n",
      "\n",
      "\n",
      "At random state 36 the training accuracy is : 0.2997304917740521\n",
      "At random state 36 the testing accuracy is : 0.4361369596674579\n",
      "\n",
      "\n",
      "At random state 37 the training accuracy is : 0.3328897288042988\n",
      "At random state 37 the testing accuracy is : 0.3307316454220214\n",
      "\n",
      "\n",
      "At random state 38 the training accuracy is : 0.31591069727639876\n",
      "At random state 38 the testing accuracy is : 0.3925258524937435\n",
      "\n",
      "\n",
      "At random state 39 the training accuracy is : 0.3846064117924256\n",
      "At random state 39 the testing accuracy is : 0.0774271367964382\n",
      "\n",
      "\n",
      "At random state 40 the training accuracy is : 0.3308580507256964\n",
      "At random state 40 the testing accuracy is : 0.32230085138849895\n",
      "\n",
      "\n",
      "At random state 41 the training accuracy is : 0.31862801308187827\n",
      "At random state 41 the testing accuracy is : 0.2598954895210548\n",
      "\n",
      "\n",
      "At random state 42 the training accuracy is : 0.3328251722379214\n",
      "At random state 42 the testing accuracy is : 0.3284856227869881\n",
      "\n",
      "\n",
      "At random state 43 the training accuracy is : 0.3635025690904704\n",
      "At random state 43 the testing accuracy is : 0.23105872909382874\n",
      "\n",
      "\n",
      "At random state 44 the training accuracy is : 0.37957342258536586\n",
      "At random state 44 the testing accuracy is : -0.19301219541402026\n",
      "\n",
      "\n",
      "At random state 45 the training accuracy is : 0.3418122311093964\n",
      "At random state 45 the testing accuracy is : 0.22628204587442902\n",
      "\n",
      "\n",
      "At random state 46 the training accuracy is : 0.3455541022814784\n",
      "At random state 46 the testing accuracy is : 0.23248179446349926\n",
      "\n",
      "\n",
      "At random state 47 the training accuracy is : 0.33542118341630245\n",
      "At random state 47 the testing accuracy is : 0.3042825245314872\n",
      "\n",
      "\n",
      "At random state 48 the training accuracy is : 0.3207881840726533\n",
      "At random state 48 the testing accuracy is : 0.3635370180259958\n",
      "\n",
      "\n",
      "At random state 49 the training accuracy is : 0.3557126596576269\n",
      "At random state 49 the testing accuracy is : 0.20932645922488025\n",
      "\n",
      "\n",
      "At random state 50 the training accuracy is : 0.30963231570467475\n",
      "At random state 50 the testing accuracy is : 0.4569946176505215\n",
      "\n",
      "\n",
      "At random state 51 the training accuracy is : 0.32290145194493836\n",
      "At random state 51 the testing accuracy is : 0.3245010033985748\n",
      "\n",
      "\n",
      "At random state 52 the training accuracy is : 0.3172412938100527\n",
      "At random state 52 the testing accuracy is : 0.4077958948326642\n",
      "\n",
      "\n",
      "At random state 53 the training accuracy is : 0.35359479089870793\n",
      "At random state 53 the testing accuracy is : 0.1895860642358944\n",
      "\n",
      "\n",
      "At random state 54 the training accuracy is : 0.3550361376087092\n",
      "At random state 54 the testing accuracy is : 0.19882628013122994\n",
      "\n",
      "\n",
      "At random state 55 the training accuracy is : 0.34595570358619643\n",
      "At random state 55 the testing accuracy is : 0.28345891918388066\n",
      "\n",
      "\n",
      "At random state 56 the training accuracy is : 0.3815701254911139\n",
      "At random state 56 the testing accuracy is : 0.11482809883372858\n",
      "\n",
      "\n",
      "At random state 57 the training accuracy is : 0.30254132655454735\n",
      "At random state 57 the testing accuracy is : 0.4186599602623442\n",
      "\n",
      "\n",
      "At random state 58 the training accuracy is : 0.2648297238256082\n",
      "At random state 58 the testing accuracy is : 0.4824433960921368\n",
      "\n",
      "\n",
      "At random state 59 the training accuracy is : 0.31111859548022247\n",
      "At random state 59 the testing accuracy is : 0.38335250882622796\n",
      "\n",
      "\n",
      "At random state 60 the training accuracy is : 0.3352832721091161\n",
      "At random state 60 the testing accuracy is : 0.30543995846680827\n",
      "\n",
      "\n",
      "At random state 61 the training accuracy is : 0.3223133059395855\n",
      "At random state 61 the testing accuracy is : 0.3727343155429017\n",
      "\n",
      "\n",
      "At random state 62 the training accuracy is : 0.3626071024842368\n",
      "At random state 62 the testing accuracy is : 0.0975457201612463\n",
      "\n",
      "\n",
      "At random state 63 the training accuracy is : 0.29284895762478924\n",
      "At random state 63 the testing accuracy is : 0.5071730338271866\n",
      "\n",
      "\n",
      "At random state 64 the training accuracy is : 0.32456199506609085\n",
      "At random state 64 the testing accuracy is : 0.3373292291009786\n",
      "\n",
      "\n",
      "At random state 65 the training accuracy is : 0.3162384392239753\n",
      "At random state 65 the testing accuracy is : 0.3546000041102143\n",
      "\n",
      "\n",
      "At random state 66 the training accuracy is : 0.31778158940179235\n",
      "At random state 66 the testing accuracy is : 0.3665435900600067\n",
      "\n",
      "\n",
      "At random state 67 the training accuracy is : 0.3694327789101193\n",
      "At random state 67 the testing accuracy is : 0.17750761855009445\n",
      "\n",
      "\n",
      "At random state 68 the training accuracy is : 0.32997543876309887\n",
      "At random state 68 the testing accuracy is : 0.33588170459531985\n",
      "\n",
      "\n",
      "At random state 69 the training accuracy is : 0.28536501140439163\n",
      "At random state 69 the testing accuracy is : 0.5145927651235618\n",
      "\n",
      "\n",
      "At random state 70 the training accuracy is : 0.31656737803407764\n",
      "At random state 70 the testing accuracy is : 0.32459656218228994\n",
      "\n",
      "\n",
      "At random state 71 the training accuracy is : 0.37005835746778004\n",
      "At random state 71 the testing accuracy is : 0.09418908999035591\n",
      "\n",
      "\n"
     ]
    },
    {
     "name": "stdout",
     "output_type": "stream",
     "text": [
      "At random state 72 the training accuracy is : 0.30062615336391807\n",
      "At random state 72 the testing accuracy is : 0.4415389231016953\n",
      "\n",
      "\n",
      "At random state 73 the training accuracy is : 0.36418552984367636\n",
      "At random state 73 the testing accuracy is : 0.16818424246173203\n",
      "\n",
      "\n",
      "At random state 74 the training accuracy is : 0.28721875061078916\n",
      "At random state 74 the testing accuracy is : 0.3320854915664585\n",
      "\n",
      "\n",
      "At random state 75 the training accuracy is : 0.3364288210683597\n",
      "At random state 75 the testing accuracy is : 0.2284121512669114\n",
      "\n",
      "\n",
      "At random state 76 the training accuracy is : 0.31310761149414457\n",
      "At random state 76 the testing accuracy is : 0.3985634664043619\n",
      "\n",
      "\n",
      "At random state 77 the training accuracy is : 0.32008911945983265\n",
      "At random state 77 the testing accuracy is : 0.3599170001687674\n",
      "\n",
      "\n",
      "At random state 78 the training accuracy is : 0.39303444890524186\n",
      "At random state 78 the testing accuracy is : -0.047504857930482425\n",
      "\n",
      "\n",
      "At random state 79 the training accuracy is : 0.3220260101365562\n",
      "At random state 79 the testing accuracy is : 0.3302520468251188\n",
      "\n",
      "\n",
      "At random state 80 the training accuracy is : 0.35271712722331994\n",
      "At random state 80 the testing accuracy is : 0.2565486787799951\n",
      "\n",
      "\n",
      "At random state 81 the training accuracy is : 0.32725376437109455\n",
      "At random state 81 the testing accuracy is : 0.32902682408022976\n",
      "\n",
      "\n",
      "At random state 82 the training accuracy is : 0.3115883325586086\n",
      "At random state 82 the testing accuracy is : 0.3553527925751475\n",
      "\n",
      "\n",
      "At random state 83 the training accuracy is : 0.3405289813180311\n",
      "At random state 83 the testing accuracy is : 0.3079261231461352\n",
      "\n",
      "\n",
      "At random state 84 the training accuracy is : 0.32694619938727343\n",
      "At random state 84 the testing accuracy is : 0.3346266058166122\n",
      "\n",
      "\n",
      "At random state 85 the training accuracy is : 0.4050315801750147\n",
      "At random state 85 the testing accuracy is : -0.27196107337960473\n",
      "\n",
      "\n",
      "At random state 86 the training accuracy is : 0.3268847893887572\n",
      "At random state 86 the testing accuracy is : 0.35670165395647613\n",
      "\n",
      "\n",
      "At random state 87 the training accuracy is : 0.3864269830642967\n",
      "At random state 87 the testing accuracy is : 0.08489813238983412\n",
      "\n",
      "\n",
      "At random state 88 the training accuracy is : 0.37352212934835494\n",
      "At random state 88 the testing accuracy is : 0.12574130090708624\n",
      "\n",
      "\n",
      "At random state 89 the training accuracy is : 0.3598514300965572\n",
      "At random state 89 the testing accuracy is : 0.13783718192401895\n",
      "\n",
      "\n",
      "At random state 90 the training accuracy is : 0.32834343987166603\n",
      "At random state 90 the testing accuracy is : 0.33504551659865367\n",
      "\n",
      "\n",
      "At random state 91 the training accuracy is : 0.30181756160230566\n",
      "At random state 91 the testing accuracy is : 0.4060833548707625\n",
      "\n",
      "\n",
      "At random state 92 the training accuracy is : 0.2726935958325787\n",
      "At random state 92 the testing accuracy is : 0.5269420787904959\n",
      "\n",
      "\n",
      "At random state 93 the training accuracy is : 0.3272955087068872\n",
      "At random state 93 the testing accuracy is : 0.3365578727309211\n",
      "\n",
      "\n",
      "At random state 94 the training accuracy is : 0.32972450219553995\n",
      "At random state 94 the testing accuracy is : 0.3351556995046039\n",
      "\n",
      "\n",
      "At random state 95 the training accuracy is : 0.33401003304415144\n",
      "At random state 95 the testing accuracy is : 0.30538424773444517\n",
      "\n",
      "\n",
      "At random state 96 the training accuracy is : 0.3607262086447821\n",
      "At random state 96 the testing accuracy is : 0.15942977257613045\n",
      "\n",
      "\n",
      "At random state 97 the training accuracy is : 0.33802924835119996\n",
      "At random state 97 the testing accuracy is : 0.3060829290377215\n",
      "\n",
      "\n",
      "At random state 98 the training accuracy is : 0.4194145948034128\n",
      "At random state 98 the testing accuracy is : 0.05920785237487536\n",
      "\n",
      "\n",
      "At random state 99 the training accuracy is : 0.2971634752801857\n",
      "At random state 99 the testing accuracy is : 0.42510611454218705\n",
      "\n",
      "\n"
     ]
    }
   ],
   "source": [
    "for i in range(0,100):\n",
    "    features_train,features_test,target_train,target_test = train_test_split(feature,target,test_size = 0.2,random_state = i)\n",
    "    lr.fit(features_train,target_train)\n",
    "    pred_train = lr.predict(features_train)\n",
    "    pred_test = lr.predict(features_test)\n",
    "    print(\"At random state \" + str(i) + \" the training accuracy is : \" + str(r2_score(target_train,pred_train)))\n",
    "    print(\"At random state \" + str(i) + \" the testing accuracy is : \" + str(r2_score(target_test,pred_test)))\n",
    "    print(\"\\n\")"
   ]
  },
  {
   "cell_type": "code",
   "execution_count": 714,
   "id": "5ff17220",
   "metadata": {},
   "outputs": [],
   "source": [
    "features_train,features_test,target_train,target_test = train_test_split(feature,target,test_size = 0.2,random_state = 6)"
   ]
  },
  {
   "cell_type": "code",
   "execution_count": 715,
   "id": "7600bf75",
   "metadata": {},
   "outputs": [
    {
     "data": {
      "text/plain": [
       "LinearRegression()"
      ]
     },
     "execution_count": 715,
     "metadata": {},
     "output_type": "execute_result"
    }
   ],
   "source": [
    "lr.fit(features_train,target_train)"
   ]
  },
  {
   "cell_type": "code",
   "execution_count": 716,
   "id": "79e41e0b",
   "metadata": {},
   "outputs": [],
   "source": [
    "pred_test = lr.predict(features_test)"
   ]
  },
  {
   "cell_type": "code",
   "execution_count": 717,
   "id": "94d52111",
   "metadata": {},
   "outputs": [
    {
     "name": "stdout",
     "output_type": "stream",
     "text": [
      "0.3213276051487173\n"
     ]
    }
   ],
   "source": [
    "print(r2_score(target_test,pred_test))"
   ]
  },
  {
   "cell_type": "markdown",
   "id": "722f1b8c",
   "metadata": {},
   "source": [
    "Cross Validation of model"
   ]
  },
  {
   "cell_type": "code",
   "execution_count": 722,
   "id": "7804be1c",
   "metadata": {},
   "outputs": [],
   "source": [
    "Train_accuracy = r2_score(target_train,pred_train)\n",
    "Test_accuracy = r2_score(target_test,pred_test)"
   ]
  },
  {
   "cell_type": "code",
   "execution_count": 723,
   "id": "ac83fc67",
   "metadata": {},
   "outputs": [
    {
     "name": "stdout",
     "output_type": "stream",
     "text": [
      "At cross fold 2 the cv score is 0.27144898222721753 and accuracy score for training is -0.30162766655071893 and accuracy score for testing is 0.3213276051487173\n",
      "\n",
      "\n",
      "At cross fold 3 the cv score is 0.2922759198365716 and accuracy score for training is -0.30162766655071893 and accuracy score for testing is 0.3213276051487173\n",
      "\n",
      "\n",
      "At cross fold 4 the cv score is 0.29321446397621376 and accuracy score for training is -0.30162766655071893 and accuracy score for testing is 0.3213276051487173\n",
      "\n",
      "\n",
      "At cross fold 5 the cv score is 0.2918375080517156 and accuracy score for training is -0.30162766655071893 and accuracy score for testing is 0.3213276051487173\n",
      "\n",
      "\n",
      "At cross fold 6 the cv score is 0.25986448868661544 and accuracy score for training is -0.30162766655071893 and accuracy score for testing is 0.3213276051487173\n",
      "\n",
      "\n",
      "At cross fold 7 the cv score is 0.252570910888477 and accuracy score for training is -0.30162766655071893 and accuracy score for testing is 0.3213276051487173\n",
      "\n",
      "\n",
      "At cross fold 8 the cv score is 0.2785803274369092 and accuracy score for training is -0.30162766655071893 and accuracy score for testing is 0.3213276051487173\n",
      "\n",
      "\n",
      "At cross fold 9 the cv score is 0.2471802107501806 and accuracy score for training is -0.30162766655071893 and accuracy score for testing is 0.3213276051487173\n",
      "\n",
      "\n"
     ]
    }
   ],
   "source": [
    "from sklearn.model_selection import cross_val_score\n",
    "\n",
    "for j in range(2,10):\n",
    "    cv_score = cross_val_score(lr,feature,target,cv=j)\n",
    "    cv_mean = cv_score.mean()\n",
    "    print(\"At cross fold \" + str(j) + \" the cv score is \" + str(cv_mean) + \" and accuracy score for training is \" + str(Train_accuracy) + \" and accuracy score for testing is \" + str(Test_accuracy))\n",
    "    print(\"\\n\")"
   ]
  },
  {
   "cell_type": "code",
   "execution_count": 724,
   "id": "a69328e3",
   "metadata": {},
   "outputs": [
    {
     "data": {
      "image/png": "[encoded data removed]",
      "text/plain": [
       "<Figure size 576x432 with 1 Axes>"
      ]
     },
     "metadata": {
      "needs_background": "light"
     },
     "output_type": "display_data"
    }
   ],
   "source": [
    "plt.figure(figsize=(8,6))\n",
    "plt.scatter(x=target_test,y=pred_test, color='r')\n",
    "plt.plot(target_test,target_test,color='b')\n",
    "plt.xlabel('Actual Sales')\n",
    "plt.ylabel('Predicted Sales')\n",
    "plt.title('Linear Regression')\n",
    "plt.show()"
   ]
  },
  {
   "cell_type": "markdown",
   "id": "6dbb259a",
   "metadata": {},
   "source": [
    "linear Regression gives not too good result. For better result we need hundreds of thousands of data points"
   ]
  },
  {
   "cell_type": "markdown",
   "id": "2dfb4c57",
   "metadata": {},
   "source": [
    " "
   ]
  },
  {
   "cell_type": "markdown",
   "id": "df3eeb47",
   "metadata": {},
   "source": [
    "Regularization:"
   ]
  },
  {
   "cell_type": "code",
   "execution_count": 725,
   "id": "03a1ed0a",
   "metadata": {},
   "outputs": [],
   "source": [
    "from sklearn.model_selection import GridSearchCV\n",
    "from sklearn.model_selection import cross_val_score\n",
    "import warnings\n",
    "warnings.filterwarnings('ignore')"
   ]
  },
  {
   "cell_type": "code",
   "execution_count": 727,
   "id": "a9dc9393",
   "metadata": {},
   "outputs": [
    {
     "name": "stdout",
     "output_type": "stream",
     "text": [
      "{'alpha': 10, 'random_state': 0}\n"
     ]
    }
   ],
   "source": [
    "from sklearn.linear_model import Lasso\n",
    "parameters = {'alpha':[0.0001,0.001,0.01,0.1,1,10],'random_state':list(range(0,10))}\n",
    "ls=Lasso()\n",
    "clf = GridSearchCV(ls,parameters)\n",
    "clf.fit(features_train,target_train)\n",
    "\n",
    "print(clf.best_params_)"
   ]
  },
  {
   "cell_type": "code",
   "execution_count": 729,
   "id": "c3208da4",
   "metadata": {},
   "outputs": [
    {
     "data": {
      "text/plain": [
       "0.32058613052883334"
      ]
     },
     "execution_count": 729,
     "metadata": {},
     "output_type": "execute_result"
    }
   ],
   "source": [
    "ls = Lasso(alpha = 1, random_state=0)\n",
    "ls.fit(features_train,target_train)\n",
    "ls.score(features_train,target_train)\n",
    "pred_ls = ls.predict(features_test)\n",
    "\n",
    "lss = r2_score(target_test,pred_ls)\n",
    "lss"
   ]
  },
  {
   "cell_type": "code",
   "execution_count": 738,
   "id": "b1b794b5",
   "metadata": {},
   "outputs": [
    {
     "data": {
      "text/plain": [
       "0.2793853266705552"
      ]
     },
     "execution_count": 738,
     "metadata": {},
     "output_type": "execute_result"
    }
   ],
   "source": [
    "cv_score = cross_val_score(ls,feature,target,cv=2)\n",
    "cv_mean =cv_score.mean()\n",
    "cv_mean"
   ]
  },
  {
   "cell_type": "markdown",
   "id": "cfb37a74",
   "metadata": {},
   "source": [
    "Ensemble technique:"
   ]
  },
  {
   "cell_type": "code",
   "execution_count": 740,
   "id": "a21d383f",
   "metadata": {},
   "outputs": [
    {
     "name": "stdout",
     "output_type": "stream",
     "text": [
      "{'criterion': 'mae', 'max_features': 'log2'}\n"
     ]
    }
   ],
   "source": [
    "from sklearn.model_selection import GridSearchCV\n",
    "from sklearn.ensemble import RandomForestRegressor\n",
    "\n",
    "parameters = {'criterion':['mse','mae'], 'max_features': [\"auto\",\"sqrt\",\"log2\"]}\n",
    "rf = RandomForestRegressor()\n",
    "clf = GridSearchCV(rf,parameters)\n",
    "clf.fit(features_train,target_train)\n",
    "\n",
    "print(clf.best_params_)"
   ]
  },
  {
   "cell_type": "code",
   "execution_count": 741,
   "id": "91ed6ac5",
   "metadata": {},
   "outputs": [
    {
     "name": "stdout",
     "output_type": "stream",
     "text": [
      "R2 score:  31.068834094331855\n",
      "Cross Validation score:  27.938532667055522\n"
     ]
    }
   ],
   "source": [
    "rf = RandomForestRegressor(criterion = \"mae\", max_features = \"log2\")\n",
    "rf.fit(features_train,target_train)\n",
    "rf.score(features_train,target_train)\n",
    "pred_decision = rf.predict(features_test)\n",
    "\n",
    "rfs = r2_score(target_test,pred_decision)\n",
    "print('R2 score: ', rfs*100)\n",
    "\n",
    "rfscore = cross_val_score(ls,feature,target,cv=2)\n",
    "rfc =rfscore.mean()\n",
    "rfc\n",
    "print('Cross Validation score: ', rfc*100)"
   ]
  },
  {
   "cell_type": "markdown",
   "id": "88082184",
   "metadata": {},
   "source": [
    "Conclusion : Reason why we are getting so low scores are due to lack of sufficient data"
   ]
  }
 ],
 "metadata": {
  "kernelspec": {
   "display_name": "Python 3 (ipykernel)",
   "language": "python",
   "name": "python3"
  },
  "language_info": {
   "codemirror_mode": {
    "name": "ipython",
    "version": 3
   },
   "file_extension": ".py",
   "mimetype": "text/x-python",
   "name": "python",
   "nbconvert_exporter": "python",
   "pygments_lexer": "ipython3",
   "version": "3.7.11"
  }
 },
 "nbformat": 4,
 "nbformat_minor": 5
}
